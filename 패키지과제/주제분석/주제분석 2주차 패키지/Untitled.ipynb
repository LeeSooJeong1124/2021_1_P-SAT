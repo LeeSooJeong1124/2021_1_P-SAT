{
 "cells": [
  {
   "cell_type": "code",
   "execution_count": 1,
   "metadata": {},
   "outputs": [],
   "source": [
    "import pandas as pd \n",
    "import numpy as np"
   ]
  },
  {
   "cell_type": "markdown",
   "metadata": {},
   "source": [
    "# 1. 데이터 분할\n",
    "## 1.1 데이터 불러오기\n",
    "trian.csv와 test.csv를 불러오세요.\n",
    "\n",
    "- train은 transaction_year가 5 미만인 경우,\n",
    "- test는 transaction_year가 5인 경우입니다. 알아두시면 됩니다."
   ]
  },
  {
   "cell_type": "code",
   "execution_count": 2,
   "metadata": {},
   "outputs": [
    {
     "data": {
      "text/html": [
       "<div>\n",
       "<style scoped>\n",
       "    .dataframe tbody tr th:only-of-type {\n",
       "        vertical-align: middle;\n",
       "    }\n",
       "\n",
       "    .dataframe tbody tr th {\n",
       "        vertical-align: top;\n",
       "    }\n",
       "\n",
       "    .dataframe thead th {\n",
       "        text-align: right;\n",
       "    }\n",
       "</style>\n",
       "<table border=\"1\" class=\"dataframe\">\n",
       "  <thead>\n",
       "    <tr style=\"text-align: right;\">\n",
       "      <th></th>\n",
       "      <th>dong</th>\n",
       "      <th>apt</th>\n",
       "      <th>exclusive_use_area</th>\n",
       "      <th>floor</th>\n",
       "      <th>price</th>\n",
       "      <th>transaction_year</th>\n",
       "      <th>until_trans</th>\n",
       "      <th>sin_date</th>\n",
       "      <th>cos_date</th>\n",
       "    </tr>\n",
       "  </thead>\n",
       "  <tbody>\n",
       "    <tr>\n",
       "      <th>0</th>\n",
       "      <td>사직동</td>\n",
       "      <td>광화문풍림스페이스본(9-0)</td>\n",
       "      <td>95.88</td>\n",
       "      <td>6</td>\n",
       "      <td>70000</td>\n",
       "      <td>0</td>\n",
       "      <td>5</td>\n",
       "      <td>-1.000000e+00</td>\n",
       "      <td>-1.836970e-16</td>\n",
       "    </tr>\n",
       "    <tr>\n",
       "      <th>1</th>\n",
       "      <td>사직동</td>\n",
       "      <td>광화문풍림스페이스본(9-0)</td>\n",
       "      <td>108.55</td>\n",
       "      <td>11</td>\n",
       "      <td>100500</td>\n",
       "      <td>0</td>\n",
       "      <td>5</td>\n",
       "      <td>-2.449294e-16</td>\n",
       "      <td>1.000000e+00</td>\n",
       "    </tr>\n",
       "    <tr>\n",
       "      <th>2</th>\n",
       "      <td>사직동</td>\n",
       "      <td>광화문풍림스페이스본(9-0)</td>\n",
       "      <td>94.51</td>\n",
       "      <td>1</td>\n",
       "      <td>65800</td>\n",
       "      <td>0</td>\n",
       "      <td>5</td>\n",
       "      <td>-2.449294e-16</td>\n",
       "      <td>1.000000e+00</td>\n",
       "    </tr>\n",
       "    <tr>\n",
       "      <th>3</th>\n",
       "      <td>수송동</td>\n",
       "      <td>로얄팰리스스위트</td>\n",
       "      <td>42.87</td>\n",
       "      <td>8</td>\n",
       "      <td>30500</td>\n",
       "      <td>0</td>\n",
       "      <td>8</td>\n",
       "      <td>-1.000000e+00</td>\n",
       "      <td>-1.836970e-16</td>\n",
       "    </tr>\n",
       "    <tr>\n",
       "      <th>4</th>\n",
       "      <td>수송동</td>\n",
       "      <td>로얄팰리스스위트</td>\n",
       "      <td>39.67</td>\n",
       "      <td>15</td>\n",
       "      <td>30500</td>\n",
       "      <td>0</td>\n",
       "      <td>8</td>\n",
       "      <td>1.000000e+00</td>\n",
       "      <td>3.061617e-16</td>\n",
       "    </tr>\n",
       "  </tbody>\n",
       "</table>\n",
       "</div>"
      ],
      "text/plain": [
       "  dong              apt  exclusive_use_area  floor   price  transaction_year  \\\n",
       "0  사직동  광화문풍림스페이스본(9-0)               95.88      6   70000                 0   \n",
       "1  사직동  광화문풍림스페이스본(9-0)              108.55     11  100500                 0   \n",
       "2  사직동  광화문풍림스페이스본(9-0)               94.51      1   65800                 0   \n",
       "3  수송동         로얄팰리스스위트               42.87      8   30500                 0   \n",
       "4  수송동         로얄팰리스스위트               39.67     15   30500                 0   \n",
       "\n",
       "   until_trans      sin_date      cos_date  \n",
       "0            5 -1.000000e+00 -1.836970e-16  \n",
       "1            5 -2.449294e-16  1.000000e+00  \n",
       "2            5 -2.449294e-16  1.000000e+00  \n",
       "3            8 -1.000000e+00 -1.836970e-16  \n",
       "4            8  1.000000e+00  3.061617e-16  "
      ]
     },
     "execution_count": 2,
     "metadata": {},
     "output_type": "execute_result"
    }
   ],
   "source": [
    "train=pd.read_csv(\"train.csv\")\n",
    "test=pd.read_csv(\"test.csv\")\n",
    "train.head()"
   ]
  },
  {
   "cell_type": "markdown",
   "metadata": {},
   "source": [
    "## 1.2 단위 수정\n",
    "x와 y도 분리해두세요.\n",
    "- train에만 일단 적용해주세요. 우린 아직 test데이터를 보지 못했습니다."
   ]
  },
  {
   "cell_type": "code",
   "execution_count": 3,
   "metadata": {},
   "outputs": [
    {
     "data": {
      "text/html": [
       "<div>\n",
       "<style scoped>\n",
       "    .dataframe tbody tr th:only-of-type {\n",
       "        vertical-align: middle;\n",
       "    }\n",
       "\n",
       "    .dataframe tbody tr th {\n",
       "        vertical-align: top;\n",
       "    }\n",
       "\n",
       "    .dataframe thead th {\n",
       "        text-align: right;\n",
       "    }\n",
       "</style>\n",
       "<table border=\"1\" class=\"dataframe\">\n",
       "  <thead>\n",
       "    <tr style=\"text-align: right;\">\n",
       "      <th></th>\n",
       "      <th>dong</th>\n",
       "      <th>apt</th>\n",
       "      <th>exclusive_use_area</th>\n",
       "      <th>floor</th>\n",
       "      <th>transaction_year</th>\n",
       "      <th>until_trans</th>\n",
       "      <th>sin_date</th>\n",
       "      <th>cos_date</th>\n",
       "    </tr>\n",
       "  </thead>\n",
       "  <tbody>\n",
       "    <tr>\n",
       "      <th>0</th>\n",
       "      <td>사직동</td>\n",
       "      <td>광화문풍림스페이스본(9-0)</td>\n",
       "      <td>95.88</td>\n",
       "      <td>6</td>\n",
       "      <td>0</td>\n",
       "      <td>5</td>\n",
       "      <td>-1.000000e+00</td>\n",
       "      <td>-1.836970e-16</td>\n",
       "    </tr>\n",
       "    <tr>\n",
       "      <th>1</th>\n",
       "      <td>사직동</td>\n",
       "      <td>광화문풍림스페이스본(9-0)</td>\n",
       "      <td>108.55</td>\n",
       "      <td>11</td>\n",
       "      <td>0</td>\n",
       "      <td>5</td>\n",
       "      <td>-2.449294e-16</td>\n",
       "      <td>1.000000e+00</td>\n",
       "    </tr>\n",
       "    <tr>\n",
       "      <th>2</th>\n",
       "      <td>사직동</td>\n",
       "      <td>광화문풍림스페이스본(9-0)</td>\n",
       "      <td>94.51</td>\n",
       "      <td>1</td>\n",
       "      <td>0</td>\n",
       "      <td>5</td>\n",
       "      <td>-2.449294e-16</td>\n",
       "      <td>1.000000e+00</td>\n",
       "    </tr>\n",
       "    <tr>\n",
       "      <th>3</th>\n",
       "      <td>수송동</td>\n",
       "      <td>로얄팰리스스위트</td>\n",
       "      <td>42.87</td>\n",
       "      <td>8</td>\n",
       "      <td>0</td>\n",
       "      <td>8</td>\n",
       "      <td>-1.000000e+00</td>\n",
       "      <td>-1.836970e-16</td>\n",
       "    </tr>\n",
       "    <tr>\n",
       "      <th>4</th>\n",
       "      <td>수송동</td>\n",
       "      <td>로얄팰리스스위트</td>\n",
       "      <td>39.67</td>\n",
       "      <td>15</td>\n",
       "      <td>0</td>\n",
       "      <td>8</td>\n",
       "      <td>1.000000e+00</td>\n",
       "      <td>3.061617e-16</td>\n",
       "    </tr>\n",
       "    <tr>\n",
       "      <th>...</th>\n",
       "      <td>...</td>\n",
       "      <td>...</td>\n",
       "      <td>...</td>\n",
       "      <td>...</td>\n",
       "      <td>...</td>\n",
       "      <td>...</td>\n",
       "      <td>...</td>\n",
       "      <td>...</td>\n",
       "    </tr>\n",
       "    <tr>\n",
       "      <th>422159</th>\n",
       "      <td>강일동</td>\n",
       "      <td>강일리버파크2단지</td>\n",
       "      <td>84.74</td>\n",
       "      <td>6</td>\n",
       "      <td>4</td>\n",
       "      <td>8</td>\n",
       "      <td>-2.204364e-15</td>\n",
       "      <td>1.000000e+00</td>\n",
       "    </tr>\n",
       "    <tr>\n",
       "      <th>422160</th>\n",
       "      <td>강일동</td>\n",
       "      <td>고덕리엔파크2단지</td>\n",
       "      <td>59.83</td>\n",
       "      <td>7</td>\n",
       "      <td>4</td>\n",
       "      <td>6</td>\n",
       "      <td>1.000000e+00</td>\n",
       "      <td>4.892397e-16</td>\n",
       "    </tr>\n",
       "    <tr>\n",
       "      <th>422161</th>\n",
       "      <td>강일동</td>\n",
       "      <td>강일리버파크5단지</td>\n",
       "      <td>59.87</td>\n",
       "      <td>1</td>\n",
       "      <td>4</td>\n",
       "      <td>8</td>\n",
       "      <td>1.000000e+00</td>\n",
       "      <td>4.892397e-16</td>\n",
       "    </tr>\n",
       "    <tr>\n",
       "      <th>422162</th>\n",
       "      <td>강일동</td>\n",
       "      <td>강일리버파크4단지</td>\n",
       "      <td>84.83</td>\n",
       "      <td>9</td>\n",
       "      <td>4</td>\n",
       "      <td>8</td>\n",
       "      <td>5.879543e-15</td>\n",
       "      <td>-1.000000e+00</td>\n",
       "    </tr>\n",
       "    <tr>\n",
       "      <th>422163</th>\n",
       "      <td>강일동</td>\n",
       "      <td>강일리버파크9단지</td>\n",
       "      <td>84.74</td>\n",
       "      <td>13</td>\n",
       "      <td>4</td>\n",
       "      <td>8</td>\n",
       "      <td>5.879543e-15</td>\n",
       "      <td>-1.000000e+00</td>\n",
       "    </tr>\n",
       "  </tbody>\n",
       "</table>\n",
       "<p>422164 rows × 8 columns</p>\n",
       "</div>"
      ],
      "text/plain": [
       "       dong              apt  exclusive_use_area  floor  transaction_year  \\\n",
       "0       사직동  광화문풍림스페이스본(9-0)               95.88      6                 0   \n",
       "1       사직동  광화문풍림스페이스본(9-0)              108.55     11                 0   \n",
       "2       사직동  광화문풍림스페이스본(9-0)               94.51      1                 0   \n",
       "3       수송동         로얄팰리스스위트               42.87      8                 0   \n",
       "4       수송동         로얄팰리스스위트               39.67     15                 0   \n",
       "...     ...              ...                 ...    ...               ...   \n",
       "422159  강일동        강일리버파크2단지               84.74      6                 4   \n",
       "422160  강일동        고덕리엔파크2단지               59.83      7                 4   \n",
       "422161  강일동        강일리버파크5단지               59.87      1                 4   \n",
       "422162  강일동        강일리버파크4단지               84.83      9                 4   \n",
       "422163  강일동        강일리버파크9단지               84.74     13                 4   \n",
       "\n",
       "        until_trans      sin_date      cos_date  \n",
       "0                 5 -1.000000e+00 -1.836970e-16  \n",
       "1                 5 -2.449294e-16  1.000000e+00  \n",
       "2                 5 -2.449294e-16  1.000000e+00  \n",
       "3                 8 -1.000000e+00 -1.836970e-16  \n",
       "4                 8  1.000000e+00  3.061617e-16  \n",
       "...             ...           ...           ...  \n",
       "422159            8 -2.204364e-15  1.000000e+00  \n",
       "422160            6  1.000000e+00  4.892397e-16  \n",
       "422161            8  1.000000e+00  4.892397e-16  \n",
       "422162            8  5.879543e-15 -1.000000e+00  \n",
       "422163            8  5.879543e-15 -1.000000e+00  \n",
       "\n",
       "[422164 rows x 8 columns]"
      ]
     },
     "execution_count": 3,
     "metadata": {},
     "output_type": "execute_result"
    }
   ],
   "source": [
    "y=train[['price']]\n",
    "y\n",
    "X=train.drop(['price'],axis=1)\n",
    "X"
   ]
  },
  {
   "cell_type": "markdown",
   "metadata": {},
   "source": [
    "## 1.3 validation set 분할 - 첫번째\n",
    "- 사이킷런의 train_test_split을 통해 train데이터를 8:2로 validation set을 만들어주세요.\n",
    "- 즉 train중에서 train/val이 있고, test set이 따로 존재합니다.\n",
    "- test set은 전처리 과정에서 절대 사용되지 않을 예정입니다"
   ]
  },
  {
   "cell_type": "code",
   "execution_count": 4,
   "metadata": {},
   "outputs": [],
   "source": [
    "from sklearn.model_selection import train_test_split"
   ]
  },
  {
   "cell_type": "code",
   "execution_count": 5,
   "metadata": {},
   "outputs": [],
   "source": [
    "X_train, X_valid, y_train, y_valid=train_test_split(X,y, test_size=0.2, random_state=42)"
   ]
  },
  {
   "cell_type": "markdown",
   "metadata": {},
   "source": [
    "## 1.4 질문\n",
    "- 이렇게 데이터를 나눌 경우 어떤 문제가 발생할 수 있을까요?\n",
    "- 힌트) 현재 데이터는 관측된 시간이 존재합니다"
   ]
  },
  {
   "cell_type": "markdown",
   "metadata": {},
   "source": [
    "답: train 데이터가 특정 시간에 몰릴 경우, 즉 각 특징들의 알맞은 비율만큼 푸풀되지 않는 경우 예측에 문제가 발생할 수 있다"
   ]
  },
  {
   "cell_type": "markdown",
   "metadata": {},
   "source": [
    "## 1.5 validation set 분할 - 두번째\n",
    "transaction_year == 4인 행을 validation으로 지정해서 분할하세요."
   ]
  },
  {
   "cell_type": "code",
   "execution_count": 6,
   "metadata": {
    "scrolled": false
   },
   "outputs": [
    {
     "data": {
      "text/html": [
       "<div>\n",
       "<style scoped>\n",
       "    .dataframe tbody tr th:only-of-type {\n",
       "        vertical-align: middle;\n",
       "    }\n",
       "\n",
       "    .dataframe tbody tr th {\n",
       "        vertical-align: top;\n",
       "    }\n",
       "\n",
       "    .dataframe thead th {\n",
       "        text-align: right;\n",
       "    }\n",
       "</style>\n",
       "<table border=\"1\" class=\"dataframe\">\n",
       "  <thead>\n",
       "    <tr style=\"text-align: right;\">\n",
       "      <th></th>\n",
       "      <th>dong</th>\n",
       "      <th>apt</th>\n",
       "      <th>exclusive_use_area</th>\n",
       "      <th>floor</th>\n",
       "      <th>transaction_year</th>\n",
       "      <th>until_trans</th>\n",
       "      <th>sin_date</th>\n",
       "      <th>cos_date</th>\n",
       "    </tr>\n",
       "  </thead>\n",
       "  <tbody>\n",
       "    <tr>\n",
       "      <th>401216</th>\n",
       "      <td>천호동</td>\n",
       "      <td>동아하이빌</td>\n",
       "      <td>114.980</td>\n",
       "      <td>17</td>\n",
       "      <td>0</td>\n",
       "      <td>13</td>\n",
       "      <td>-1.000000e+00</td>\n",
       "      <td>-3.184701e-15</td>\n",
       "    </tr>\n",
       "    <tr>\n",
       "      <th>179939</th>\n",
       "      <td>홍은동</td>\n",
       "      <td>유원</td>\n",
       "      <td>54.540</td>\n",
       "      <td>4</td>\n",
       "      <td>3</td>\n",
       "      <td>29</td>\n",
       "      <td>-1.224647e-15</td>\n",
       "      <td>1.000000e+00</td>\n",
       "    </tr>\n",
       "    <tr>\n",
       "      <th>231270</th>\n",
       "      <td>방화동</td>\n",
       "      <td>청솔</td>\n",
       "      <td>59.040</td>\n",
       "      <td>6</td>\n",
       "      <td>2</td>\n",
       "      <td>21</td>\n",
       "      <td>1.000000e+00</td>\n",
       "      <td>-6.861117e-15</td>\n",
       "    </tr>\n",
       "    <tr>\n",
       "      <th>113810</th>\n",
       "      <td>쌍문동</td>\n",
       "      <td>한양2</td>\n",
       "      <td>35.100</td>\n",
       "      <td>5</td>\n",
       "      <td>4</td>\n",
       "      <td>28</td>\n",
       "      <td>1.102182e-15</td>\n",
       "      <td>-1.000000e+00</td>\n",
       "    </tr>\n",
       "    <tr>\n",
       "      <th>120620</th>\n",
       "      <td>중계동</td>\n",
       "      <td>동진</td>\n",
       "      <td>47.610</td>\n",
       "      <td>3</td>\n",
       "      <td>0</td>\n",
       "      <td>25</td>\n",
       "      <td>1.000000e+00</td>\n",
       "      <td>-6.861117e-15</td>\n",
       "    </tr>\n",
       "    <tr>\n",
       "      <th>...</th>\n",
       "      <td>...</td>\n",
       "      <td>...</td>\n",
       "      <td>...</td>\n",
       "      <td>...</td>\n",
       "      <td>...</td>\n",
       "      <td>...</td>\n",
       "      <td>...</td>\n",
       "      <td>...</td>\n",
       "    </tr>\n",
       "    <tr>\n",
       "      <th>259178</th>\n",
       "      <td>온수동</td>\n",
       "      <td>온수힐스테이트</td>\n",
       "      <td>59.960</td>\n",
       "      <td>4</td>\n",
       "      <td>3</td>\n",
       "      <td>6</td>\n",
       "      <td>-7.347881e-16</td>\n",
       "      <td>1.000000e+00</td>\n",
       "    </tr>\n",
       "    <tr>\n",
       "      <th>365838</th>\n",
       "      <td>대치동</td>\n",
       "      <td>은마</td>\n",
       "      <td>84.430</td>\n",
       "      <td>11</td>\n",
       "      <td>4</td>\n",
       "      <td>37</td>\n",
       "      <td>-7.347881e-16</td>\n",
       "      <td>1.000000e+00</td>\n",
       "    </tr>\n",
       "    <tr>\n",
       "      <th>131932</th>\n",
       "      <td>월계동</td>\n",
       "      <td>삼창</td>\n",
       "      <td>77.840</td>\n",
       "      <td>11</td>\n",
       "      <td>2</td>\n",
       "      <td>31</td>\n",
       "      <td>-1.000000e+00</td>\n",
       "      <td>-3.184701e-15</td>\n",
       "    </tr>\n",
       "    <tr>\n",
       "      <th>146867</th>\n",
       "      <td>중계동</td>\n",
       "      <td>중계무지개</td>\n",
       "      <td>39.820</td>\n",
       "      <td>4</td>\n",
       "      <td>3</td>\n",
       "      <td>25</td>\n",
       "      <td>5.389684e-15</td>\n",
       "      <td>-1.000000e+00</td>\n",
       "    </tr>\n",
       "    <tr>\n",
       "      <th>121958</th>\n",
       "      <td>월계동</td>\n",
       "      <td>롯데캐슬루나</td>\n",
       "      <td>84.985</td>\n",
       "      <td>9</td>\n",
       "      <td>1</td>\n",
       "      <td>8</td>\n",
       "      <td>6.123234e-16</td>\n",
       "      <td>-1.000000e+00</td>\n",
       "    </tr>\n",
       "  </tbody>\n",
       "</table>\n",
       "<p>337731 rows × 8 columns</p>\n",
       "</div>"
      ],
      "text/plain": [
       "       dong      apt  exclusive_use_area  floor  transaction_year  \\\n",
       "401216  천호동    동아하이빌             114.980     17                 0   \n",
       "179939  홍은동       유원              54.540      4                 3   \n",
       "231270  방화동       청솔              59.040      6                 2   \n",
       "113810  쌍문동      한양2              35.100      5                 4   \n",
       "120620  중계동       동진              47.610      3                 0   \n",
       "...     ...      ...                 ...    ...               ...   \n",
       "259178  온수동  온수힐스테이트              59.960      4                 3   \n",
       "365838  대치동       은마              84.430     11                 4   \n",
       "131932  월계동       삼창              77.840     11                 2   \n",
       "146867  중계동    중계무지개              39.820      4                 3   \n",
       "121958  월계동   롯데캐슬루나              84.985      9                 1   \n",
       "\n",
       "        until_trans      sin_date      cos_date  \n",
       "401216           13 -1.000000e+00 -3.184701e-15  \n",
       "179939           29 -1.224647e-15  1.000000e+00  \n",
       "231270           21  1.000000e+00 -6.861117e-15  \n",
       "113810           28  1.102182e-15 -1.000000e+00  \n",
       "120620           25  1.000000e+00 -6.861117e-15  \n",
       "...             ...           ...           ...  \n",
       "259178            6 -7.347881e-16  1.000000e+00  \n",
       "365838           37 -7.347881e-16  1.000000e+00  \n",
       "131932           31 -1.000000e+00 -3.184701e-15  \n",
       "146867           25  5.389684e-15 -1.000000e+00  \n",
       "121958            8  6.123234e-16 -1.000000e+00  \n",
       "\n",
       "[337731 rows x 8 columns]"
      ]
     },
     "execution_count": 6,
     "metadata": {},
     "output_type": "execute_result"
    }
   ],
   "source": [
    "X_train"
   ]
  },
  {
   "cell_type": "code",
   "execution_count": 7,
   "metadata": {},
   "outputs": [],
   "source": [
    "is_four = train['transaction_year'] == 4\n",
    "validation=train[is_four]\n",
    "validation_y=validation[['price']]\n",
    "validation_X=validation.drop(['price'],axis=1)\n",
    "\n",
    "\n",
    "\n",
    "not_four=train['transaction_year'] != 4\n",
    "train=train[not_four]\n",
    "train_y=train[['price']]\n",
    "train_X=train.drop(['price'],axis=1)\n"
   ]
  },
  {
   "cell_type": "markdown",
   "metadata": {},
   "source": [
    "## 1.5 캣부스트 인코딩 전에\n",
    "일단 캣부스트 인코딩을 위해 다음을 설치하세요"
   ]
  },
  {
   "cell_type": "code",
   "execution_count": 10,
   "metadata": {},
   "outputs": [
    {
     "name": "stdout",
     "output_type": "stream",
     "text": [
      "Collecting category_encoders\n",
      "  Using cached category_encoders-2.2.2-py2.py3-none-any.whl (80 kB)\n",
      "Requirement already satisfied: patsy>=0.5.1 in c:\\users\\user\\anaconda3\\lib\\site-packages (from category_encoders) (0.5.1)\n",
      "Requirement already satisfied: pandas>=0.21.1 in c:\\users\\user\\anaconda3\\lib\\site-packages (from category_encoders) (1.1.3)\n",
      "Requirement already satisfied: scikit-learn>=0.20.0 in c:\\users\\user\\anaconda3\\lib\\site-packages (from category_encoders) (0.23.2)\n",
      "Requirement already satisfied: numpy>=1.14.0 in c:\\users\\user\\anaconda3\\lib\\site-packages (from category_encoders) (1.19.2)\n",
      "Requirement already satisfied: statsmodels>=0.9.0 in c:\\users\\user\\anaconda3\\lib\\site-packages (from category_encoders) (0.12.0)\n",
      "Requirement already satisfied: scipy>=1.0.0 in c:\\users\\user\\anaconda3\\lib\\site-packages (from category_encoders) (1.5.2)\n",
      "Requirement already satisfied: six in c:\\users\\user\\anaconda3\\lib\\site-packages (from patsy>=0.5.1->category_encoders) (1.15.0)\n",
      "Requirement already satisfied: python-dateutil>=2.7.3 in c:\\users\\user\\anaconda3\\lib\\site-packages (from pandas>=0.21.1->category_encoders) (2.8.1)\n",
      "Requirement already satisfied: pytz>=2017.2 in c:\\users\\user\\anaconda3\\lib\\site-packages (from pandas>=0.21.1->category_encoders) (2020.1)\n",
      "Requirement already satisfied: joblib>=0.11 in c:\\users\\user\\anaconda3\\lib\\site-packages (from scikit-learn>=0.20.0->category_encoders) (0.17.0)\n",
      "Requirement already satisfied: threadpoolctl>=2.0.0 in c:\\users\\user\\anaconda3\\lib\\site-packages (from scikit-learn>=0.20.0->category_encoders) (2.1.0)\n",
      "Installing collected packages: category-encoders\n",
      "Successfully installed category-encoders-2.2.2\n"
     ]
    }
   ],
   "source": [
    "! pip install category_encoders"
   ]
  },
  {
   "cell_type": "code",
   "execution_count": 11,
   "metadata": {},
   "outputs": [],
   "source": [
    "from category_encoders.cat_boost import CatBoostEncoder\n",
    "import category_encoders as ce"
   ]
  },
  {
   "cell_type": "markdown",
   "metadata": {},
   "source": [
    "## 1.6 캣부스트 인코딩\n",
    "- 방금까지 trainset을 분할했죠? 그 분할된 것을 캣부스트 인코딩의 인자로 받을 겁니다.\n",
    "- train에서 분할된 train을 인코딩을 위한 학습으로 사용해서, 이를 validation_x에 적용합니다.\n",
    "- 해당 결과를 head()를 통해 보여주세요"
   ]
  },
  {
   "cell_type": "code",
   "execution_count": 12,
   "metadata": {},
   "outputs": [],
   "source": [
    "# Define train and target\n",
    "#target = train[['grade']]\n",
    "#train = train.drop('grade', axis = 1)\n",
    "  \n",
    "# Define catboost encoder\n",
    "cbe_encoder = ce.cat_boost.CatBoostEncoder()\n",
    "  \n",
    "# Fit encoder and transform the features\n",
    "cbe_encoder.fit(train_X, train_y)\n",
    "val_cbe = cbe_encoder.transform(validation_X)\n",
    "\n",
    "#https://www.geeksforgeeks.org/categorical-encoding-with-catboost-encoder/"
   ]
  },
  {
   "cell_type": "code",
   "execution_count": 13,
   "metadata": {},
   "outputs": [
    {
     "data": {
      "text/html": [
       "<div>\n",
       "<style scoped>\n",
       "    .dataframe tbody tr th:only-of-type {\n",
       "        vertical-align: middle;\n",
       "    }\n",
       "\n",
       "    .dataframe tbody tr th {\n",
       "        vertical-align: top;\n",
       "    }\n",
       "\n",
       "    .dataframe thead th {\n",
       "        text-align: right;\n",
       "    }\n",
       "</style>\n",
       "<table border=\"1\" class=\"dataframe\">\n",
       "  <thead>\n",
       "    <tr style=\"text-align: right;\">\n",
       "      <th></th>\n",
       "      <th>dong</th>\n",
       "      <th>apt</th>\n",
       "      <th>exclusive_use_area</th>\n",
       "      <th>floor</th>\n",
       "      <th>transaction_year</th>\n",
       "      <th>until_trans</th>\n",
       "      <th>sin_date</th>\n",
       "      <th>cos_date</th>\n",
       "    </tr>\n",
       "  </thead>\n",
       "  <tbody>\n",
       "    <tr>\n",
       "      <th>2451</th>\n",
       "      <td>89176.597368</td>\n",
       "      <td>86280.203194</td>\n",
       "      <td>107.91</td>\n",
       "      <td>14</td>\n",
       "      <td>4</td>\n",
       "      <td>9</td>\n",
       "      <td>-1.000000e+00</td>\n",
       "      <td>-1.836970e-16</td>\n",
       "    </tr>\n",
       "    <tr>\n",
       "      <th>2452</th>\n",
       "      <td>89176.597368</td>\n",
       "      <td>86280.203194</td>\n",
       "      <td>151.81</td>\n",
       "      <td>10</td>\n",
       "      <td>4</td>\n",
       "      <td>9</td>\n",
       "      <td>-1.000000e+00</td>\n",
       "      <td>-1.836970e-16</td>\n",
       "    </tr>\n",
       "    <tr>\n",
       "      <th>2453</th>\n",
       "      <td>89176.597368</td>\n",
       "      <td>86280.203194</td>\n",
       "      <td>94.51</td>\n",
       "      <td>2</td>\n",
       "      <td>4</td>\n",
       "      <td>9</td>\n",
       "      <td>-2.449294e-16</td>\n",
       "      <td>1.000000e+00</td>\n",
       "    </tr>\n",
       "    <tr>\n",
       "      <th>2454</th>\n",
       "      <td>89176.597368</td>\n",
       "      <td>86280.203194</td>\n",
       "      <td>94.28</td>\n",
       "      <td>12</td>\n",
       "      <td>4</td>\n",
       "      <td>9</td>\n",
       "      <td>-2.449294e-16</td>\n",
       "      <td>1.000000e+00</td>\n",
       "    </tr>\n",
       "    <tr>\n",
       "      <th>2455</th>\n",
       "      <td>103789.156533</td>\n",
       "      <td>107170.755379</td>\n",
       "      <td>145.96</td>\n",
       "      <td>13</td>\n",
       "      <td>4</td>\n",
       "      <td>13</td>\n",
       "      <td>-1.000000e+00</td>\n",
       "      <td>-1.836970e-16</td>\n",
       "    </tr>\n",
       "  </tbody>\n",
       "</table>\n",
       "</div>"
      ],
      "text/plain": [
       "               dong            apt  exclusive_use_area  floor  \\\n",
       "2451   89176.597368   86280.203194              107.91     14   \n",
       "2452   89176.597368   86280.203194              151.81     10   \n",
       "2453   89176.597368   86280.203194               94.51      2   \n",
       "2454   89176.597368   86280.203194               94.28     12   \n",
       "2455  103789.156533  107170.755379              145.96     13   \n",
       "\n",
       "      transaction_year  until_trans      sin_date      cos_date  \n",
       "2451                 4            9 -1.000000e+00 -1.836970e-16  \n",
       "2452                 4            9 -1.000000e+00 -1.836970e-16  \n",
       "2453                 4            9 -2.449294e-16  1.000000e+00  \n",
       "2454                 4            9 -2.449294e-16  1.000000e+00  \n",
       "2455                 4           13 -1.000000e+00 -1.836970e-16  "
      ]
     },
     "execution_count": 13,
     "metadata": {},
     "output_type": "execute_result"
    }
   ],
   "source": [
    "val_cbe.head()"
   ]
  },
  {
   "cell_type": "code",
   "execution_count": 14,
   "metadata": {},
   "outputs": [],
   "source": [
    "train_cbe=cbe_encoder.transform(train_X)"
   ]
  },
  {
   "cell_type": "markdown",
   "metadata": {},
   "source": [
    "## 2. 릿지 회귀 (Ridge Regression)\n",
    "성능이 좋다고 알려진 부스팅모델 두개 하려다가, 그냥 릿지로 선회했습니다"
   ]
  },
  {
   "cell_type": "code",
   "execution_count": 15,
   "metadata": {},
   "outputs": [
    {
     "name": "stdout",
     "output_type": "stream",
     "text": [
      "훈련 세트의 정확도 : 0.86\n",
      "테스트 세트의 정확도 : 0.82\n"
     ]
    }
   ],
   "source": [
    "from sklearn.linear_model import Ridge\n",
    "\n",
    "ridge = Ridge().fit(train_cbe, train_y)\n",
    "\n",
    "print(\"훈련 세트의 정확도 : {:.2f}\".format(ridge.score(train_cbe,train_y)))\n",
    "\n",
    "print(\"테스트 세트의 정확도 : {:.2f}\".format(ridge.score(val_cbe,validation_y)))\n",
    "#https://blog.naver.com/PostView.nhn?blogId=ssdyka&logNo=221231456916"
   ]
  },
  {
   "cell_type": "markdown",
   "metadata": {},
   "source": [
    "## 2.1 상관계수 플랏\n",
    "- 캣부스트 인코딩을 시행한 튜닝을 위한 trainset에 대해 상관계수플랏을 그리세요.\n",
    "- 해석해주세요. 릿지 회귀가 잘 작동할까요?"
   ]
  },
  {
   "cell_type": "code",
   "execution_count": 16,
   "metadata": {},
   "outputs": [
    {
     "data": {
      "image/png": "[encoded data removed]",
      "text/plain": [
       "<Figure size 432x288 with 2 Axes>"
      ]
     },
     "metadata": {
      "needs_background": "light"
     },
     "output_type": "display_data"
    },
    {
     "data": {
      "text/html": [
       "<div>\n",
       "<style scoped>\n",
       "    .dataframe tbody tr th:only-of-type {\n",
       "        vertical-align: middle;\n",
       "    }\n",
       "\n",
       "    .dataframe tbody tr th {\n",
       "        vertical-align: top;\n",
       "    }\n",
       "\n",
       "    .dataframe thead th {\n",
       "        text-align: right;\n",
       "    }\n",
       "</style>\n",
       "<table border=\"1\" class=\"dataframe\">\n",
       "  <thead>\n",
       "    <tr style=\"text-align: right;\">\n",
       "      <th></th>\n",
       "      <th>dong</th>\n",
       "      <th>apt</th>\n",
       "      <th>exclusive_use_area</th>\n",
       "      <th>floor</th>\n",
       "      <th>transaction_year</th>\n",
       "      <th>until_trans</th>\n",
       "      <th>sin_date</th>\n",
       "      <th>cos_date</th>\n",
       "      <th>price</th>\n",
       "    </tr>\n",
       "  </thead>\n",
       "  <tbody>\n",
       "    <tr>\n",
       "      <th>0</th>\n",
       "      <td>89176.597368</td>\n",
       "      <td>86280.203194</td>\n",
       "      <td>95.88</td>\n",
       "      <td>6</td>\n",
       "      <td>0</td>\n",
       "      <td>5</td>\n",
       "      <td>-1.000000e+00</td>\n",
       "      <td>-1.836970e-16</td>\n",
       "      <td>70000</td>\n",
       "    </tr>\n",
       "    <tr>\n",
       "      <th>1</th>\n",
       "      <td>89176.597368</td>\n",
       "      <td>86280.203194</td>\n",
       "      <td>108.55</td>\n",
       "      <td>11</td>\n",
       "      <td>0</td>\n",
       "      <td>5</td>\n",
       "      <td>-2.449294e-16</td>\n",
       "      <td>1.000000e+00</td>\n",
       "      <td>100500</td>\n",
       "    </tr>\n",
       "    <tr>\n",
       "      <th>2</th>\n",
       "      <td>89176.597368</td>\n",
       "      <td>86280.203194</td>\n",
       "      <td>94.51</td>\n",
       "      <td>1</td>\n",
       "      <td>0</td>\n",
       "      <td>5</td>\n",
       "      <td>-2.449294e-16</td>\n",
       "      <td>1.000000e+00</td>\n",
       "      <td>65800</td>\n",
       "    </tr>\n",
       "    <tr>\n",
       "      <th>3</th>\n",
       "      <td>36772.527903</td>\n",
       "      <td>36772.527903</td>\n",
       "      <td>42.87</td>\n",
       "      <td>8</td>\n",
       "      <td>0</td>\n",
       "      <td>8</td>\n",
       "      <td>-1.000000e+00</td>\n",
       "      <td>-1.836970e-16</td>\n",
       "      <td>30500</td>\n",
       "    </tr>\n",
       "    <tr>\n",
       "      <th>4</th>\n",
       "      <td>36772.527903</td>\n",
       "      <td>36772.527903</td>\n",
       "      <td>39.67</td>\n",
       "      <td>15</td>\n",
       "      <td>0</td>\n",
       "      <td>8</td>\n",
       "      <td>1.000000e+00</td>\n",
       "      <td>3.061617e-16</td>\n",
       "      <td>30500</td>\n",
       "    </tr>\n",
       "    <tr>\n",
       "      <th>...</th>\n",
       "      <td>...</td>\n",
       "      <td>...</td>\n",
       "      <td>...</td>\n",
       "      <td>...</td>\n",
       "      <td>...</td>\n",
       "      <td>...</td>\n",
       "      <td>...</td>\n",
       "      <td>...</td>\n",
       "      <td>...</td>\n",
       "    </tr>\n",
       "    <tr>\n",
       "      <th>416312</th>\n",
       "      <td>41897.713781</td>\n",
       "      <td>43050.956617</td>\n",
       "      <td>84.74</td>\n",
       "      <td>9</td>\n",
       "      <td>3</td>\n",
       "      <td>7</td>\n",
       "      <td>5.879543e-15</td>\n",
       "      <td>-1.000000e+00</td>\n",
       "      <td>45500</td>\n",
       "    </tr>\n",
       "    <tr>\n",
       "      <th>416313</th>\n",
       "      <td>41897.713781</td>\n",
       "      <td>41799.433128</td>\n",
       "      <td>84.53</td>\n",
       "      <td>7</td>\n",
       "      <td>3</td>\n",
       "      <td>7</td>\n",
       "      <td>5.879543e-15</td>\n",
       "      <td>-1.000000e+00</td>\n",
       "      <td>44000</td>\n",
       "    </tr>\n",
       "    <tr>\n",
       "      <th>416314</th>\n",
       "      <td>41897.713781</td>\n",
       "      <td>38541.570789</td>\n",
       "      <td>84.83</td>\n",
       "      <td>6</td>\n",
       "      <td>3</td>\n",
       "      <td>7</td>\n",
       "      <td>5.879543e-15</td>\n",
       "      <td>-1.000000e+00</td>\n",
       "      <td>47500</td>\n",
       "    </tr>\n",
       "    <tr>\n",
       "      <th>416315</th>\n",
       "      <td>41897.713781</td>\n",
       "      <td>43050.956617</td>\n",
       "      <td>84.53</td>\n",
       "      <td>13</td>\n",
       "      <td>3</td>\n",
       "      <td>7</td>\n",
       "      <td>5.879543e-15</td>\n",
       "      <td>-1.000000e+00</td>\n",
       "      <td>45700</td>\n",
       "    </tr>\n",
       "    <tr>\n",
       "      <th>416316</th>\n",
       "      <td>41897.713781</td>\n",
       "      <td>38393.383949</td>\n",
       "      <td>84.53</td>\n",
       "      <td>8</td>\n",
       "      <td>3</td>\n",
       "      <td>7</td>\n",
       "      <td>5.879543e-15</td>\n",
       "      <td>-1.000000e+00</td>\n",
       "      <td>44000</td>\n",
       "    </tr>\n",
       "  </tbody>\n",
       "</table>\n",
       "<p>312466 rows × 9 columns</p>\n",
       "</div>"
      ],
      "text/plain": [
       "                dong           apt  exclusive_use_area  floor  \\\n",
       "0       89176.597368  86280.203194               95.88      6   \n",
       "1       89176.597368  86280.203194              108.55     11   \n",
       "2       89176.597368  86280.203194               94.51      1   \n",
       "3       36772.527903  36772.527903               42.87      8   \n",
       "4       36772.527903  36772.527903               39.67     15   \n",
       "...              ...           ...                 ...    ...   \n",
       "416312  41897.713781  43050.956617               84.74      9   \n",
       "416313  41897.713781  41799.433128               84.53      7   \n",
       "416314  41897.713781  38541.570789               84.83      6   \n",
       "416315  41897.713781  43050.956617               84.53     13   \n",
       "416316  41897.713781  38393.383949               84.53      8   \n",
       "\n",
       "        transaction_year  until_trans      sin_date      cos_date   price  \n",
       "0                      0            5 -1.000000e+00 -1.836970e-16   70000  \n",
       "1                      0            5 -2.449294e-16  1.000000e+00  100500  \n",
       "2                      0            5 -2.449294e-16  1.000000e+00   65800  \n",
       "3                      0            8 -1.000000e+00 -1.836970e-16   30500  \n",
       "4                      0            8  1.000000e+00  3.061617e-16   30500  \n",
       "...                  ...          ...           ...           ...     ...  \n",
       "416312                 3            7  5.879543e-15 -1.000000e+00   45500  \n",
       "416313                 3            7  5.879543e-15 -1.000000e+00   44000  \n",
       "416314                 3            7  5.879543e-15 -1.000000e+00   47500  \n",
       "416315                 3            7  5.879543e-15 -1.000000e+00   45700  \n",
       "416316                 3            7  5.879543e-15 -1.000000e+00   44000  \n",
       "\n",
       "[312466 rows x 9 columns]"
      ]
     },
     "execution_count": 16,
     "metadata": {},
     "output_type": "execute_result"
    }
   ],
   "source": [
    "import seaborn as sns\n",
    "import matplotlib.pyplot as plt\n",
    "train=pd.concat([train_cbe,train_y],axis=1)\n",
    "corr = train.corr()\n",
    "sns.heatmap(corr, cmap='viridis')\n",
    "\n",
    "plt.show()\n",
    "train"
   ]
  },
  {
   "cell_type": "markdown",
   "metadata": {},
   "source": [
    "## 2.2 해석과 무관하게 일단 릿지 튜닝\n",
    "- mse를 비교해서 튜닝을 진행하세요.\n",
    "- 릿지의 튜닝파라미터 알파는 0.00001, 0.0001, 0.001, 0.01, 0.1로 설정합니다.\n",
    "- 알파가 클수록 강한 페널티입니다.\n",
    "- 튜닝결과를 시각화해주세요."
   ]
  },
  {
   "cell_type": "code",
   "execution_count": 17,
   "metadata": {},
   "outputs": [],
   "source": [
    "from sklearn.metrics import mean_squared_error\n",
    "from math import sqrt"
   ]
  },
  {
   "cell_type": "code",
   "execution_count": 18,
   "metadata": {},
   "outputs": [
    {
     "name": "stdout",
     "output_type": "stream",
     "text": [
      "11355.138932325644\n",
      "0.8648445823631539\n",
      "15377.977659081647\n",
      "0.816472384035736\n"
     ]
    }
   ],
   "source": [
    "from sklearn.metrics import r2_score #https://www.pluralsight.com/guides/linear-lasso-ridge-regression-scikit-learn\n",
    "\n",
    "rr = Ridge(alpha=0.00001)       \n",
    "rr.fit(train_cbe, train_y) \n",
    "pred_train_rr= rr.predict(train_cbe)\n",
    "print(np.sqrt(mean_squared_error(train_y,pred_train_rr)))\n",
    "print(r2_score(train_y, pred_train_rr))\n",
    "\n",
    "pred_val_rr= rr.predict(val_cbe)\n",
    "print(np.sqrt(mean_squared_error(validation_y,pred_val_rr))) \n",
    "print(r2_score(validation_y, pred_val_rr))"
   ]
  },
  {
   "cell_type": "code",
   "execution_count": 19,
   "metadata": {},
   "outputs": [
    {
     "name": "stdout",
     "output_type": "stream",
     "text": [
      "11355.138932325644\n",
      "0.8648445823631539\n",
      "15377.977659258408\n",
      "0.8164723840315169\n"
     ]
    }
   ],
   "source": [
    "rr = Ridge(alpha=0.0001)       \n",
    "rr.fit(train_cbe, train_y) \n",
    "pred_train_rr= rr.predict(train_cbe)\n",
    "print(np.sqrt(mean_squared_error(train_y,pred_train_rr)))\n",
    "print(r2_score(train_y, pred_train_rr))\n",
    "\n",
    "pred_val_rr= rr.predict(val_cbe)\n",
    "print(np.sqrt(mean_squared_error(validation_y,pred_val_rr))) \n",
    "print(r2_score(validation_y, pred_val_rr))"
   ]
  },
  {
   "cell_type": "code",
   "execution_count": 20,
   "metadata": {},
   "outputs": [
    {
     "name": "stdout",
     "output_type": "stream",
     "text": [
      "11355.138932325644\n",
      "0.8648445823631539\n",
      "15377.977661026003\n",
      "0.8164723839893263\n"
     ]
    }
   ],
   "source": [
    "rr = Ridge(alpha=0.001)       \n",
    "rr.fit(train_cbe, train_y) \n",
    "pred_train_rr= rr.predict(train_cbe)\n",
    "print(np.sqrt(mean_squared_error(train_y,pred_train_rr)))\n",
    "print(r2_score(train_y, pred_train_rr))\n",
    "\n",
    "pred_val_rr= rr.predict(val_cbe)\n",
    "print(np.sqrt(mean_squared_error(validation_y,pred_val_rr))) \n",
    "print(r2_score(validation_y, pred_val_rr))"
   ]
  },
  {
   "cell_type": "code",
   "execution_count": 21,
   "metadata": {},
   "outputs": [
    {
     "name": "stdout",
     "output_type": "stream",
     "text": [
      "11355.13893232564\n",
      "0.864844582363154\n",
      "15377.97767870193\n",
      "0.8164723835674216\n"
     ]
    }
   ],
   "source": [
    "rr = Ridge(alpha=0.01)       \n",
    "rr.fit(train_cbe, train_y) \n",
    "pred_train_rr= rr.predict(train_cbe)\n",
    "print(np.sqrt(mean_squared_error(train_y,pred_train_rr)))\n",
    "print(r2_score(train_y, pred_train_rr))\n",
    "\n",
    "pred_val_rr= rr.predict(val_cbe)\n",
    "print(np.sqrt(mean_squared_error(validation_y,pred_val_rr))) \n",
    "print(r2_score(validation_y, pred_val_rr))"
   ]
  },
  {
   "cell_type": "code",
   "execution_count": 22,
   "metadata": {},
   "outputs": [
    {
     "name": "stdout",
     "output_type": "stream",
     "text": [
      "11355.138932325655\n",
      "0.8648445823631536\n",
      "15377.977855461197\n",
      "0.8164723793483744\n"
     ]
    }
   ],
   "source": [
    "rr = Ridge(alpha=0.1)       \n",
    "rr.fit(train_cbe, train_y) \n",
    "pred_train_rr= rr.predict(train_cbe)\n",
    "print(np.sqrt(mean_squared_error(train_y,pred_train_rr)))\n",
    "print(r2_score(train_y, pred_train_rr))\n",
    "\n",
    "pred_val_rr= rr.predict(val_cbe)\n",
    "print(np.sqrt(mean_squared_error(validation_y,pred_val_rr))) \n",
    "print(r2_score(validation_y, pred_val_rr))"
   ]
  },
  {
   "cell_type": "code",
   "execution_count": 32,
   "metadata": {},
   "outputs": [],
   "source": [
    "#alpha=[0.00001,0.0001,0.001,0.01,0.1] #https://todayisbetterthanyesterday.tistory.com/14\n",
    "#alpha = np.logspace(-5,-1,5)\n",
    "#alpha\n",
    "# lambda값 지정\n",
    "# 0.001 <= lambda <= 10\n",
    "#data = pd.DataFrame()\n",
    "#acc_table = []\n",
    "\n",
    "#for i, a in enumerate(alpha):\n",
    "#    ridge = Ridge(alpha=a).fit(train_cbe, train_y)\n",
    "#    data.append(pd.Series(np.hstack([ridge.coef_])))\n",
    "#    pred_y = ridge.predict(vla_cbe) # full model\n",
    "#    pred_y = cut_off(pred_y, 0.5)\n",
    "#    cfmat = confusion_matrix(validation_y,pred_y)\n",
    "#    acc_table.append((acc(cfmat)))\n",
    "    \n",
    "    \n",
    "#df_ridge = pd.DataFrame(data,index = alpha).T\n",
    "#acc_table_ridge = pd.DataFrame(acc_table, index = alpha).T"
   ]
  },
  {
   "cell_type": "markdown",
   "metadata": {},
   "source": [
    "## 2.3 튜닝결과 시각화"
   ]
  },
  {
   "cell_type": "code",
   "execution_count": null,
   "metadata": {},
   "outputs": [],
   "source": []
  },
  {
   "cell_type": "markdown",
   "metadata": {},
   "source": [
    "2.4 해석\n",
    "튜닝 결과에 대한 플랏을 보고 해석을 해주세요.\n",
    "\n",
    "튜닝이 잘되었나요?\n",
    "튜닝이 안되었다면 그 이유는 무엇인가요?\n",
    "\n",
    "https://stats.stackexchange.com/questions/81395/relationship-between-ridge-regression-and-pca-regression\n",
    "\n",
    "수식이 쉽진 않을텐데 그냥 슬쩍 보세요...ㅎㅎㅎ\n",
    "https://online.stat.psu.edu/stat508/lesson/5/5.1\n",
    "penn state자료는 맨 아래부분만 보면 됩니다"
   ]
  },
  {
   "cell_type": "markdown",
   "metadata": {},
   "source": [
    "## 2.5 그냥 선형 모형으로!\n",
    "- 그냥 linear regression을 튜닝을 위한 trainset에 적합시키고, validation set에 대한 rmse를 계산하세요.\n",
    "\n",
    "- linear regression은 다른 튜닝 파라미터를 필요로하지 않습니다.\n",
    "- ridge와의 validation rmse를 비교했을 때, 어떤 모형을 쓰는 것이 나을지 말해주세요"
   ]
  },
  {
   "cell_type": "code",
   "execution_count": 24,
   "metadata": {},
   "outputs": [],
   "source": [
    "from sklearn.linear_model import LinearRegression"
   ]
  },
  {
   "cell_type": "code",
   "execution_count": 25,
   "metadata": {},
   "outputs": [
    {
     "name": "stdout",
     "output_type": "stream",
     "text": [
      "mean_squared_errors: 15377.97765906307\n"
     ]
    }
   ],
   "source": [
    "line_fitter = LinearRegression()\n",
    "line_fitter.fit(train_cbe, train_y)\n",
    "y_predicted = line_fitter.predict(val_cbe)\n",
    "print('mean_squared_errors: {}'.format(np.sqrt(mean_squared_error(validation_y, y_predicted ))))"
   ]
  },
  {
   "cell_type": "markdown",
   "metadata": {},
   "source": [
    "답: linear이 나음 rmse가 작은 것이 좋음  "
   ]
  },
  {
   "cell_type": "markdown",
   "metadata": {},
   "source": [
    "## 3. LightGBM\n",
    "강력하면서도 빠른 부스팅 모형인 LGBM에 대해 다룰 예정입니다."
   ]
  },
  {
   "cell_type": "code",
   "execution_count": 26,
   "metadata": {},
   "outputs": [
    {
     "name": "stdout",
     "output_type": "stream",
     "text": [
      "Requirement already satisfied: lightgbm in c:\\users\\user\\anaconda3\\lib\\site-packages (3.2.1)\n",
      "Requirement already satisfied: scikit-learn!=0.22.0 in c:\\users\\user\\anaconda3\\lib\\site-packages (from lightgbm) (0.23.2)\n",
      "Requirement already satisfied: numpy in c:\\users\\user\\anaconda3\\lib\\site-packages (from lightgbm) (1.19.2)\n",
      "Requirement already satisfied: scipy in c:\\users\\user\\anaconda3\\lib\\site-packages (from lightgbm) (1.5.2)\n",
      "Requirement already satisfied: wheel in c:\\users\\user\\anaconda3\\lib\\site-packages (from lightgbm) (0.35.1)\n",
      "Requirement already satisfied: threadpoolctl>=2.0.0 in c:\\users\\user\\anaconda3\\lib\\site-packages (from scikit-learn!=0.22.0->lightgbm) (2.1.0)\n",
      "Requirement already satisfied: joblib>=0.11 in c:\\users\\user\\anaconda3\\lib\\site-packages (from scikit-learn!=0.22.0->lightgbm) (0.17.0)\n"
     ]
    }
   ],
   "source": [
    "!pip install lightgbm"
   ]
  },
  {
   "cell_type": "code",
   "execution_count": 27,
   "metadata": {},
   "outputs": [
    {
     "name": "stdout",
     "output_type": "stream",
     "text": [
      "Requirement already satisfied: lightgbm in c:\\users\\user\\anaconda3\\lib\\site-packages (3.2.1)\n",
      "Requirement already satisfied: numpy in c:\\users\\user\\anaconda3\\lib\\site-packages (from lightgbm) (1.19.2)\n",
      "Requirement already satisfied: scipy in c:\\users\\user\\anaconda3\\lib\\site-packages (from lightgbm) (1.5.2)\n",
      "Requirement already satisfied: scikit-learn!=0.22.0 in c:\\users\\user\\anaconda3\\lib\\site-packages (from lightgbm) (0.23.2)\n",
      "Requirement already satisfied: wheel in c:\\users\\user\\anaconda3\\lib\\site-packages (from lightgbm) (0.35.1)\n",
      "Requirement already satisfied: threadpoolctl>=2.0.0 in c:\\users\\user\\anaconda3\\lib\\site-packages (from scikit-learn!=0.22.0->lightgbm) (2.1.0)\n",
      "Requirement already satisfied: joblib>=0.11 in c:\\users\\user\\anaconda3\\lib\\site-packages (from scikit-learn!=0.22.0->lightgbm) (0.17.0)\n"
     ]
    }
   ],
   "source": [
    "#import sys\n",
    "\n",
    "#!{sys.executable} -m pip install lightgbm"
   ]
  },
  {
   "cell_type": "markdown",
   "metadata": {},
   "source": [
    "## 3.1 LightGBM 이해\n",
    "모형에 대해 아주 기본적인 이해는 필요하겠죠? LGBM의 특징/장점/문제점을 적어주세요.\n",
    "\n",
    "- 20-01 데마팀 클린업 3주차 혹은 또 다른 데마팀 클린업을 보셔도 괜찮습니다.\n",
    "- 구글링해도 잘 나옵니다."
   ]
  },
  {
   "cell_type": "markdown",
   "metadata": {},
   "source": [
    "### 특징: \n",
    "LightGBM의 리프 중심 트리 분할은 트리의 균형을 맞추지 않고 최대 손실 값(Max data loss)을 가지는 리프 노트를 지속적으로 분할하면서 트리의 깊이가 깊어지고 \"비대칭적인 트리\"가 생성된다. 최대 손실값을 가지는 리프 노드를 반복할수록 결국은 균형 트리의 분할 방식보다 예측 오류 손실을 최소화 할 수 있다.\n",
    "\n",
    "### 장점:\n",
    "- 학습하는데 걸리는 시간이 적다.\n",
    "- 메모리 사용량이 상대적으로 적은편이다.\n",
    "- 카테고리형 피처들의 자동 변환과 최적 분할\n",
    "\n",
    "### 단점: \n",
    "- 적은 데이터 세트의 적용을 할 경우 과적합 가능성이 크다."
   ]
  },
  {
   "cell_type": "markdown",
   "metadata": {},
   "source": []
  },
  {
   "cell_type": "markdown",
   "metadata": {},
   "source": [
    "## 3.2 LGBM 튜닝\n",
    "LGBM의 튜닝파라미터는 많습니다.\n",
    "- max_depth, learning_rate, lambda, min_child_samples 등 다양한데, 패키지에서는 learning rate만 튜닝하도록 하겠습니다.\n",
    "- [0.01, 0.05, 0.1, 0.3, 0.5, 0.7, 0.99] 이렇게 튜닝해주세요.\n",
    "- 부스팅에서는 일단 learning rate과 iteration의 trade off를 적절하게 고려해줘서 학습속도를 맞춰준다음, 세부적인 튜닝을 하는게 일반적입니다.\n",
    "- 더하고 싶으면 해서 더 좋은 성능을 내셔도 됩니다! 보통 enumerate를 통해 파라미터를 묶어줘서 진행합니다."
   ]
  },
  {
   "cell_type": "code",
   "execution_count": 30,
   "metadata": {},
   "outputs": [],
   "source": [
    "import lightgbm as lgb\n",
    "from lightgbm import LGBMModel,LGBMRegressor,LGBMClassifier\n",
    "# import itertools"
   ]
  },
  {
   "cell_type": "code",
   "execution_count": 39,
   "metadata": {},
   "outputs": [
    {
     "name": "stdout",
     "output_type": "stream",
     "text": [
      "[LightGBM] [Warning] Auto-choosing row-wise multi-threading, the overhead of testing was 0.011439 seconds.\n",
      "You can set `force_row_wise=true` to remove the overhead.\n",
      "And if memory is not enough, you can set `force_col_wise=true`.\n",
      "[LightGBM] [Info] Total Bins 881\n",
      "[LightGBM] [Info] Number of data points in the train set: 312466, number of used features: 8\n",
      "[LightGBM] [Info] Start training from score 46056.618349\n",
      "mean_squared_errors: 10389.411606011838\n",
      "[LightGBM] [Warning] Auto-choosing col-wise multi-threading, the overhead of testing was 0.045133 seconds.\n",
      "You can set `force_col_wise=true` to remove the overhead.\n",
      "[LightGBM] [Info] Total Bins 881\n",
      "[LightGBM] [Info] Number of data points in the train set: 312466, number of used features: 8\n",
      "[LightGBM] [Info] Start training from score 46056.618349\n",
      "mean_squared_errors: 9206.332029581423\n",
      "[LightGBM] [Warning] Auto-choosing row-wise multi-threading, the overhead of testing was 0.009270 seconds.\n",
      "You can set `force_row_wise=true` to remove the overhead.\n",
      "And if memory is not enough, you can set `force_col_wise=true`.\n",
      "[LightGBM] [Info] Total Bins 881\n",
      "[LightGBM] [Info] Number of data points in the train set: 312466, number of used features: 8\n",
      "[LightGBM] [Info] Start training from score 46056.618349\n",
      "mean_squared_errors: 8882.098842260984\n",
      "[LightGBM] [Warning] Auto-choosing col-wise multi-threading, the overhead of testing was 0.027183 seconds.\n",
      "You can set `force_col_wise=true` to remove the overhead.\n",
      "[LightGBM] [Info] Total Bins 881\n",
      "[LightGBM] [Info] Number of data points in the train set: 312466, number of used features: 8\n",
      "[LightGBM] [Info] Start training from score 46056.618349\n",
      "mean_squared_errors: 8613.157765398855\n",
      "[LightGBM] [Warning] Auto-choosing row-wise multi-threading, the overhead of testing was 0.007384 seconds.\n",
      "You can set `force_row_wise=true` to remove the overhead.\n",
      "And if memory is not enough, you can set `force_col_wise=true`.\n",
      "[LightGBM] [Info] Total Bins 881\n",
      "[LightGBM] [Info] Number of data points in the train set: 312466, number of used features: 8\n",
      "[LightGBM] [Info] Start training from score 46056.618349\n",
      "mean_squared_errors: 8775.46913077823\n",
      "[LightGBM] [Warning] Auto-choosing col-wise multi-threading, the overhead of testing was 0.025727 seconds.\n",
      "You can set `force_col_wise=true` to remove the overhead.\n",
      "[LightGBM] [Info] Total Bins 881\n",
      "[LightGBM] [Info] Number of data points in the train set: 312466, number of used features: 8\n",
      "[LightGBM] [Info] Start training from score 46056.618349\n",
      "mean_squared_errors: 9109.802807709111\n",
      "[LightGBM] [Warning] Auto-choosing row-wise multi-threading, the overhead of testing was 0.006563 seconds.\n",
      "You can set `force_row_wise=true` to remove the overhead.\n",
      "And if memory is not enough, you can set `force_col_wise=true`.\n",
      "[LightGBM] [Info] Total Bins 881\n",
      "[LightGBM] [Info] Number of data points in the train set: 312466, number of used features: 8\n",
      "[LightGBM] [Info] Start training from score 46056.618349\n",
      "mean_squared_errors: 10036.81985447445\n"
     ]
    }
   ],
   "source": [
    "train_ds=lgb.Dataset(train_cbe,label=train_y)\n",
    "val_ds=lgb.Dataset(val_cbe,label=validation_y)\n",
    "rate= [0.01, 0.05, 0.1, 0.3, 0.5, 0.7, 0.99]\n",
    "for rate in rate:\n",
    "    params={'learning_rate':rate}\n",
    "    model=lgb.train(params,train_ds,1000,val_ds)\n",
    "    y_pred=model.predict(val_cbe)\n",
    "    print('mean_squared_errors: {}'.format(np.sqrt(mean_squared_error(validation_y, y_pred ))))"
   ]
  },
  {
   "cell_type": "markdown",
   "metadata": {},
   "source": [
    "## 4. test set\n",
    "## 4.1 test set 불러오기\n",
    "test set을 불러오고, X와 y를 분리하세요."
   ]
  },
  {
   "cell_type": "code",
   "execution_count": 40,
   "metadata": {},
   "outputs": [],
   "source": [
    "test=pd.read_csv(\"test.csv\")\n",
    "train=pd.read_csv(\"train.csv\")"
   ]
  },
  {
   "cell_type": "code",
   "execution_count": 41,
   "metadata": {},
   "outputs": [],
   "source": [
    "test_y=test[['price']]\n",
    "test_X=test.drop(['price'],axis=1)\n",
    "train_y=train[['price']]\n",
    "train_X=train.drop(['price'],axis=1)"
   ]
  },
  {
   "cell_type": "markdown",
   "metadata": {},
   "source": [
    "## 4.2 캣부스트 인코딩\n",
    "- 전체 train set에 대해 캣부스트 인코딩을 시행해주세요.\n",
    "- 인자에는 train_x/train_y/test_x가 들어갈겁니다."
   ]
  },
  {
   "cell_type": "code",
   "execution_count": 42,
   "metadata": {},
   "outputs": [],
   "source": [
    "# Define catboost encoder\n",
    "cbe_encoder = ce.cat_boost.CatBoostEncoder()\n",
    "  \n",
    "# Fit encoder and transform the features\n",
    "cbe_encoder.fit(train_X, train_y)\n",
    "test_cbe = cbe_encoder.transform(test_X)\n",
    "train_cbe=cbe_encoder.transform(train_X)"
   ]
  },
  {
   "cell_type": "markdown",
   "metadata": {},
   "source": [
    "## 4.3 최적의 파라미터 적합\n",
    "2와 3의 결과에서 최적의 파라미터(모델)을 전체 trainset에 대해 적합하세요."
   ]
  },
  {
   "cell_type": "code",
   "execution_count": 43,
   "metadata": {},
   "outputs": [
    {
     "name": "stdout",
     "output_type": "stream",
     "text": [
      "mean_squared_errors: 17721.88060515686\n"
     ]
    }
   ],
   "source": [
    "line_fitter = LinearRegression()\n",
    "line_fitter.fit(train_cbe, train_y)\n",
    "y_predicted = line_fitter.predict(test_cbe)\n",
    "print('mean_squared_errors: {}'.format(np.sqrt(mean_squared_error(test_y, y_predicted ))))"
   ]
  },
  {
   "cell_type": "code",
   "execution_count": 44,
   "metadata": {},
   "outputs": [
    {
     "name": "stdout",
     "output_type": "stream",
     "text": [
      "[LightGBM] [Warning] Auto-choosing col-wise multi-threading, the overhead of testing was 0.053927 seconds.\n",
      "You can set `force_col_wise=true` to remove the overhead.\n",
      "[LightGBM] [Info] Total Bins 888\n",
      "[LightGBM] [Info] Number of data points in the train set: 422164, number of used features: 8\n",
      "[LightGBM] [Info] Start training from score 48041.092876\n",
      "mean_squared_errors: 12731.13273779304\n",
      "[LightGBM] [Warning] Auto-choosing row-wise multi-threading, the overhead of testing was 0.011392 seconds.\n",
      "You can set `force_row_wise=true` to remove the overhead.\n",
      "And if memory is not enough, you can set `force_col_wise=true`.\n",
      "[LightGBM] [Info] Total Bins 888\n",
      "[LightGBM] [Info] Number of data points in the train set: 422164, number of used features: 8\n",
      "[LightGBM] [Info] Start training from score 48041.092876\n",
      "mean_squared_errors: 11485.588067798715\n",
      "[LightGBM] [Warning] Auto-choosing col-wise multi-threading, the overhead of testing was 0.043459 seconds.\n",
      "You can set `force_col_wise=true` to remove the overhead.\n",
      "[LightGBM] [Info] Total Bins 888\n",
      "[LightGBM] [Info] Number of data points in the train set: 422164, number of used features: 8\n",
      "[LightGBM] [Info] Start training from score 48041.092876\n",
      "mean_squared_errors: 11057.470960881203\n",
      "[LightGBM] [Warning] Auto-choosing col-wise multi-threading, the overhead of testing was 0.056492 seconds.\n",
      "You can set `force_col_wise=true` to remove the overhead.\n",
      "[LightGBM] [Info] Total Bins 888\n",
      "[LightGBM] [Info] Number of data points in the train set: 422164, number of used features: 8\n",
      "[LightGBM] [Info] Start training from score 48041.092876\n",
      "mean_squared_errors: 10986.411265888806\n",
      "[LightGBM] [Warning] Auto-choosing row-wise multi-threading, the overhead of testing was 0.017771 seconds.\n",
      "You can set `force_row_wise=true` to remove the overhead.\n",
      "And if memory is not enough, you can set `force_col_wise=true`.\n",
      "[LightGBM] [Info] Total Bins 888\n",
      "[LightGBM] [Info] Number of data points in the train set: 422164, number of used features: 8\n",
      "[LightGBM] [Info] Start training from score 48041.092876\n",
      "mean_squared_errors: 11168.444477662648\n",
      "[LightGBM] [Warning] Auto-choosing row-wise multi-threading, the overhead of testing was 0.010374 seconds.\n",
      "You can set `force_row_wise=true` to remove the overhead.\n",
      "And if memory is not enough, you can set `force_col_wise=true`.\n",
      "[LightGBM] [Info] Total Bins 888\n",
      "[LightGBM] [Info] Number of data points in the train set: 422164, number of used features: 8\n",
      "[LightGBM] [Info] Start training from score 48041.092876\n",
      "mean_squared_errors: 11473.592263303757\n",
      "[LightGBM] [Warning] Auto-choosing col-wise multi-threading, the overhead of testing was 0.058978 seconds.\n",
      "You can set `force_col_wise=true` to remove the overhead.\n",
      "[LightGBM] [Info] Total Bins 888\n",
      "[LightGBM] [Info] Number of data points in the train set: 422164, number of used features: 8\n",
      "[LightGBM] [Info] Start training from score 48041.092876\n",
      "mean_squared_errors: 12082.079118864973\n"
     ]
    }
   ],
   "source": [
    "train_ds=lgb.Dataset(train_cbe,label=train_y)\n",
    "test_ds=lgb.Dataset(test_cbe,label=test_y)\n",
    "rate= [0.01, 0.05, 0.1, 0.3, 0.5, 0.7, 0.99]\n",
    "for rate in rate:\n",
    "    params={'learning_rate':rate}\n",
    "    model=lgb.train(params,train_ds,1000,test_ds)\n",
    "    y_pred=model.predict(test_cbe)\n",
    "    print('mean_squared_errors: {}'.format(np.sqrt(mean_squared_error(test_y, y_pred ))))"
   ]
  },
  {
   "cell_type": "markdown",
   "metadata": {},
   "source": [
    "## 4.4 test set에 대해 평가\n",
    "두 모델을 test set에 대해 평가해서 비교하세요."
   ]
  },
  {
   "cell_type": "code",
   "execution_count": 45,
   "metadata": {},
   "outputs": [],
   "source": [
    "#rmse가 LGBM learnigrate가 0.3일때 제일 작음"
   ]
  }
 ],
 "metadata": {
  "kernelspec": {
   "display_name": "Python 3",
   "language": "python",
   "name": "python3"
  },
  "language_info": {
   "codemirror_mode": {
    "name": "ipython",
    "version": 3
   },
   "file_extension": ".py",
   "mimetype": "text/x-python",
   "name": "python",
   "nbconvert_exporter": "python",
   "pygments_lexer": "ipython3",
   "version": "3.8.5"
  }
 },
 "nbformat": 4,
 "nbformat_minor": 5
}
