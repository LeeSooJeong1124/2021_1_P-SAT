{
 "cells": [
  {
   "cell_type": "code",
   "execution_count": 1,
   "id": "institutional-warning",
   "metadata": {},
   "outputs": [],
   "source": [
    "import numpy as np\n",
    "import pandas as pd"
   ]
  },
  {
   "cell_type": "markdown",
   "id": "pleasant-parking",
   "metadata": {},
   "source": [
    "## 1. 데이터 전처리\n",
    "파이썬으로 기본적인 데이터 탐색을 시작합니다.\n",
    "\n",
    "## 1.1 데이터 불러오기\n",
    " pandas의 read.csv 함수를 이용해 주어진 데이터를 불러오세요."
   ]
  },
  {
   "cell_type": "code",
   "execution_count": 2,
   "id": "charming-queensland",
   "metadata": {},
   "outputs": [],
   "source": [
    "data=pd.read_csv(\"data.csv\")"
   ]
  },
  {
   "cell_type": "markdown",
   "id": "south-expression",
   "metadata": {},
   "source": [
    "## 1.2 데이터 확인\n",
    "데이터가 row와 column 수를 확인하세요.\n",
    "어떤식으로 생겼는지 head, info 등을 활용해 확인하세요.\n",
    "결측값은 없는지 확인하세요. numpy의 isnull을 이용해 확인이 가능합니다"
   ]
  },
  {
   "cell_type": "code",
   "execution_count": 3,
   "id": "standing-socket",
   "metadata": {},
   "outputs": [
    {
     "data": {
      "text/plain": [
       "1216553"
      ]
     },
     "execution_count": 3,
     "metadata": {},
     "output_type": "execute_result"
    }
   ],
   "source": [
    "len(data) #행 개수"
   ]
  },
  {
   "cell_type": "code",
   "execution_count": 4,
   "id": "harmful-fetish",
   "metadata": {},
   "outputs": [
    {
     "data": {
      "text/plain": [
       "13"
      ]
     },
     "execution_count": 4,
     "metadata": {},
     "output_type": "execute_result"
    }
   ],
   "source": [
    "len(data.columns) #열 개수"
   ]
  },
  {
   "cell_type": "code",
   "execution_count": 5,
   "id": "mediterranean-tissue",
   "metadata": {},
   "outputs": [
    {
     "data": {
      "text/html": [
       "<div>\n",
       "<style scoped>\n",
       "    .dataframe tbody tr th:only-of-type {\n",
       "        vertical-align: middle;\n",
       "    }\n",
       "\n",
       "    .dataframe tbody tr th {\n",
       "        vertical-align: top;\n",
       "    }\n",
       "\n",
       "    .dataframe thead th {\n",
       "        text-align: right;\n",
       "    }\n",
       "</style>\n",
       "<table border=\"1\" class=\"dataframe\">\n",
       "  <thead>\n",
       "    <tr style=\"text-align: right;\">\n",
       "      <th></th>\n",
       "      <th>transaction_id</th>\n",
       "      <th>apartment_id</th>\n",
       "      <th>city</th>\n",
       "      <th>dong</th>\n",
       "      <th>jibun</th>\n",
       "      <th>apt</th>\n",
       "      <th>addr_kr</th>\n",
       "      <th>exclusive_use_area</th>\n",
       "      <th>year_of_completion</th>\n",
       "      <th>transaction_year_month</th>\n",
       "      <th>transaction_date</th>\n",
       "      <th>floor</th>\n",
       "      <th>transaction_real_price</th>\n",
       "    </tr>\n",
       "  </thead>\n",
       "  <tbody>\n",
       "    <tr>\n",
       "      <th>0</th>\n",
       "      <td>0</td>\n",
       "      <td>7622</td>\n",
       "      <td>서울특별시</td>\n",
       "      <td>신교동</td>\n",
       "      <td>6-13</td>\n",
       "      <td>신현(101동)</td>\n",
       "      <td>신교동 6-13 신현(101동)</td>\n",
       "      <td>84.82</td>\n",
       "      <td>2002</td>\n",
       "      <td>200801</td>\n",
       "      <td>21~31</td>\n",
       "      <td>2</td>\n",
       "      <td>37500</td>\n",
       "    </tr>\n",
       "    <tr>\n",
       "      <th>1</th>\n",
       "      <td>1</td>\n",
       "      <td>5399</td>\n",
       "      <td>서울특별시</td>\n",
       "      <td>필운동</td>\n",
       "      <td>142</td>\n",
       "      <td>사직파크맨션</td>\n",
       "      <td>필운동 142 사직파크맨션</td>\n",
       "      <td>99.17</td>\n",
       "      <td>1973</td>\n",
       "      <td>200801</td>\n",
       "      <td>1~10</td>\n",
       "      <td>6</td>\n",
       "      <td>20000</td>\n",
       "    </tr>\n",
       "    <tr>\n",
       "      <th>2</th>\n",
       "      <td>2</td>\n",
       "      <td>3578</td>\n",
       "      <td>서울특별시</td>\n",
       "      <td>필운동</td>\n",
       "      <td>174-1</td>\n",
       "      <td>두레엘리시안</td>\n",
       "      <td>필운동 174-1 두레엘리시안</td>\n",
       "      <td>84.74</td>\n",
       "      <td>2007</td>\n",
       "      <td>200801</td>\n",
       "      <td>1~10</td>\n",
       "      <td>6</td>\n",
       "      <td>38500</td>\n",
       "    </tr>\n",
       "    <tr>\n",
       "      <th>3</th>\n",
       "      <td>3</td>\n",
       "      <td>10957</td>\n",
       "      <td>서울특별시</td>\n",
       "      <td>내수동</td>\n",
       "      <td>95</td>\n",
       "      <td>파크팰리스</td>\n",
       "      <td>내수동 95 파크팰리스</td>\n",
       "      <td>146.39</td>\n",
       "      <td>2003</td>\n",
       "      <td>200801</td>\n",
       "      <td>11~20</td>\n",
       "      <td>15</td>\n",
       "      <td>118000</td>\n",
       "    </tr>\n",
       "    <tr>\n",
       "      <th>4</th>\n",
       "      <td>4</td>\n",
       "      <td>10639</td>\n",
       "      <td>서울특별시</td>\n",
       "      <td>내수동</td>\n",
       "      <td>110-15</td>\n",
       "      <td>킹스매너</td>\n",
       "      <td>내수동 110-15 킹스매너</td>\n",
       "      <td>194.43</td>\n",
       "      <td>2004</td>\n",
       "      <td>200801</td>\n",
       "      <td>21~31</td>\n",
       "      <td>3</td>\n",
       "      <td>120000</td>\n",
       "    </tr>\n",
       "  </tbody>\n",
       "</table>\n",
       "</div>"
      ],
      "text/plain": [
       "   transaction_id  apartment_id   city dong   jibun       apt  \\\n",
       "0               0          7622  서울특별시  신교동    6-13  신현(101동)   \n",
       "1               1          5399  서울특별시  필운동     142    사직파크맨션   \n",
       "2               2          3578  서울특별시  필운동   174-1    두레엘리시안   \n",
       "3               3         10957  서울특별시  내수동      95     파크팰리스   \n",
       "4               4         10639  서울특별시  내수동  110-15      킹스매너   \n",
       "\n",
       "             addr_kr  exclusive_use_area  year_of_completion  \\\n",
       "0  신교동 6-13 신현(101동)               84.82                2002   \n",
       "1     필운동 142 사직파크맨션               99.17                1973   \n",
       "2   필운동 174-1 두레엘리시안               84.74                2007   \n",
       "3       내수동 95 파크팰리스              146.39                2003   \n",
       "4    내수동 110-15 킹스매너              194.43                2004   \n",
       "\n",
       "   transaction_year_month transaction_date  floor  transaction_real_price  \n",
       "0                  200801            21~31      2                   37500  \n",
       "1                  200801             1~10      6                   20000  \n",
       "2                  200801             1~10      6                   38500  \n",
       "3                  200801            11~20     15                  118000  \n",
       "4                  200801            21~31      3                  120000  "
      ]
     },
     "execution_count": 5,
     "metadata": {},
     "output_type": "execute_result"
    }
   ],
   "source": [
    "data.head() #데이터 확인"
   ]
  },
  {
   "cell_type": "code",
   "execution_count": 6,
   "id": "curious-support",
   "metadata": {},
   "outputs": [
    {
     "data": {
      "text/plain": [
       "transaction_id            0\n",
       "apartment_id              0\n",
       "city                      0\n",
       "dong                      0\n",
       "jibun                     0\n",
       "apt                       0\n",
       "addr_kr                   0\n",
       "exclusive_use_area        0\n",
       "year_of_completion        0\n",
       "transaction_year_month    0\n",
       "transaction_date          0\n",
       "floor                     0\n",
       "transaction_real_price    0\n",
       "dtype: int64"
      ]
     },
     "execution_count": 6,
     "metadata": {},
     "output_type": "execute_result"
    }
   ],
   "source": [
    "data.isnull().sum(axis=0)#column 기준으로 null값 확인"
   ]
  },
  {
   "cell_type": "code",
   "execution_count": 7,
   "id": "cheap-perry",
   "metadata": {},
   "outputs": [],
   "source": [
    "#data.isnull()"
   ]
  },
  {
   "cell_type": "markdown",
   "id": "historical-nomination",
   "metadata": {},
   "source": [
    "## 1.3 불필요한 행 삭제 (reset index)\n",
    "현재는 city 컬럼에 서울과 부산이 동시에 있습니다. 서울인 행만 남기세요.\n",
    "파이썬의 데이터프레임은 일부 행을 삭제해도 인덱스가 수정되지 않습니다. reset_index를 이용해 인덱스를 재정렬하세요."
   ]
  },
  {
   "cell_type": "code",
   "execution_count": 8,
   "id": "running-difference",
   "metadata": {},
   "outputs": [],
   "source": [
    "data1=data[data['city']=='서울특별시']"
   ]
  },
  {
   "cell_type": "code",
   "execution_count": 9,
   "id": "potential-extreme",
   "metadata": {},
   "outputs": [
    {
     "data": {
      "text/html": [
       "<div>\n",
       "<style scoped>\n",
       "    .dataframe tbody tr th:only-of-type {\n",
       "        vertical-align: middle;\n",
       "    }\n",
       "\n",
       "    .dataframe tbody tr th {\n",
       "        vertical-align: top;\n",
       "    }\n",
       "\n",
       "    .dataframe thead th {\n",
       "        text-align: right;\n",
       "    }\n",
       "</style>\n",
       "<table border=\"1\" class=\"dataframe\">\n",
       "  <thead>\n",
       "    <tr style=\"text-align: right;\">\n",
       "      <th></th>\n",
       "      <th>transaction_id</th>\n",
       "      <th>apartment_id</th>\n",
       "      <th>city</th>\n",
       "      <th>dong</th>\n",
       "      <th>jibun</th>\n",
       "      <th>apt</th>\n",
       "      <th>addr_kr</th>\n",
       "      <th>exclusive_use_area</th>\n",
       "      <th>year_of_completion</th>\n",
       "      <th>transaction_year_month</th>\n",
       "      <th>transaction_date</th>\n",
       "      <th>floor</th>\n",
       "      <th>transaction_real_price</th>\n",
       "    </tr>\n",
       "  </thead>\n",
       "  <tbody>\n",
       "    <tr>\n",
       "      <th>0</th>\n",
       "      <td>0</td>\n",
       "      <td>7622</td>\n",
       "      <td>서울특별시</td>\n",
       "      <td>신교동</td>\n",
       "      <td>6-13</td>\n",
       "      <td>신현(101동)</td>\n",
       "      <td>신교동 6-13 신현(101동)</td>\n",
       "      <td>84.82</td>\n",
       "      <td>2002</td>\n",
       "      <td>200801</td>\n",
       "      <td>21~31</td>\n",
       "      <td>2</td>\n",
       "      <td>37500</td>\n",
       "    </tr>\n",
       "    <tr>\n",
       "      <th>1</th>\n",
       "      <td>1</td>\n",
       "      <td>5399</td>\n",
       "      <td>서울특별시</td>\n",
       "      <td>필운동</td>\n",
       "      <td>142</td>\n",
       "      <td>사직파크맨션</td>\n",
       "      <td>필운동 142 사직파크맨션</td>\n",
       "      <td>99.17</td>\n",
       "      <td>1973</td>\n",
       "      <td>200801</td>\n",
       "      <td>1~10</td>\n",
       "      <td>6</td>\n",
       "      <td>20000</td>\n",
       "    </tr>\n",
       "    <tr>\n",
       "      <th>2</th>\n",
       "      <td>2</td>\n",
       "      <td>3578</td>\n",
       "      <td>서울특별시</td>\n",
       "      <td>필운동</td>\n",
       "      <td>174-1</td>\n",
       "      <td>두레엘리시안</td>\n",
       "      <td>필운동 174-1 두레엘리시안</td>\n",
       "      <td>84.74</td>\n",
       "      <td>2007</td>\n",
       "      <td>200801</td>\n",
       "      <td>1~10</td>\n",
       "      <td>6</td>\n",
       "      <td>38500</td>\n",
       "    </tr>\n",
       "    <tr>\n",
       "      <th>3</th>\n",
       "      <td>3</td>\n",
       "      <td>10957</td>\n",
       "      <td>서울특별시</td>\n",
       "      <td>내수동</td>\n",
       "      <td>95</td>\n",
       "      <td>파크팰리스</td>\n",
       "      <td>내수동 95 파크팰리스</td>\n",
       "      <td>146.39</td>\n",
       "      <td>2003</td>\n",
       "      <td>200801</td>\n",
       "      <td>11~20</td>\n",
       "      <td>15</td>\n",
       "      <td>118000</td>\n",
       "    </tr>\n",
       "    <tr>\n",
       "      <th>4</th>\n",
       "      <td>4</td>\n",
       "      <td>10639</td>\n",
       "      <td>서울특별시</td>\n",
       "      <td>내수동</td>\n",
       "      <td>110-15</td>\n",
       "      <td>킹스매너</td>\n",
       "      <td>내수동 110-15 킹스매너</td>\n",
       "      <td>194.43</td>\n",
       "      <td>2004</td>\n",
       "      <td>200801</td>\n",
       "      <td>21~31</td>\n",
       "      <td>3</td>\n",
       "      <td>120000</td>\n",
       "    </tr>\n",
       "    <tr>\n",
       "      <th>...</th>\n",
       "      <td>...</td>\n",
       "      <td>...</td>\n",
       "      <td>...</td>\n",
       "      <td>...</td>\n",
       "      <td>...</td>\n",
       "      <td>...</td>\n",
       "      <td>...</td>\n",
       "      <td>...</td>\n",
       "      <td>...</td>\n",
       "      <td>...</td>\n",
       "      <td>...</td>\n",
       "      <td>...</td>\n",
       "      <td>...</td>\n",
       "    </tr>\n",
       "    <tr>\n",
       "      <th>1184014</th>\n",
       "      <td>1196844</td>\n",
       "      <td>996</td>\n",
       "      <td>서울특별시</td>\n",
       "      <td>강일동</td>\n",
       "      <td>717</td>\n",
       "      <td>고덕리엔파크2단지</td>\n",
       "      <td>강일동 717 고덕리엔파크2단지</td>\n",
       "      <td>59.72</td>\n",
       "      <td>2011</td>\n",
       "      <td>201711</td>\n",
       "      <td>11~20</td>\n",
       "      <td>9</td>\n",
       "      <td>53000</td>\n",
       "    </tr>\n",
       "    <tr>\n",
       "      <th>1184015</th>\n",
       "      <td>1196846</td>\n",
       "      <td>682</td>\n",
       "      <td>서울특별시</td>\n",
       "      <td>강일동</td>\n",
       "      <td>674</td>\n",
       "      <td>강일리버파크3단지</td>\n",
       "      <td>강일동 674 강일리버파크3단지</td>\n",
       "      <td>59.87</td>\n",
       "      <td>2009</td>\n",
       "      <td>201711</td>\n",
       "      <td>21~30</td>\n",
       "      <td>12</td>\n",
       "      <td>53000</td>\n",
       "    </tr>\n",
       "    <tr>\n",
       "      <th>1184016</th>\n",
       "      <td>1196847</td>\n",
       "      <td>682</td>\n",
       "      <td>서울특별시</td>\n",
       "      <td>강일동</td>\n",
       "      <td>674</td>\n",
       "      <td>강일리버파크3단지</td>\n",
       "      <td>강일동 674 강일리버파크3단지</td>\n",
       "      <td>84.74</td>\n",
       "      <td>2009</td>\n",
       "      <td>201711</td>\n",
       "      <td>21~30</td>\n",
       "      <td>3</td>\n",
       "      <td>56500</td>\n",
       "    </tr>\n",
       "    <tr>\n",
       "      <th>1184017</th>\n",
       "      <td>1196848</td>\n",
       "      <td>680</td>\n",
       "      <td>서울특별시</td>\n",
       "      <td>강일동</td>\n",
       "      <td>665</td>\n",
       "      <td>강일리버파크1단지</td>\n",
       "      <td>강일동 665 강일리버파크1단지</td>\n",
       "      <td>84.74</td>\n",
       "      <td>2009</td>\n",
       "      <td>201711</td>\n",
       "      <td>21~30</td>\n",
       "      <td>9</td>\n",
       "      <td>55500</td>\n",
       "    </tr>\n",
       "    <tr>\n",
       "      <th>1184018</th>\n",
       "      <td>1196849</td>\n",
       "      <td>996</td>\n",
       "      <td>서울특별시</td>\n",
       "      <td>강일동</td>\n",
       "      <td>717</td>\n",
       "      <td>고덕리엔파크2단지</td>\n",
       "      <td>강일동 717 고덕리엔파크2단지</td>\n",
       "      <td>84.98</td>\n",
       "      <td>2011</td>\n",
       "      <td>201711</td>\n",
       "      <td>21~30</td>\n",
       "      <td>8</td>\n",
       "      <td>63750</td>\n",
       "    </tr>\n",
       "  </tbody>\n",
       "</table>\n",
       "<p>742285 rows × 13 columns</p>\n",
       "</div>"
      ],
      "text/plain": [
       "         transaction_id  apartment_id   city dong   jibun        apt  \\\n",
       "0                     0          7622  서울특별시  신교동    6-13   신현(101동)   \n",
       "1                     1          5399  서울특별시  필운동     142     사직파크맨션   \n",
       "2                     2          3578  서울특별시  필운동   174-1     두레엘리시안   \n",
       "3                     3         10957  서울특별시  내수동      95      파크팰리스   \n",
       "4                     4         10639  서울특별시  내수동  110-15       킹스매너   \n",
       "...                 ...           ...    ...  ...     ...        ...   \n",
       "1184014         1196844           996  서울특별시  강일동     717  고덕리엔파크2단지   \n",
       "1184015         1196846           682  서울특별시  강일동     674  강일리버파크3단지   \n",
       "1184016         1196847           682  서울특별시  강일동     674  강일리버파크3단지   \n",
       "1184017         1196848           680  서울특별시  강일동     665  강일리버파크1단지   \n",
       "1184018         1196849           996  서울특별시  강일동     717  고덕리엔파크2단지   \n",
       "\n",
       "                   addr_kr  exclusive_use_area  year_of_completion  \\\n",
       "0        신교동 6-13 신현(101동)               84.82                2002   \n",
       "1           필운동 142 사직파크맨션               99.17                1973   \n",
       "2         필운동 174-1 두레엘리시안               84.74                2007   \n",
       "3             내수동 95 파크팰리스              146.39                2003   \n",
       "4          내수동 110-15 킹스매너              194.43                2004   \n",
       "...                    ...                 ...                 ...   \n",
       "1184014  강일동 717 고덕리엔파크2단지               59.72                2011   \n",
       "1184015  강일동 674 강일리버파크3단지               59.87                2009   \n",
       "1184016  강일동 674 강일리버파크3단지               84.74                2009   \n",
       "1184017  강일동 665 강일리버파크1단지               84.74                2009   \n",
       "1184018  강일동 717 고덕리엔파크2단지               84.98                2011   \n",
       "\n",
       "         transaction_year_month transaction_date  floor  \\\n",
       "0                        200801            21~31      2   \n",
       "1                        200801             1~10      6   \n",
       "2                        200801             1~10      6   \n",
       "3                        200801            11~20     15   \n",
       "4                        200801            21~31      3   \n",
       "...                         ...              ...    ...   \n",
       "1184014                  201711            11~20      9   \n",
       "1184015                  201711            21~30     12   \n",
       "1184016                  201711            21~30      3   \n",
       "1184017                  201711            21~30      9   \n",
       "1184018                  201711            21~30      8   \n",
       "\n",
       "         transaction_real_price  \n",
       "0                         37500  \n",
       "1                         20000  \n",
       "2                         38500  \n",
       "3                        118000  \n",
       "4                        120000  \n",
       "...                         ...  \n",
       "1184014                   53000  \n",
       "1184015                   53000  \n",
       "1184016                   56500  \n",
       "1184017                   55500  \n",
       "1184018                   63750  \n",
       "\n",
       "[742285 rows x 13 columns]"
      ]
     },
     "execution_count": 9,
     "metadata": {},
     "output_type": "execute_result"
    }
   ],
   "source": [
    "data1"
   ]
  },
  {
   "cell_type": "code",
   "execution_count": 10,
   "id": "immediate-accused",
   "metadata": {},
   "outputs": [],
   "source": [
    "data1.reset_index(drop=True,inplace=True)#drop은 인덱스로 세팅한 열을 dataframe내에서 삭제할지 여부를 결정\n",
    "                                          #inplace는 원본 객체를 변경할지 여부를 결정"
   ]
  },
  {
   "cell_type": "code",
   "execution_count": 11,
   "id": "revolutionary-reviewer",
   "metadata": {},
   "outputs": [
    {
     "data": {
      "text/html": [
       "<div>\n",
       "<style scoped>\n",
       "    .dataframe tbody tr th:only-of-type {\n",
       "        vertical-align: middle;\n",
       "    }\n",
       "\n",
       "    .dataframe tbody tr th {\n",
       "        vertical-align: top;\n",
       "    }\n",
       "\n",
       "    .dataframe thead th {\n",
       "        text-align: right;\n",
       "    }\n",
       "</style>\n",
       "<table border=\"1\" class=\"dataframe\">\n",
       "  <thead>\n",
       "    <tr style=\"text-align: right;\">\n",
       "      <th></th>\n",
       "      <th>transaction_id</th>\n",
       "      <th>apartment_id</th>\n",
       "      <th>city</th>\n",
       "      <th>dong</th>\n",
       "      <th>jibun</th>\n",
       "      <th>apt</th>\n",
       "      <th>addr_kr</th>\n",
       "      <th>exclusive_use_area</th>\n",
       "      <th>year_of_completion</th>\n",
       "      <th>transaction_year_month</th>\n",
       "      <th>transaction_date</th>\n",
       "      <th>floor</th>\n",
       "      <th>transaction_real_price</th>\n",
       "    </tr>\n",
       "  </thead>\n",
       "  <tbody>\n",
       "    <tr>\n",
       "      <th>0</th>\n",
       "      <td>0</td>\n",
       "      <td>7622</td>\n",
       "      <td>서울특별시</td>\n",
       "      <td>신교동</td>\n",
       "      <td>6-13</td>\n",
       "      <td>신현(101동)</td>\n",
       "      <td>신교동 6-13 신현(101동)</td>\n",
       "      <td>84.82</td>\n",
       "      <td>2002</td>\n",
       "      <td>200801</td>\n",
       "      <td>21~31</td>\n",
       "      <td>2</td>\n",
       "      <td>37500</td>\n",
       "    </tr>\n",
       "    <tr>\n",
       "      <th>1</th>\n",
       "      <td>1</td>\n",
       "      <td>5399</td>\n",
       "      <td>서울특별시</td>\n",
       "      <td>필운동</td>\n",
       "      <td>142</td>\n",
       "      <td>사직파크맨션</td>\n",
       "      <td>필운동 142 사직파크맨션</td>\n",
       "      <td>99.17</td>\n",
       "      <td>1973</td>\n",
       "      <td>200801</td>\n",
       "      <td>1~10</td>\n",
       "      <td>6</td>\n",
       "      <td>20000</td>\n",
       "    </tr>\n",
       "    <tr>\n",
       "      <th>2</th>\n",
       "      <td>2</td>\n",
       "      <td>3578</td>\n",
       "      <td>서울특별시</td>\n",
       "      <td>필운동</td>\n",
       "      <td>174-1</td>\n",
       "      <td>두레엘리시안</td>\n",
       "      <td>필운동 174-1 두레엘리시안</td>\n",
       "      <td>84.74</td>\n",
       "      <td>2007</td>\n",
       "      <td>200801</td>\n",
       "      <td>1~10</td>\n",
       "      <td>6</td>\n",
       "      <td>38500</td>\n",
       "    </tr>\n",
       "    <tr>\n",
       "      <th>3</th>\n",
       "      <td>3</td>\n",
       "      <td>10957</td>\n",
       "      <td>서울특별시</td>\n",
       "      <td>내수동</td>\n",
       "      <td>95</td>\n",
       "      <td>파크팰리스</td>\n",
       "      <td>내수동 95 파크팰리스</td>\n",
       "      <td>146.39</td>\n",
       "      <td>2003</td>\n",
       "      <td>200801</td>\n",
       "      <td>11~20</td>\n",
       "      <td>15</td>\n",
       "      <td>118000</td>\n",
       "    </tr>\n",
       "    <tr>\n",
       "      <th>4</th>\n",
       "      <td>4</td>\n",
       "      <td>10639</td>\n",
       "      <td>서울특별시</td>\n",
       "      <td>내수동</td>\n",
       "      <td>110-15</td>\n",
       "      <td>킹스매너</td>\n",
       "      <td>내수동 110-15 킹스매너</td>\n",
       "      <td>194.43</td>\n",
       "      <td>2004</td>\n",
       "      <td>200801</td>\n",
       "      <td>21~31</td>\n",
       "      <td>3</td>\n",
       "      <td>120000</td>\n",
       "    </tr>\n",
       "    <tr>\n",
       "      <th>...</th>\n",
       "      <td>...</td>\n",
       "      <td>...</td>\n",
       "      <td>...</td>\n",
       "      <td>...</td>\n",
       "      <td>...</td>\n",
       "      <td>...</td>\n",
       "      <td>...</td>\n",
       "      <td>...</td>\n",
       "      <td>...</td>\n",
       "      <td>...</td>\n",
       "      <td>...</td>\n",
       "      <td>...</td>\n",
       "      <td>...</td>\n",
       "    </tr>\n",
       "    <tr>\n",
       "      <th>742280</th>\n",
       "      <td>1196844</td>\n",
       "      <td>996</td>\n",
       "      <td>서울특별시</td>\n",
       "      <td>강일동</td>\n",
       "      <td>717</td>\n",
       "      <td>고덕리엔파크2단지</td>\n",
       "      <td>강일동 717 고덕리엔파크2단지</td>\n",
       "      <td>59.72</td>\n",
       "      <td>2011</td>\n",
       "      <td>201711</td>\n",
       "      <td>11~20</td>\n",
       "      <td>9</td>\n",
       "      <td>53000</td>\n",
       "    </tr>\n",
       "    <tr>\n",
       "      <th>742281</th>\n",
       "      <td>1196846</td>\n",
       "      <td>682</td>\n",
       "      <td>서울특별시</td>\n",
       "      <td>강일동</td>\n",
       "      <td>674</td>\n",
       "      <td>강일리버파크3단지</td>\n",
       "      <td>강일동 674 강일리버파크3단지</td>\n",
       "      <td>59.87</td>\n",
       "      <td>2009</td>\n",
       "      <td>201711</td>\n",
       "      <td>21~30</td>\n",
       "      <td>12</td>\n",
       "      <td>53000</td>\n",
       "    </tr>\n",
       "    <tr>\n",
       "      <th>742282</th>\n",
       "      <td>1196847</td>\n",
       "      <td>682</td>\n",
       "      <td>서울특별시</td>\n",
       "      <td>강일동</td>\n",
       "      <td>674</td>\n",
       "      <td>강일리버파크3단지</td>\n",
       "      <td>강일동 674 강일리버파크3단지</td>\n",
       "      <td>84.74</td>\n",
       "      <td>2009</td>\n",
       "      <td>201711</td>\n",
       "      <td>21~30</td>\n",
       "      <td>3</td>\n",
       "      <td>56500</td>\n",
       "    </tr>\n",
       "    <tr>\n",
       "      <th>742283</th>\n",
       "      <td>1196848</td>\n",
       "      <td>680</td>\n",
       "      <td>서울특별시</td>\n",
       "      <td>강일동</td>\n",
       "      <td>665</td>\n",
       "      <td>강일리버파크1단지</td>\n",
       "      <td>강일동 665 강일리버파크1단지</td>\n",
       "      <td>84.74</td>\n",
       "      <td>2009</td>\n",
       "      <td>201711</td>\n",
       "      <td>21~30</td>\n",
       "      <td>9</td>\n",
       "      <td>55500</td>\n",
       "    </tr>\n",
       "    <tr>\n",
       "      <th>742284</th>\n",
       "      <td>1196849</td>\n",
       "      <td>996</td>\n",
       "      <td>서울특별시</td>\n",
       "      <td>강일동</td>\n",
       "      <td>717</td>\n",
       "      <td>고덕리엔파크2단지</td>\n",
       "      <td>강일동 717 고덕리엔파크2단지</td>\n",
       "      <td>84.98</td>\n",
       "      <td>2011</td>\n",
       "      <td>201711</td>\n",
       "      <td>21~30</td>\n",
       "      <td>8</td>\n",
       "      <td>63750</td>\n",
       "    </tr>\n",
       "  </tbody>\n",
       "</table>\n",
       "<p>742285 rows × 13 columns</p>\n",
       "</div>"
      ],
      "text/plain": [
       "        transaction_id  apartment_id   city dong   jibun        apt  \\\n",
       "0                    0          7622  서울특별시  신교동    6-13   신현(101동)   \n",
       "1                    1          5399  서울특별시  필운동     142     사직파크맨션   \n",
       "2                    2          3578  서울특별시  필운동   174-1     두레엘리시안   \n",
       "3                    3         10957  서울특별시  내수동      95      파크팰리스   \n",
       "4                    4         10639  서울특별시  내수동  110-15       킹스매너   \n",
       "...                ...           ...    ...  ...     ...        ...   \n",
       "742280         1196844           996  서울특별시  강일동     717  고덕리엔파크2단지   \n",
       "742281         1196846           682  서울특별시  강일동     674  강일리버파크3단지   \n",
       "742282         1196847           682  서울특별시  강일동     674  강일리버파크3단지   \n",
       "742283         1196848           680  서울특별시  강일동     665  강일리버파크1단지   \n",
       "742284         1196849           996  서울특별시  강일동     717  고덕리엔파크2단지   \n",
       "\n",
       "                  addr_kr  exclusive_use_area  year_of_completion  \\\n",
       "0       신교동 6-13 신현(101동)               84.82                2002   \n",
       "1          필운동 142 사직파크맨션               99.17                1973   \n",
       "2        필운동 174-1 두레엘리시안               84.74                2007   \n",
       "3            내수동 95 파크팰리스              146.39                2003   \n",
       "4         내수동 110-15 킹스매너              194.43                2004   \n",
       "...                   ...                 ...                 ...   \n",
       "742280  강일동 717 고덕리엔파크2단지               59.72                2011   \n",
       "742281  강일동 674 강일리버파크3단지               59.87                2009   \n",
       "742282  강일동 674 강일리버파크3단지               84.74                2009   \n",
       "742283  강일동 665 강일리버파크1단지               84.74                2009   \n",
       "742284  강일동 717 고덕리엔파크2단지               84.98                2011   \n",
       "\n",
       "        transaction_year_month transaction_date  floor  transaction_real_price  \n",
       "0                       200801            21~31      2                   37500  \n",
       "1                       200801             1~10      6                   20000  \n",
       "2                       200801             1~10      6                   38500  \n",
       "3                       200801            11~20     15                  118000  \n",
       "4                       200801            21~31      3                  120000  \n",
       "...                        ...              ...    ...                     ...  \n",
       "742280                  201711            11~20      9                   53000  \n",
       "742281                  201711            21~30     12                   53000  \n",
       "742282                  201711            21~30      3                   56500  \n",
       "742283                  201711            21~30      9                   55500  \n",
       "742284                  201711            21~30      8                   63750  \n",
       "\n",
       "[742285 rows x 13 columns]"
      ]
     },
     "execution_count": 11,
     "metadata": {},
     "output_type": "execute_result"
    }
   ],
   "source": [
    "data1 # 인덱스 재정렬 된 것을 확인할 수 있음"
   ]
  },
  {
   "cell_type": "markdown",
   "id": "accredited-child",
   "metadata": {},
   "source": [
    "## 1.4 변수 이름 바꾸기\n",
    "transaction_real_price는 너무 깁니다.\n",
    "이를 price로 바꿔줍시다"
   ]
  },
  {
   "cell_type": "code",
   "execution_count": 12,
   "id": "korean-mystery",
   "metadata": {
    "scrolled": true
   },
   "outputs": [
    {
     "name": "stderr",
     "output_type": "stream",
     "text": [
      "c:\\users\\user\\appdata\\local\\programs\\python\\python37-32\\lib\\site-packages\\pandas\\core\\frame.py:4449: SettingWithCopyWarning: \n",
      "A value is trying to be set on a copy of a slice from a DataFrame\n",
      "\n",
      "See the caveats in the documentation: https://pandas.pydata.org/pandas-docs/stable/user_guide/indexing.html#returning-a-view-versus-a-copy\n",
      "  errors=errors,\n"
     ]
    }
   ],
   "source": [
    "data1.rename(columns = {'transaction_real_price' : 'price'}, inplace = True)\n",
    "# data1.columns = ['transaction_real_price', 'price', '',''~~~~~] 13개 column 다 작성하는 것도 가능"
   ]
  },
  {
   "cell_type": "code",
   "execution_count": 13,
   "id": "whole-onion",
   "metadata": {},
   "outputs": [
    {
     "data": {
      "text/html": [
       "<div>\n",
       "<style scoped>\n",
       "    .dataframe tbody tr th:only-of-type {\n",
       "        vertical-align: middle;\n",
       "    }\n",
       "\n",
       "    .dataframe tbody tr th {\n",
       "        vertical-align: top;\n",
       "    }\n",
       "\n",
       "    .dataframe thead th {\n",
       "        text-align: right;\n",
       "    }\n",
       "</style>\n",
       "<table border=\"1\" class=\"dataframe\">\n",
       "  <thead>\n",
       "    <tr style=\"text-align: right;\">\n",
       "      <th></th>\n",
       "      <th>transaction_id</th>\n",
       "      <th>apartment_id</th>\n",
       "      <th>city</th>\n",
       "      <th>dong</th>\n",
       "      <th>jibun</th>\n",
       "      <th>apt</th>\n",
       "      <th>addr_kr</th>\n",
       "      <th>exclusive_use_area</th>\n",
       "      <th>year_of_completion</th>\n",
       "      <th>transaction_year_month</th>\n",
       "      <th>transaction_date</th>\n",
       "      <th>floor</th>\n",
       "      <th>price</th>\n",
       "    </tr>\n",
       "  </thead>\n",
       "  <tbody>\n",
       "    <tr>\n",
       "      <th>0</th>\n",
       "      <td>0</td>\n",
       "      <td>7622</td>\n",
       "      <td>서울특별시</td>\n",
       "      <td>신교동</td>\n",
       "      <td>6-13</td>\n",
       "      <td>신현(101동)</td>\n",
       "      <td>신교동 6-13 신현(101동)</td>\n",
       "      <td>84.82</td>\n",
       "      <td>2002</td>\n",
       "      <td>200801</td>\n",
       "      <td>21~31</td>\n",
       "      <td>2</td>\n",
       "      <td>37500</td>\n",
       "    </tr>\n",
       "    <tr>\n",
       "      <th>1</th>\n",
       "      <td>1</td>\n",
       "      <td>5399</td>\n",
       "      <td>서울특별시</td>\n",
       "      <td>필운동</td>\n",
       "      <td>142</td>\n",
       "      <td>사직파크맨션</td>\n",
       "      <td>필운동 142 사직파크맨션</td>\n",
       "      <td>99.17</td>\n",
       "      <td>1973</td>\n",
       "      <td>200801</td>\n",
       "      <td>1~10</td>\n",
       "      <td>6</td>\n",
       "      <td>20000</td>\n",
       "    </tr>\n",
       "    <tr>\n",
       "      <th>2</th>\n",
       "      <td>2</td>\n",
       "      <td>3578</td>\n",
       "      <td>서울특별시</td>\n",
       "      <td>필운동</td>\n",
       "      <td>174-1</td>\n",
       "      <td>두레엘리시안</td>\n",
       "      <td>필운동 174-1 두레엘리시안</td>\n",
       "      <td>84.74</td>\n",
       "      <td>2007</td>\n",
       "      <td>200801</td>\n",
       "      <td>1~10</td>\n",
       "      <td>6</td>\n",
       "      <td>38500</td>\n",
       "    </tr>\n",
       "    <tr>\n",
       "      <th>3</th>\n",
       "      <td>3</td>\n",
       "      <td>10957</td>\n",
       "      <td>서울특별시</td>\n",
       "      <td>내수동</td>\n",
       "      <td>95</td>\n",
       "      <td>파크팰리스</td>\n",
       "      <td>내수동 95 파크팰리스</td>\n",
       "      <td>146.39</td>\n",
       "      <td>2003</td>\n",
       "      <td>200801</td>\n",
       "      <td>11~20</td>\n",
       "      <td>15</td>\n",
       "      <td>118000</td>\n",
       "    </tr>\n",
       "    <tr>\n",
       "      <th>4</th>\n",
       "      <td>4</td>\n",
       "      <td>10639</td>\n",
       "      <td>서울특별시</td>\n",
       "      <td>내수동</td>\n",
       "      <td>110-15</td>\n",
       "      <td>킹스매너</td>\n",
       "      <td>내수동 110-15 킹스매너</td>\n",
       "      <td>194.43</td>\n",
       "      <td>2004</td>\n",
       "      <td>200801</td>\n",
       "      <td>21~31</td>\n",
       "      <td>3</td>\n",
       "      <td>120000</td>\n",
       "    </tr>\n",
       "  </tbody>\n",
       "</table>\n",
       "</div>"
      ],
      "text/plain": [
       "   transaction_id  apartment_id   city dong   jibun       apt  \\\n",
       "0               0          7622  서울특별시  신교동    6-13  신현(101동)   \n",
       "1               1          5399  서울특별시  필운동     142    사직파크맨션   \n",
       "2               2          3578  서울특별시  필운동   174-1    두레엘리시안   \n",
       "3               3         10957  서울특별시  내수동      95     파크팰리스   \n",
       "4               4         10639  서울특별시  내수동  110-15      킹스매너   \n",
       "\n",
       "             addr_kr  exclusive_use_area  year_of_completion  \\\n",
       "0  신교동 6-13 신현(101동)               84.82                2002   \n",
       "1     필운동 142 사직파크맨션               99.17                1973   \n",
       "2   필운동 174-1 두레엘리시안               84.74                2007   \n",
       "3       내수동 95 파크팰리스              146.39                2003   \n",
       "4    내수동 110-15 킹스매너              194.43                2004   \n",
       "\n",
       "   transaction_year_month transaction_date  floor   price  \n",
       "0                  200801            21~31      2   37500  \n",
       "1                  200801             1~10      6   20000  \n",
       "2                  200801             1~10      6   38500  \n",
       "3                  200801            11~20     15  118000  \n",
       "4                  200801            21~31      3  120000  "
      ]
     },
     "execution_count": 13,
     "metadata": {},
     "output_type": "execute_result"
    }
   ],
   "source": [
    "data1.head()"
   ]
  },
  {
   "cell_type": "markdown",
   "id": "organized-third",
   "metadata": {},
   "source": [
    "## 1.5 불필요한 변수 삭제\n",
    "- transaction_id 변수는 인덱스이니 삭제합니다.\n",
    "- apartment_id 변수는 다른 변수와 겹치니 삭제합니다.\n",
    "- jibun 변수는 너무 지엽적이고, 유의미하지 않을 것으로 예상되니 삭제합니다.\n",
    "- city는 지금 서울 하나뿐이니 삭제합시다.\n",
    "- 변수들을 삭제하고 데이터프레임의 차원을 재확인 해주세요."
   ]
  },
  {
   "cell_type": "code",
   "execution_count": 14,
   "id": "confirmed-mailing",
   "metadata": {},
   "outputs": [
    {
     "data": {
      "text/plain": [
       "9"
      ]
     },
     "execution_count": 14,
     "metadata": {},
     "output_type": "execute_result"
    }
   ],
   "source": [
    "data1 = data1.drop(['transaction_id'], axis= 1)\n",
    "data1 = data1.drop(['apartment_id'], axis= 1)\n",
    "data1 = data1.drop(['jibun'], axis= 1)\n",
    "data1 = data1.drop(['city'], axis= 1)\n",
    "\n",
    "len(data1.columns)# 열 13개에서 9개로 줄어들게 되었음"
   ]
  },
  {
   "cell_type": "markdown",
   "id": "balanced-minute",
   "metadata": {},
   "source": [
    "## 1.6 연/월 뽑기\n",
    "- 현재는 연도와 월이 동시에 기재되어 있습니다. 이를 분리해줍시다.\n",
    "- 해당 컬럼을 삭제하지는 말고, 연도+월/연도/월 이렇게 총 세가지 컬럼이 남아 있으면 됩니다.\n",
    "- 해당 컬럼의 이름은 transaction_year, transaction_month로 해주세요."
   ]
  },
  {
   "cell_type": "code",
   "execution_count": 15,
   "id": "adequate-budapest",
   "metadata": {},
   "outputs": [],
   "source": [
    "import datetime\n",
    "data1['transaction_year_month'] = data1['transaction_year_month'].astype(str)\n",
    "data1['transaction_year'] = data1['transaction_year_month'].str[:4].astype(int)\n",
    "data1['transaction_month'] = data1['transaction_year_month'].str[4:6].astype(int)\n",
    "data1['transaction_year_month'] = data1['transaction_year_month'].astype(int)"
   ]
  },
  {
   "cell_type": "code",
   "execution_count": 16,
   "id": "minimal-literacy",
   "metadata": {},
   "outputs": [
    {
     "data": {
      "text/html": [
       "<div>\n",
       "<style scoped>\n",
       "    .dataframe tbody tr th:only-of-type {\n",
       "        vertical-align: middle;\n",
       "    }\n",
       "\n",
       "    .dataframe tbody tr th {\n",
       "        vertical-align: top;\n",
       "    }\n",
       "\n",
       "    .dataframe thead th {\n",
       "        text-align: right;\n",
       "    }\n",
       "</style>\n",
       "<table border=\"1\" class=\"dataframe\">\n",
       "  <thead>\n",
       "    <tr style=\"text-align: right;\">\n",
       "      <th></th>\n",
       "      <th>dong</th>\n",
       "      <th>apt</th>\n",
       "      <th>addr_kr</th>\n",
       "      <th>exclusive_use_area</th>\n",
       "      <th>year_of_completion</th>\n",
       "      <th>transaction_year_month</th>\n",
       "      <th>transaction_date</th>\n",
       "      <th>floor</th>\n",
       "      <th>price</th>\n",
       "      <th>transaction_year</th>\n",
       "      <th>transaction_month</th>\n",
       "    </tr>\n",
       "  </thead>\n",
       "  <tbody>\n",
       "    <tr>\n",
       "      <th>0</th>\n",
       "      <td>신교동</td>\n",
       "      <td>신현(101동)</td>\n",
       "      <td>신교동 6-13 신현(101동)</td>\n",
       "      <td>84.82</td>\n",
       "      <td>2002</td>\n",
       "      <td>200801</td>\n",
       "      <td>21~31</td>\n",
       "      <td>2</td>\n",
       "      <td>37500</td>\n",
       "      <td>2008</td>\n",
       "      <td>1</td>\n",
       "    </tr>\n",
       "    <tr>\n",
       "      <th>1</th>\n",
       "      <td>필운동</td>\n",
       "      <td>사직파크맨션</td>\n",
       "      <td>필운동 142 사직파크맨션</td>\n",
       "      <td>99.17</td>\n",
       "      <td>1973</td>\n",
       "      <td>200801</td>\n",
       "      <td>1~10</td>\n",
       "      <td>6</td>\n",
       "      <td>20000</td>\n",
       "      <td>2008</td>\n",
       "      <td>1</td>\n",
       "    </tr>\n",
       "    <tr>\n",
       "      <th>2</th>\n",
       "      <td>필운동</td>\n",
       "      <td>두레엘리시안</td>\n",
       "      <td>필운동 174-1 두레엘리시안</td>\n",
       "      <td>84.74</td>\n",
       "      <td>2007</td>\n",
       "      <td>200801</td>\n",
       "      <td>1~10</td>\n",
       "      <td>6</td>\n",
       "      <td>38500</td>\n",
       "      <td>2008</td>\n",
       "      <td>1</td>\n",
       "    </tr>\n",
       "    <tr>\n",
       "      <th>3</th>\n",
       "      <td>내수동</td>\n",
       "      <td>파크팰리스</td>\n",
       "      <td>내수동 95 파크팰리스</td>\n",
       "      <td>146.39</td>\n",
       "      <td>2003</td>\n",
       "      <td>200801</td>\n",
       "      <td>11~20</td>\n",
       "      <td>15</td>\n",
       "      <td>118000</td>\n",
       "      <td>2008</td>\n",
       "      <td>1</td>\n",
       "    </tr>\n",
       "    <tr>\n",
       "      <th>4</th>\n",
       "      <td>내수동</td>\n",
       "      <td>킹스매너</td>\n",
       "      <td>내수동 110-15 킹스매너</td>\n",
       "      <td>194.43</td>\n",
       "      <td>2004</td>\n",
       "      <td>200801</td>\n",
       "      <td>21~31</td>\n",
       "      <td>3</td>\n",
       "      <td>120000</td>\n",
       "      <td>2008</td>\n",
       "      <td>1</td>\n",
       "    </tr>\n",
       "  </tbody>\n",
       "</table>\n",
       "</div>"
      ],
      "text/plain": [
       "  dong       apt            addr_kr  exclusive_use_area  year_of_completion  \\\n",
       "0  신교동  신현(101동)  신교동 6-13 신현(101동)               84.82                2002   \n",
       "1  필운동    사직파크맨션     필운동 142 사직파크맨션               99.17                1973   \n",
       "2  필운동    두레엘리시안   필운동 174-1 두레엘리시안               84.74                2007   \n",
       "3  내수동     파크팰리스       내수동 95 파크팰리스              146.39                2003   \n",
       "4  내수동      킹스매너    내수동 110-15 킹스매너              194.43                2004   \n",
       "\n",
       "   transaction_year_month transaction_date  floor   price  transaction_year  \\\n",
       "0                  200801            21~31      2   37500              2008   \n",
       "1                  200801             1~10      6   20000              2008   \n",
       "2                  200801             1~10      6   38500              2008   \n",
       "3                  200801            11~20     15  118000              2008   \n",
       "4                  200801            21~31      3  120000              2008   \n",
       "\n",
       "   transaction_month  \n",
       "0                  1  \n",
       "1                  1  \n",
       "2                  1  \n",
       "3                  1  \n",
       "4                  1  "
      ]
     },
     "execution_count": 16,
     "metadata": {},
     "output_type": "execute_result"
    }
   ],
   "source": [
    "data1.head()"
   ]
  },
  {
   "cell_type": "markdown",
   "id": "guided-nitrogen",
   "metadata": {},
   "source": [
    "## 1.7 필요 연도 뽑기\n",
    "- 너무 오래전의 데이터는 현재의 가격에 유의미한 영향을 미치지 않을 것 같습니다.\n",
    "- 더불어서 현재 데이터가 너무 많습니다. 조금이라도 줄이기 위해 연도를 제한합시다.\n",
    "- 2012년도부터의 데이터만 사용하도록 뽑습니다. 이후 인덱스도 재정렬해줍시다."
   ]
  },
  {
   "cell_type": "code",
   "execution_count": 17,
   "id": "potential-lloyd",
   "metadata": {},
   "outputs": [],
   "source": [
    "data1=data1[data1['transaction_year']>=2012]\n",
    "data1.reset_index(drop=True,inplace=True)"
   ]
  },
  {
   "cell_type": "code",
   "execution_count": 18,
   "id": "mysterious-greece",
   "metadata": {},
   "outputs": [
    {
     "data": {
      "text/html": [
       "<div>\n",
       "<style scoped>\n",
       "    .dataframe tbody tr th:only-of-type {\n",
       "        vertical-align: middle;\n",
       "    }\n",
       "\n",
       "    .dataframe tbody tr th {\n",
       "        vertical-align: top;\n",
       "    }\n",
       "\n",
       "    .dataframe thead th {\n",
       "        text-align: right;\n",
       "    }\n",
       "</style>\n",
       "<table border=\"1\" class=\"dataframe\">\n",
       "  <thead>\n",
       "    <tr style=\"text-align: right;\">\n",
       "      <th></th>\n",
       "      <th>dong</th>\n",
       "      <th>apt</th>\n",
       "      <th>addr_kr</th>\n",
       "      <th>exclusive_use_area</th>\n",
       "      <th>year_of_completion</th>\n",
       "      <th>transaction_year_month</th>\n",
       "      <th>transaction_date</th>\n",
       "      <th>floor</th>\n",
       "      <th>price</th>\n",
       "      <th>transaction_year</th>\n",
       "      <th>transaction_month</th>\n",
       "    </tr>\n",
       "  </thead>\n",
       "  <tbody>\n",
       "    <tr>\n",
       "      <th>0</th>\n",
       "      <td>사직동</td>\n",
       "      <td>광화문풍림스페이스본(9-0)</td>\n",
       "      <td>사직동 9 광화문풍림스페이스본(9-0)</td>\n",
       "      <td>95.88</td>\n",
       "      <td>2008</td>\n",
       "      <td>201201</td>\n",
       "      <td>1~10</td>\n",
       "      <td>6</td>\n",
       "      <td>70000</td>\n",
       "      <td>2012</td>\n",
       "      <td>1</td>\n",
       "    </tr>\n",
       "    <tr>\n",
       "      <th>1</th>\n",
       "      <td>사직동</td>\n",
       "      <td>광화문풍림스페이스본(9-0)</td>\n",
       "      <td>사직동 9 광화문풍림스페이스본(9-0)</td>\n",
       "      <td>108.55</td>\n",
       "      <td>2008</td>\n",
       "      <td>201201</td>\n",
       "      <td>11~20</td>\n",
       "      <td>11</td>\n",
       "      <td>100500</td>\n",
       "      <td>2012</td>\n",
       "      <td>1</td>\n",
       "    </tr>\n",
       "    <tr>\n",
       "      <th>2</th>\n",
       "      <td>사직동</td>\n",
       "      <td>광화문풍림스페이스본(9-0)</td>\n",
       "      <td>사직동 9 광화문풍림스페이스본(9-0)</td>\n",
       "      <td>94.51</td>\n",
       "      <td>2008</td>\n",
       "      <td>201201</td>\n",
       "      <td>11~20</td>\n",
       "      <td>1</td>\n",
       "      <td>65800</td>\n",
       "      <td>2012</td>\n",
       "      <td>1</td>\n",
       "    </tr>\n",
       "    <tr>\n",
       "      <th>3</th>\n",
       "      <td>수송동</td>\n",
       "      <td>로얄팰리스스위트</td>\n",
       "      <td>수송동 85 로얄팰리스스위트</td>\n",
       "      <td>42.87</td>\n",
       "      <td>2005</td>\n",
       "      <td>201201</td>\n",
       "      <td>1~10</td>\n",
       "      <td>8</td>\n",
       "      <td>30500</td>\n",
       "      <td>2012</td>\n",
       "      <td>1</td>\n",
       "    </tr>\n",
       "    <tr>\n",
       "      <th>4</th>\n",
       "      <td>수송동</td>\n",
       "      <td>로얄팰리스스위트</td>\n",
       "      <td>수송동 85 로얄팰리스스위트</td>\n",
       "      <td>39.67</td>\n",
       "      <td>2005</td>\n",
       "      <td>201201</td>\n",
       "      <td>21~31</td>\n",
       "      <td>15</td>\n",
       "      <td>30500</td>\n",
       "      <td>2012</td>\n",
       "      <td>1</td>\n",
       "    </tr>\n",
       "    <tr>\n",
       "      <th>...</th>\n",
       "      <td>...</td>\n",
       "      <td>...</td>\n",
       "      <td>...</td>\n",
       "      <td>...</td>\n",
       "      <td>...</td>\n",
       "      <td>...</td>\n",
       "      <td>...</td>\n",
       "      <td>...</td>\n",
       "      <td>...</td>\n",
       "      <td>...</td>\n",
       "      <td>...</td>\n",
       "    </tr>\n",
       "    <tr>\n",
       "      <th>513523</th>\n",
       "      <td>강일동</td>\n",
       "      <td>고덕리엔파크2단지</td>\n",
       "      <td>강일동 717 고덕리엔파크2단지</td>\n",
       "      <td>59.72</td>\n",
       "      <td>2011</td>\n",
       "      <td>201711</td>\n",
       "      <td>11~20</td>\n",
       "      <td>9</td>\n",
       "      <td>53000</td>\n",
       "      <td>2017</td>\n",
       "      <td>11</td>\n",
       "    </tr>\n",
       "    <tr>\n",
       "      <th>513524</th>\n",
       "      <td>강일동</td>\n",
       "      <td>강일리버파크3단지</td>\n",
       "      <td>강일동 674 강일리버파크3단지</td>\n",
       "      <td>59.87</td>\n",
       "      <td>2009</td>\n",
       "      <td>201711</td>\n",
       "      <td>21~30</td>\n",
       "      <td>12</td>\n",
       "      <td>53000</td>\n",
       "      <td>2017</td>\n",
       "      <td>11</td>\n",
       "    </tr>\n",
       "    <tr>\n",
       "      <th>513525</th>\n",
       "      <td>강일동</td>\n",
       "      <td>강일리버파크3단지</td>\n",
       "      <td>강일동 674 강일리버파크3단지</td>\n",
       "      <td>84.74</td>\n",
       "      <td>2009</td>\n",
       "      <td>201711</td>\n",
       "      <td>21~30</td>\n",
       "      <td>3</td>\n",
       "      <td>56500</td>\n",
       "      <td>2017</td>\n",
       "      <td>11</td>\n",
       "    </tr>\n",
       "    <tr>\n",
       "      <th>513526</th>\n",
       "      <td>강일동</td>\n",
       "      <td>강일리버파크1단지</td>\n",
       "      <td>강일동 665 강일리버파크1단지</td>\n",
       "      <td>84.74</td>\n",
       "      <td>2009</td>\n",
       "      <td>201711</td>\n",
       "      <td>21~30</td>\n",
       "      <td>9</td>\n",
       "      <td>55500</td>\n",
       "      <td>2017</td>\n",
       "      <td>11</td>\n",
       "    </tr>\n",
       "    <tr>\n",
       "      <th>513527</th>\n",
       "      <td>강일동</td>\n",
       "      <td>고덕리엔파크2단지</td>\n",
       "      <td>강일동 717 고덕리엔파크2단지</td>\n",
       "      <td>84.98</td>\n",
       "      <td>2011</td>\n",
       "      <td>201711</td>\n",
       "      <td>21~30</td>\n",
       "      <td>8</td>\n",
       "      <td>63750</td>\n",
       "      <td>2017</td>\n",
       "      <td>11</td>\n",
       "    </tr>\n",
       "  </tbody>\n",
       "</table>\n",
       "<p>513528 rows × 11 columns</p>\n",
       "</div>"
      ],
      "text/plain": [
       "       dong              apt                addr_kr  exclusive_use_area  \\\n",
       "0       사직동  광화문풍림스페이스본(9-0)  사직동 9 광화문풍림스페이스본(9-0)               95.88   \n",
       "1       사직동  광화문풍림스페이스본(9-0)  사직동 9 광화문풍림스페이스본(9-0)              108.55   \n",
       "2       사직동  광화문풍림스페이스본(9-0)  사직동 9 광화문풍림스페이스본(9-0)               94.51   \n",
       "3       수송동         로얄팰리스스위트        수송동 85 로얄팰리스스위트               42.87   \n",
       "4       수송동         로얄팰리스스위트        수송동 85 로얄팰리스스위트               39.67   \n",
       "...     ...              ...                    ...                 ...   \n",
       "513523  강일동        고덕리엔파크2단지      강일동 717 고덕리엔파크2단지               59.72   \n",
       "513524  강일동        강일리버파크3단지      강일동 674 강일리버파크3단지               59.87   \n",
       "513525  강일동        강일리버파크3단지      강일동 674 강일리버파크3단지               84.74   \n",
       "513526  강일동        강일리버파크1단지      강일동 665 강일리버파크1단지               84.74   \n",
       "513527  강일동        고덕리엔파크2단지      강일동 717 고덕리엔파크2단지               84.98   \n",
       "\n",
       "        year_of_completion  transaction_year_month transaction_date  floor  \\\n",
       "0                     2008                  201201             1~10      6   \n",
       "1                     2008                  201201            11~20     11   \n",
       "2                     2008                  201201            11~20      1   \n",
       "3                     2005                  201201             1~10      8   \n",
       "4                     2005                  201201            21~31     15   \n",
       "...                    ...                     ...              ...    ...   \n",
       "513523                2011                  201711            11~20      9   \n",
       "513524                2009                  201711            21~30     12   \n",
       "513525                2009                  201711            21~30      3   \n",
       "513526                2009                  201711            21~30      9   \n",
       "513527                2011                  201711            21~30      8   \n",
       "\n",
       "         price  transaction_year  transaction_month  \n",
       "0        70000              2012                  1  \n",
       "1       100500              2012                  1  \n",
       "2        65800              2012                  1  \n",
       "3        30500              2012                  1  \n",
       "4        30500              2012                  1  \n",
       "...        ...               ...                ...  \n",
       "513523   53000              2017                 11  \n",
       "513524   53000              2017                 11  \n",
       "513525   56500              2017                 11  \n",
       "513526   55500              2017                 11  \n",
       "513527   63750              2017                 11  \n",
       "\n",
       "[513528 rows x 11 columns]"
      ]
     },
     "execution_count": 18,
     "metadata": {},
     "output_type": "execute_result"
    }
   ],
   "source": [
    "data1"
   ]
  },
  {
   "cell_type": "markdown",
   "id": "assigned-suspect",
   "metadata": {},
   "source": [
    "## 2. 데이터 시각화\n",
    "해야하니까 하는 EDA를 넘어서, 파생변수를 생성하는데에 있어서 유의미한 인사이트를 얻기 위해 노력해봅시다.\n",
    "\n",
    "일단 그려보기도 하지만, 분석과 관계된 가설을 파악하기 위해 시각화를 진행하는 경우가 많습니다.\n",
    "\n",
    "- 만약 matplotlib이 너무 불편하면 python의 ggplot2인 plotline을 사용해도 괜찮습니다.\n",
    "- 다만 어렵지 않은 시각화 위주로 가려하니, 파이썬의 방식에 익숙해져봅시다.\n",
    "- matplotlib과 더불어 seaborn을 이용해도 괜찮습니다. 색과 같이 세부적인 것은 똑같지 않아도 됩니다.\n",
    "- 오늘의 시각화는 '예쁘게 하기'보다 '일단 그리기'에 초점을 맞췄습니다.\n",
    "- 예시에서는 matplotlib과 seaborn을 왔다갔다 하니까, 큰틀에서만 똑같게 그려주시면 됩니다.\n",
    "- 추가적으로 예쁘게 그리시면 우수 답안으로 선정될 가능성이 높아집니다.\n",
    "- 모든 플랏에는 간단하게나마 해석을 덧붙여 주세요!\n",
    "- 먼저 다음의 코드를 실행합니다."
   ]
  },
  {
   "cell_type": "code",
   "execution_count": 19,
   "id": "efficient-reduction",
   "metadata": {},
   "outputs": [],
   "source": [
    "import matplotlib.pyplot as plt\n",
    "import seaborn as sns"
   ]
  },
  {
   "cell_type": "markdown",
   "id": "broad-stopping",
   "metadata": {},
   "source": [
    "## 2.1 거래가격 분포 확인\n",
    "첫번째 matplotlib/seaborn 시각화인만큼, 코드는 주어져 있습니다. 주석까지 달아둘게요. 조금 수정해볼까요?\n",
    "\n",
    "- 거래가격 변수의 분포를 boxplot과 histogram을 이용해 확인합니다.\n",
    "- 기본적인 플랏은 있는데, 각각 x축 이름을 'Price'로 추가하세요.\n",
    "- 박스플랏 왼쪽의 혼자 있는 1이 거슬리니 지워보세요! 나중에 다시 와서 천천히 지워봐도 됩니다.\n",
    "- 결과를 간단히 해석해주세요!"
   ]
  },
  {
   "cell_type": "code",
   "execution_count": 20,
   "id": "canadian-republican",
   "metadata": {},
   "outputs": [
    {
     "data": {
      "text/plain": [
       "Text(0.5, 1.0, 'Histogram of Price')"
      ]
     },
     "execution_count": 20,
     "metadata": {},
     "output_type": "execute_result"
    },
    {
     "data": {
      "image/png": "[encoded data removed]",
      "text/plain": [
       "<Figure size 1440x720 with 2 Axes>"
      ]
     },
     "metadata": {
      "needs_background": "light"
     },
     "output_type": "display_data"
    }
   ],
   "source": [
    "firstplot = plt.figure(figsize=(20,10)) # (20, 10)  사이즈의 firstplot이란 plot을 생성할거임\n",
    "axes1 = firstplot.add_subplot(1, 2, 1) # 플랏을 분할할건데, 1행 2열로 분할할거고, 이건 그중 첫번째 플랏임\n",
    "axes2 = firstplot.add_subplot(1, 2, 2) # 이건 그중에 두번째 플랏임\n",
    "\n",
    "axes1.boxplot(data1['price'],vert=False) # 첫번째 플랏: boxplot, verse=False:가로로 눕힐거임\n",
    "axes1.set_title ('Boxplot of Price',fontsize=30)# 플랏 제목, 폰트 사이즈:30\n",
    "\n",
    "\n",
    "axes2.hist(data1['price'],bins=50) # 두번째 플랏: histogram, bin을 50개로 구성\n",
    "axes2.set_title('Histogram of Price',fontsize=30)\n",
    "####################### Price x축에???????????!!!!!!"
   ]
  },
  {
   "cell_type": "code",
   "execution_count": 21,
   "id": "genuine-valentine",
   "metadata": {},
   "outputs": [
    {
     "data": {
      "image/png": "[encoded data removed]",
      "text/plain": [
       "<Figure size 432x288 with 2 Axes>"
      ]
     },
     "metadata": {
      "needs_background": "light"
     },
     "output_type": "display_data"
    }
   ],
   "source": [
    "import numpy as np\n",
    "import matplotlib.pyplot as plt\n",
    "\n",
    "x = np.linspace(-1,1,100)\n",
    "sin= np.sin(x)\n",
    "cos= np.cos(x)\n",
    "\n",
    "fig, ax = plt.subplots(1, 2)\n",
    "\n",
    "ax[0].plot(x, sin)\n",
    "ax[1].plot(x, cos)\n",
    "\n",
    "ax[0].set_title(\"Title 1\")\n",
    "ax[1].set_title(\"Title 2\")\n",
    "\n",
    "plt.show()"
   ]
  },
  {
   "cell_type": "code",
   "execution_count": 22,
   "id": "impressed-helena",
   "metadata": {},
   "outputs": [
    {
     "name": "stderr",
     "output_type": "stream",
     "text": [
      "c:\\users\\user\\appdata\\local\\programs\\python\\python37-32\\lib\\site-packages\\seaborn\\distributions.py:2557: FutureWarning: `distplot` is a deprecated function and will be removed in a future version. Please adapt your code to use either `displot` (a figure-level function with similar flexibility) or `histplot` (an axes-level function for histograms).\n",
      "  warnings.warn(msg, FutureWarning)\n"
     ]
    },
    {
     "data": {
      "text/plain": [
       "<AxesSubplot:xlabel='Price', ylabel='Density'>"
      ]
     },
     "execution_count": 22,
     "metadata": {},
     "output_type": "execute_result"
    },
    {
     "data": {
      "image/png": "[encoded data removed]",
      "text/plain": [
       "<Figure size 1296x720 with 4 Axes>"
      ]
     },
     "metadata": {},
     "output_type": "display_data"
    }
   ],
   "source": [
    "sns.set(font_scale = 1.5) # 폰트사이즈를 전체적으로 키워준다\n",
    "fig, axes = plt.subplots(1,2,figsize = (18, 10)) #서브플랏을 1행 2열로 분할하고 #nrows=1,ncols = 2,\n",
    "ax01=fig.add_subplot(1,2,1)\n",
    "ax02=fig.add_subplot(1,2,2)\n",
    "\n",
    "sns.set(font_scale = 1.5) # 폰트사이즈를 전체적으로 키워준다\n",
    "sns.boxplot(x = \"price\",  data = data1, ax=ax01)\n",
    "k = pd.Series(data1['price'], name=\"Price\")\n",
    "sns.distplot(k,ax=ax02)\n",
    "\n",
    "#axes[0].boxplot(x = \"price\",  data = data1)\n",
    "#x = pd.Series(data1['price'], name=\"Price\")\n",
    "#axes[1] = sns.distplot(x)\n",
    "#sns.boxplot(x = \"price\",  data = data1,ax=axes[0][0])\n",
    "#sns.distplot(pd.Series(data1['price'], name=\"Price\"),ax=axes[0][1])\n",
    "#sns.distplot(data1['price'], bins=50)"
   ]
  },
  {
   "cell_type": "markdown",
   "id": "rubber-patient",
   "metadata": {},
   "source": [
    "## 2.2 거래연도 분포 확인 / 거래연도별 가격 분포 확인\n",
    "- 왼쪽에는 거래연도별 거래 횟수의 분포를, 오른쪽에는 거래연도별 거래 가격의 분포를 그려주세요.\n",
    "- 더불어서 제목, y축 label을 쓰세요.\n",
    "- 플랏을 해석해주세요."
   ]
  },
  {
   "cell_type": "code",
   "execution_count": 23,
   "id": "monetary-drawing",
   "metadata": {},
   "outputs": [
    {
     "name": "stderr",
     "output_type": "stream",
     "text": [
      "c:\\users\\user\\appdata\\local\\programs\\python\\python37-32\\lib\\site-packages\\seaborn\\distributions.py:2557: FutureWarning: `distplot` is a deprecated function and will be removed in a future version. Please adapt your code to use either `displot` (a figure-level function with similar flexibility) or `histplot` (an axes-level function for histograms).\n",
      "  warnings.warn(msg, FutureWarning)\n"
     ]
    },
    {
     "data": {
      "image/png": "[encoded data removed]",
      "text/plain": [
       "<Figure size 432x288 with 1 Axes>"
      ]
     },
     "metadata": {},
     "output_type": "display_data"
    }
   ],
   "source": [
    "import pandas as pd\n",
    "plt.ylabel(\"\")\n",
    "x = pd.Series(data1['price'], name=\"Price\")\n",
    "ax = sns.distplot(x)"
   ]
  },
  {
   "cell_type": "code",
   "execution_count": 24,
   "id": "ultimate-glance",
   "metadata": {},
   "outputs": [
    {
     "data": {
      "text/plain": [
       "<AxesSubplot:xlabel='price'>"
      ]
     },
     "execution_count": 24,
     "metadata": {},
     "output_type": "execute_result"
    },
    {
     "data": {
      "image/png": "[encoded data removed]",
      "text/plain": [
       "<Figure size 432x288 with 1 Axes>"
      ]
     },
     "metadata": {},
     "output_type": "display_data"
    }
   ],
   "source": [
    "sns.boxplot(x = \"price\",  data = data1)"
   ]
  },
  {
   "cell_type": "code",
   "execution_count": 25,
   "id": "aerial-mortgage",
   "metadata": {},
   "outputs": [
    {
     "name": "stderr",
     "output_type": "stream",
     "text": [
      "c:\\users\\user\\appdata\\local\\programs\\python\\python37-32\\lib\\site-packages\\seaborn\\_decorators.py:43: FutureWarning: Pass the following variable as a keyword arg: x. From version 0.12, the only valid positional argument will be `data`, and passing other arguments without an explicit keyword will result in an error or misinterpretation.\n",
      "  FutureWarning\n"
     ]
    },
    {
     "data": {
      "text/plain": [
       "<AxesSubplot:xlabel='transaction_year', ylabel='price'>"
      ]
     },
     "execution_count": 25,
     "metadata": {},
     "output_type": "execute_result"
    },
    {
     "data": {
      "image/png": "[encoded data removed]",
      "text/plain": [
       "<Figure size 432x288 with 1 Axes>"
      ]
     },
     "metadata": {},
     "output_type": "display_data"
    }
   ],
   "source": [
    "sns.countplot('transaction_year',data=data1)\n",
    "sns.barplot(data=data1, x='transaction_year', y='price')"
   ]
  },
  {
   "cell_type": "markdown",
   "id": "suited-amber",
   "metadata": {},
   "source": [
    "## 2.3 층 분포 확인 / 층별 가격 분포 확인\n",
    "- 왼쪽에는 층별 거래횟수의 분포를, 오른쪽에는 층별 평균거래가격의 분포를 그려주세요.\n",
    "- 오른쪽 barplot의 error바는 없애서 표현해주세요\n",
    "- x축은 없애주세요\n",
    "- '고층일수록 비싸지 않을까?' 라는 가설을 확인하기 위함입니다.\n",
    "- 결과를 해석해주세요"
   ]
  },
  {
   "cell_type": "code",
   "execution_count": 26,
   "id": "miniature-status",
   "metadata": {},
   "outputs": [
    {
     "name": "stderr",
     "output_type": "stream",
     "text": [
      "c:\\users\\user\\appdata\\local\\programs\\python\\python37-32\\lib\\site-packages\\seaborn\\_decorators.py:43: FutureWarning: Pass the following variable as a keyword arg: x. From version 0.12, the only valid positional argument will be `data`, and passing other arguments without an explicit keyword will result in an error or misinterpretation.\n",
      "  FutureWarning\n"
     ]
    },
    {
     "data": {
      "image/png": "[encoded data removed]",
      "text/plain": [
       "<Figure size 432x288 with 1 Axes>"
      ]
     },
     "metadata": {},
     "output_type": "display_data"
    }
   ],
   "source": [
    "a=sns.countplot('floor',data=data1)\n",
    "a.set(xticklabels=[])  # remove the tick labels\n",
    "#a.set(xlabel=None)\n",
    "plt.show()"
   ]
  },
  {
   "cell_type": "code",
   "execution_count": 27,
   "id": "electronic-thesaurus",
   "metadata": {},
   "outputs": [
    {
     "data": {
      "image/png": "[encoded data removed]",
      "text/plain": [
       "<Figure size 432x288 with 1 Axes>"
      ]
     },
     "metadata": {},
     "output_type": "display_data"
    }
   ],
   "source": [
    "a=sns.barplot(data=data1, x='floor', y='price', ci=None)#신뢰구간(ci)제거\n",
    "a.set(xticklabels=[])\n",
    "plt.show()"
   ]
  },
  {
   "cell_type": "markdown",
   "id": "disturbed-journal",
   "metadata": {},
   "source": [
    "## 2.4 완공연도 분포 확인 / 완공연도별 가격 분포 확인\n",
    "- 왼쪽에는 완공연도별 거래횟수의 분포를, 오른쪽에는 완공연도별 평균거래가격의 분포를 그려주세요.\n",
    "- x축은 없애주세요. 오른쪽일수록 최근입니다.\n",
    "- '최근의 아파트들이 더 비싸지 않을까?'라는 가설을 확인하고 싶습니다.\n",
    "- 결과를 해석해주세요."
   ]
  },
  {
   "cell_type": "code",
   "execution_count": 28,
   "id": "included-contents",
   "metadata": {},
   "outputs": [
    {
     "name": "stderr",
     "output_type": "stream",
     "text": [
      "c:\\users\\user\\appdata\\local\\programs\\python\\python37-32\\lib\\site-packages\\seaborn\\_decorators.py:43: FutureWarning: Pass the following variable as a keyword arg: x. From version 0.12, the only valid positional argument will be `data`, and passing other arguments without an explicit keyword will result in an error or misinterpretation.\n",
      "  FutureWarning\n"
     ]
    },
    {
     "data": {
      "image/png": "[encoded data removed]",
      "text/plain": [
       "<Figure size 432x288 with 1 Axes>"
      ]
     },
     "metadata": {},
     "output_type": "display_data"
    }
   ],
   "source": [
    "a=sns.countplot('year_of_completion',data=data1)\n",
    "a.set(xticklabels=[])  # remove the tick labels\n",
    "#a.set(xlabel=None)\n",
    "plt.show()"
   ]
  },
  {
   "cell_type": "code",
   "execution_count": 29,
   "id": "simplified-channel",
   "metadata": {},
   "outputs": [
    {
     "data": {
      "image/png": "[encoded data removed]",
      "text/plain": [
       "<Figure size 432x288 with 1 Axes>"
      ]
     },
     "metadata": {},
     "output_type": "display_data"
    }
   ],
   "source": [
    "a=sns.barplot(data=data1, x='year_of_completion', y='price', ci=None)#신뢰구간(ci)제거\n",
    "a.set(xticklabels=[])\n",
    "plt.show()"
   ]
  },
  {
   "cell_type": "markdown",
   "id": "dutch-pledge",
   "metadata": {},
   "source": [
    "## 3. 파생변수 생성\n",
    "## 3.1 아파트 연차 변수 생성\n",
    "- 아파트 연차가 오래될수록 거래가격이 낮지 않을까?\n",
    "- 이를 반영하기 위해 아파트 연차 변수 until_trans를 생성합시다.\n",
    "- 그리고 이를 시각화해봅시다.\n",
    "- 그리고 해석해주세요\n",
    "- 단순히 아파트 연차를 넣는 것 이외에 어떤 방식으로 파생변수를 만들 수 있을까요?"
   ]
  },
  {
   "cell_type": "code",
   "execution_count": 30,
   "id": "private-hospital",
   "metadata": {},
   "outputs": [],
   "source": [
    "add_col=2021-data1['year_of_completion'].values\n",
    "data1['until_trans']=add_col\n",
    "#data['until_trans']=data1[2021-data1[['year_of_completion']].astype(int)]\n",
    "#data1=data[data['city']=='서울특별시']\n",
    "####변수 맞나??"
   ]
  },
  {
   "cell_type": "code",
   "execution_count": 31,
   "id": "dietary-congo",
   "metadata": {},
   "outputs": [
    {
     "data": {
      "text/html": [
       "<div>\n",
       "<style scoped>\n",
       "    .dataframe tbody tr th:only-of-type {\n",
       "        vertical-align: middle;\n",
       "    }\n",
       "\n",
       "    .dataframe tbody tr th {\n",
       "        vertical-align: top;\n",
       "    }\n",
       "\n",
       "    .dataframe thead th {\n",
       "        text-align: right;\n",
       "    }\n",
       "</style>\n",
       "<table border=\"1\" class=\"dataframe\">\n",
       "  <thead>\n",
       "    <tr style=\"text-align: right;\">\n",
       "      <th></th>\n",
       "      <th>dong</th>\n",
       "      <th>apt</th>\n",
       "      <th>addr_kr</th>\n",
       "      <th>exclusive_use_area</th>\n",
       "      <th>year_of_completion</th>\n",
       "      <th>transaction_year_month</th>\n",
       "      <th>transaction_date</th>\n",
       "      <th>floor</th>\n",
       "      <th>price</th>\n",
       "      <th>transaction_year</th>\n",
       "      <th>transaction_month</th>\n",
       "      <th>until_trans</th>\n",
       "    </tr>\n",
       "  </thead>\n",
       "  <tbody>\n",
       "    <tr>\n",
       "      <th>0</th>\n",
       "      <td>사직동</td>\n",
       "      <td>광화문풍림스페이스본(9-0)</td>\n",
       "      <td>사직동 9 광화문풍림스페이스본(9-0)</td>\n",
       "      <td>95.88</td>\n",
       "      <td>2008</td>\n",
       "      <td>201201</td>\n",
       "      <td>1~10</td>\n",
       "      <td>6</td>\n",
       "      <td>70000</td>\n",
       "      <td>2012</td>\n",
       "      <td>1</td>\n",
       "      <td>13</td>\n",
       "    </tr>\n",
       "    <tr>\n",
       "      <th>1</th>\n",
       "      <td>사직동</td>\n",
       "      <td>광화문풍림스페이스본(9-0)</td>\n",
       "      <td>사직동 9 광화문풍림스페이스본(9-0)</td>\n",
       "      <td>108.55</td>\n",
       "      <td>2008</td>\n",
       "      <td>201201</td>\n",
       "      <td>11~20</td>\n",
       "      <td>11</td>\n",
       "      <td>100500</td>\n",
       "      <td>2012</td>\n",
       "      <td>1</td>\n",
       "      <td>13</td>\n",
       "    </tr>\n",
       "    <tr>\n",
       "      <th>2</th>\n",
       "      <td>사직동</td>\n",
       "      <td>광화문풍림스페이스본(9-0)</td>\n",
       "      <td>사직동 9 광화문풍림스페이스본(9-0)</td>\n",
       "      <td>94.51</td>\n",
       "      <td>2008</td>\n",
       "      <td>201201</td>\n",
       "      <td>11~20</td>\n",
       "      <td>1</td>\n",
       "      <td>65800</td>\n",
       "      <td>2012</td>\n",
       "      <td>1</td>\n",
       "      <td>13</td>\n",
       "    </tr>\n",
       "    <tr>\n",
       "      <th>3</th>\n",
       "      <td>수송동</td>\n",
       "      <td>로얄팰리스스위트</td>\n",
       "      <td>수송동 85 로얄팰리스스위트</td>\n",
       "      <td>42.87</td>\n",
       "      <td>2005</td>\n",
       "      <td>201201</td>\n",
       "      <td>1~10</td>\n",
       "      <td>8</td>\n",
       "      <td>30500</td>\n",
       "      <td>2012</td>\n",
       "      <td>1</td>\n",
       "      <td>16</td>\n",
       "    </tr>\n",
       "    <tr>\n",
       "      <th>4</th>\n",
       "      <td>수송동</td>\n",
       "      <td>로얄팰리스스위트</td>\n",
       "      <td>수송동 85 로얄팰리스스위트</td>\n",
       "      <td>39.67</td>\n",
       "      <td>2005</td>\n",
       "      <td>201201</td>\n",
       "      <td>21~31</td>\n",
       "      <td>15</td>\n",
       "      <td>30500</td>\n",
       "      <td>2012</td>\n",
       "      <td>1</td>\n",
       "      <td>16</td>\n",
       "    </tr>\n",
       "  </tbody>\n",
       "</table>\n",
       "</div>"
      ],
      "text/plain": [
       "  dong              apt                addr_kr  exclusive_use_area  \\\n",
       "0  사직동  광화문풍림스페이스본(9-0)  사직동 9 광화문풍림스페이스본(9-0)               95.88   \n",
       "1  사직동  광화문풍림스페이스본(9-0)  사직동 9 광화문풍림스페이스본(9-0)              108.55   \n",
       "2  사직동  광화문풍림스페이스본(9-0)  사직동 9 광화문풍림스페이스본(9-0)               94.51   \n",
       "3  수송동         로얄팰리스스위트        수송동 85 로얄팰리스스위트               42.87   \n",
       "4  수송동         로얄팰리스스위트        수송동 85 로얄팰리스스위트               39.67   \n",
       "\n",
       "   year_of_completion  transaction_year_month transaction_date  floor   price  \\\n",
       "0                2008                  201201             1~10      6   70000   \n",
       "1                2008                  201201            11~20     11  100500   \n",
       "2                2008                  201201            11~20      1   65800   \n",
       "3                2005                  201201             1~10      8   30500   \n",
       "4                2005                  201201            21~31     15   30500   \n",
       "\n",
       "   transaction_year  transaction_month  until_trans  \n",
       "0              2012                  1           13  \n",
       "1              2012                  1           13  \n",
       "2              2012                  1           13  \n",
       "3              2012                  1           16  \n",
       "4              2012                  1           16  "
      ]
     },
     "execution_count": 31,
     "metadata": {},
     "output_type": "execute_result"
    }
   ],
   "source": [
    "data1.head()"
   ]
  },
  {
   "cell_type": "code",
   "execution_count": 32,
   "id": "frank-timber",
   "metadata": {},
   "outputs": [
    {
     "name": "stderr",
     "output_type": "stream",
     "text": [
      "c:\\users\\user\\appdata\\local\\programs\\python\\python37-32\\lib\\site-packages\\seaborn\\_decorators.py:43: FutureWarning: Pass the following variable as a keyword arg: x. From version 0.12, the only valid positional argument will be `data`, and passing other arguments without an explicit keyword will result in an error or misinterpretation.\n",
      "  FutureWarning\n"
     ]
    },
    {
     "data": {
      "image/png": "[encoded data removed]",
      "text/plain": [
       "<Figure size 432x288 with 1 Axes>"
      ]
     },
     "metadata": {},
     "output_type": "display_data"
    }
   ],
   "source": [
    "a=sns.countplot('until_trans',data=data1)\n",
    "a.set(xticklabels=[])  # remove the tick labels\n",
    "#a.set(xlabel=None)\n",
    "plt.show()"
   ]
  },
  {
   "cell_type": "code",
   "execution_count": 33,
   "id": "preliminary-rings",
   "metadata": {},
   "outputs": [
    {
     "data": {
      "image/png": "[encoded data removed]",
      "text/plain": [
       "<Figure size 432x288 with 1 Axes>"
      ]
     },
     "metadata": {},
     "output_type": "display_data"
    }
   ],
   "source": [
    "a=sns.barplot(data=data1, x='until_trans', y='price', ci=None)#신뢰구간(ci)제거\n",
    "a.set(xticklabels=[])\n",
    "plt.show()"
   ]
  },
  {
   "cell_type": "markdown",
   "id": "quarterly-sally",
   "metadata": {},
   "source": [
    "## 3.2 거래 일 변수 변환\n",
    "- 1~10은 0으로, 11~20은 1로, 21~28/21~29/21~30/21~31은 2로 변환하자.\n",
    "- np.where을 쓰면 편합니다. R의 ifelse라고 생각하면 됩니다."
   ]
  },
  {
   "cell_type": "code",
   "execution_count": 34,
   "id": "simplified-trail",
   "metadata": {},
   "outputs": [],
   "source": [
    "data1['transaction_date']=np.where(data1['transaction_date']=='1~10',0,data1['transaction_date'])\n",
    "data1['transaction_date']=np.where(data1['transaction_date']=='11~20',1,data1['transaction_date'])\n",
    "data1['transaction_date']=np.where(data1['transaction_date'].isin([0,1]),data1['transaction_date'],2)"
   ]
  },
  {
   "cell_type": "code",
   "execution_count": 35,
   "id": "south-roots",
   "metadata": {},
   "outputs": [
    {
     "data": {
      "text/html": [
       "<div>\n",
       "<style scoped>\n",
       "    .dataframe tbody tr th:only-of-type {\n",
       "        vertical-align: middle;\n",
       "    }\n",
       "\n",
       "    .dataframe tbody tr th {\n",
       "        vertical-align: top;\n",
       "    }\n",
       "\n",
       "    .dataframe thead th {\n",
       "        text-align: right;\n",
       "    }\n",
       "</style>\n",
       "<table border=\"1\" class=\"dataframe\">\n",
       "  <thead>\n",
       "    <tr style=\"text-align: right;\">\n",
       "      <th></th>\n",
       "      <th>dong</th>\n",
       "      <th>apt</th>\n",
       "      <th>addr_kr</th>\n",
       "      <th>exclusive_use_area</th>\n",
       "      <th>year_of_completion</th>\n",
       "      <th>transaction_year_month</th>\n",
       "      <th>transaction_date</th>\n",
       "      <th>floor</th>\n",
       "      <th>price</th>\n",
       "      <th>transaction_year</th>\n",
       "      <th>transaction_month</th>\n",
       "      <th>until_trans</th>\n",
       "    </tr>\n",
       "  </thead>\n",
       "  <tbody>\n",
       "    <tr>\n",
       "      <th>0</th>\n",
       "      <td>사직동</td>\n",
       "      <td>광화문풍림스페이스본(9-0)</td>\n",
       "      <td>사직동 9 광화문풍림스페이스본(9-0)</td>\n",
       "      <td>95.88</td>\n",
       "      <td>2008</td>\n",
       "      <td>201201</td>\n",
       "      <td>0</td>\n",
       "      <td>6</td>\n",
       "      <td>70000</td>\n",
       "      <td>2012</td>\n",
       "      <td>1</td>\n",
       "      <td>13</td>\n",
       "    </tr>\n",
       "    <tr>\n",
       "      <th>1</th>\n",
       "      <td>사직동</td>\n",
       "      <td>광화문풍림스페이스본(9-0)</td>\n",
       "      <td>사직동 9 광화문풍림스페이스본(9-0)</td>\n",
       "      <td>108.55</td>\n",
       "      <td>2008</td>\n",
       "      <td>201201</td>\n",
       "      <td>1</td>\n",
       "      <td>11</td>\n",
       "      <td>100500</td>\n",
       "      <td>2012</td>\n",
       "      <td>1</td>\n",
       "      <td>13</td>\n",
       "    </tr>\n",
       "    <tr>\n",
       "      <th>2</th>\n",
       "      <td>사직동</td>\n",
       "      <td>광화문풍림스페이스본(9-0)</td>\n",
       "      <td>사직동 9 광화문풍림스페이스본(9-0)</td>\n",
       "      <td>94.51</td>\n",
       "      <td>2008</td>\n",
       "      <td>201201</td>\n",
       "      <td>1</td>\n",
       "      <td>1</td>\n",
       "      <td>65800</td>\n",
       "      <td>2012</td>\n",
       "      <td>1</td>\n",
       "      <td>13</td>\n",
       "    </tr>\n",
       "    <tr>\n",
       "      <th>3</th>\n",
       "      <td>수송동</td>\n",
       "      <td>로얄팰리스스위트</td>\n",
       "      <td>수송동 85 로얄팰리스스위트</td>\n",
       "      <td>42.87</td>\n",
       "      <td>2005</td>\n",
       "      <td>201201</td>\n",
       "      <td>0</td>\n",
       "      <td>8</td>\n",
       "      <td>30500</td>\n",
       "      <td>2012</td>\n",
       "      <td>1</td>\n",
       "      <td>16</td>\n",
       "    </tr>\n",
       "    <tr>\n",
       "      <th>4</th>\n",
       "      <td>수송동</td>\n",
       "      <td>로얄팰리스스위트</td>\n",
       "      <td>수송동 85 로얄팰리스스위트</td>\n",
       "      <td>39.67</td>\n",
       "      <td>2005</td>\n",
       "      <td>201201</td>\n",
       "      <td>2</td>\n",
       "      <td>15</td>\n",
       "      <td>30500</td>\n",
       "      <td>2012</td>\n",
       "      <td>1</td>\n",
       "      <td>16</td>\n",
       "    </tr>\n",
       "  </tbody>\n",
       "</table>\n",
       "</div>"
      ],
      "text/plain": [
       "  dong              apt                addr_kr  exclusive_use_area  \\\n",
       "0  사직동  광화문풍림스페이스본(9-0)  사직동 9 광화문풍림스페이스본(9-0)               95.88   \n",
       "1  사직동  광화문풍림스페이스본(9-0)  사직동 9 광화문풍림스페이스본(9-0)              108.55   \n",
       "2  사직동  광화문풍림스페이스본(9-0)  사직동 9 광화문풍림스페이스본(9-0)               94.51   \n",
       "3  수송동         로얄팰리스스위트        수송동 85 로얄팰리스스위트               42.87   \n",
       "4  수송동         로얄팰리스스위트        수송동 85 로얄팰리스스위트               39.67   \n",
       "\n",
       "   year_of_completion  transaction_year_month transaction_date  floor   price  \\\n",
       "0                2008                  201201                0      6   70000   \n",
       "1                2008                  201201                1     11  100500   \n",
       "2                2008                  201201                1      1   65800   \n",
       "3                2005                  201201                0      8   30500   \n",
       "4                2005                  201201                2     15   30500   \n",
       "\n",
       "   transaction_year  transaction_month  until_trans  \n",
       "0              2012                  1           13  \n",
       "1              2012                  1           13  \n",
       "2              2012                  1           13  \n",
       "3              2012                  1           16  \n",
       "4              2012                  1           16  "
      ]
     },
     "execution_count": 35,
     "metadata": {},
     "output_type": "execute_result"
    }
   ],
   "source": [
    "data1.head()"
   ]
  },
  {
   "cell_type": "markdown",
   "id": "beneficial-jaguar",
   "metadata": {},
   "source": [
    "## 3.3 월 변수와 10일 단위 변수 통합\n",
    "- 10일 단위로 월/일 변수를 통합하는 과정입니다.\n",
    "- 월과 일을 한번에 다룰 수 있도록 파생변수를 만들어주세요\n",
    "- 변수 이름은 transaction_month_date로 해주세요.\n",
    "- 다음과 같은 결과가 나오면 됩니다."
   ]
  },
  {
   "cell_type": "code",
   "execution_count": 37,
   "id": "premier-playing",
   "metadata": {},
   "outputs": [],
   "source": [
    "add_col1=data1['transaction_month'].values*3+data1['transaction_date'].values\n",
    "data1['transaction_month_date']=add_col1"
   ]
  },
  {
   "cell_type": "code",
   "execution_count": 38,
   "id": "missing-welsh",
   "metadata": {},
   "outputs": [
    {
     "data": {
      "text/html": [
       "<div>\n",
       "<style scoped>\n",
       "    .dataframe tbody tr th:only-of-type {\n",
       "        vertical-align: middle;\n",
       "    }\n",
       "\n",
       "    .dataframe tbody tr th {\n",
       "        vertical-align: top;\n",
       "    }\n",
       "\n",
       "    .dataframe thead th {\n",
       "        text-align: right;\n",
       "    }\n",
       "</style>\n",
       "<table border=\"1\" class=\"dataframe\">\n",
       "  <thead>\n",
       "    <tr style=\"text-align: right;\">\n",
       "      <th></th>\n",
       "      <th>transaction_month_date</th>\n",
       "      <th>transaction_month</th>\n",
       "      <th>transaction_date</th>\n",
       "    </tr>\n",
       "  </thead>\n",
       "  <tbody>\n",
       "    <tr>\n",
       "      <th>0</th>\n",
       "      <td>3</td>\n",
       "      <td>1</td>\n",
       "      <td>0</td>\n",
       "    </tr>\n",
       "    <tr>\n",
       "      <th>1</th>\n",
       "      <td>4</td>\n",
       "      <td>1</td>\n",
       "      <td>1</td>\n",
       "    </tr>\n",
       "    <tr>\n",
       "      <th>2</th>\n",
       "      <td>4</td>\n",
       "      <td>1</td>\n",
       "      <td>1</td>\n",
       "    </tr>\n",
       "    <tr>\n",
       "      <th>3</th>\n",
       "      <td>3</td>\n",
       "      <td>1</td>\n",
       "      <td>0</td>\n",
       "    </tr>\n",
       "    <tr>\n",
       "      <th>4</th>\n",
       "      <td>5</td>\n",
       "      <td>1</td>\n",
       "      <td>2</td>\n",
       "    </tr>\n",
       "    <tr>\n",
       "      <th>...</th>\n",
       "      <td>...</td>\n",
       "      <td>...</td>\n",
       "      <td>...</td>\n",
       "    </tr>\n",
       "    <tr>\n",
       "      <th>513523</th>\n",
       "      <td>34</td>\n",
       "      <td>11</td>\n",
       "      <td>1</td>\n",
       "    </tr>\n",
       "    <tr>\n",
       "      <th>513524</th>\n",
       "      <td>35</td>\n",
       "      <td>11</td>\n",
       "      <td>2</td>\n",
       "    </tr>\n",
       "    <tr>\n",
       "      <th>513525</th>\n",
       "      <td>35</td>\n",
       "      <td>11</td>\n",
       "      <td>2</td>\n",
       "    </tr>\n",
       "    <tr>\n",
       "      <th>513526</th>\n",
       "      <td>35</td>\n",
       "      <td>11</td>\n",
       "      <td>2</td>\n",
       "    </tr>\n",
       "    <tr>\n",
       "      <th>513527</th>\n",
       "      <td>35</td>\n",
       "      <td>11</td>\n",
       "      <td>2</td>\n",
       "    </tr>\n",
       "  </tbody>\n",
       "</table>\n",
       "<p>513528 rows × 3 columns</p>\n",
       "</div>"
      ],
      "text/plain": [
       "       transaction_month_date  transaction_month transaction_date\n",
       "0                           3                  1                0\n",
       "1                           4                  1                1\n",
       "2                           4                  1                1\n",
       "3                           3                  1                0\n",
       "4                           5                  1                2\n",
       "...                       ...                ...              ...\n",
       "513523                     34                 11                1\n",
       "513524                     35                 11                2\n",
       "513525                     35                 11                2\n",
       "513526                     35                 11                2\n",
       "513527                     35                 11                2\n",
       "\n",
       "[513528 rows x 3 columns]"
      ]
     },
     "execution_count": 38,
     "metadata": {},
     "output_type": "execute_result"
    }
   ],
   "source": [
    "data1[['transaction_month_date', 'transaction_month', 'transaction_date']]"
   ]
  },
  {
   "cell_type": "markdown",
   "id": "incorrect-salon",
   "metadata": {},
   "source": [
    "## 3.4 연도별 주기성을 위한 파생변수 생성 (삼각변환)\n",
    "https://ianlondon.github.io/blog/encoding-cyclical-features-24hour-time/\n",
    "- 다음의 자료를 참고해서 3.3에서 생성한 변수에 대해 삼각변환을 시행해주세요!\n",
    "- 변수명은 sin_date, cos_date로 지정해주세요.\n",
    "- year_of_completion, transaction_year_month, transaction_date, transaction_month, transaction_month_date 변수를 제거하세요"
   ]
  },
  {
   "cell_type": "code",
   "execution_count": null,
   "id": "severe-imaging",
   "metadata": {},
   "outputs": [],
   "source": [
    "import math # 삼각변환 위한 패키지"
   ]
  },
  {
   "cell_type": "markdown",
   "id": "raised-incident",
   "metadata": {},
   "source": [
    "## 3.5 삼각변환을 통한 장점\n",
    "- 만약 이런식으로 처리하지 않고, 시기별로 dummy(one-hot)을 잡거나, label인코딩을 하면 어떻게 될까요?\n",
    "- 이런식으로 삼각변환 했을 때의 장점을 말해주세요.\n",
    "- 다음의 자료를 참고하세요. 직접적으로 관련되기도, 간접적으로 관련되기도 합니다.\n",
    "https://towardsdatascience.com/cyclical-features-encoding-its-about-time-ce23581845ca\n",
    "- 꼭 둘다 읽어주세요!\n",
    "https://skyjwoo.tistory.com/entry/positional-encoding%EC%9D%B4%EB%9E%80-%EB%AC%B4%EC%97%87%EC%9D%B8%EA%B0%80\n",
    "- 현재 자연어처리에 가장 많이 사용되는 트랜스포머 구조에서 positional encoding에 대한 설명입니다."
   ]
  },
  {
   "cell_type": "code",
   "execution_count": null,
   "id": "lovely-collector",
   "metadata": {},
   "outputs": [],
   "source": []
  },
  {
   "cell_type": "markdown",
   "id": "pressing-classics",
   "metadata": {},
   "source": [
    "## 4. 텍스트 데이터 다루기\n",
    "- 보통 이런 정형데이터 분석에서 텍스트 데이터가 끼면 난감합니다. 다만 이런 텍스트들에도 유의미한 정보들이 존재할겁니다.\n",
    "\n",
    "- 우리는 보통 아파트 이름에 막 영어 들어가고 세련될수록 비쌀 것이라고 예측할 수 있습니다.\n",
    "- 무궁화아파트보다는 힐스테이트, 롯데캐슬이 더 비쌀 것 같잖아요?\n",
    "- 이런 정보를 담아낼 수 있도록 과정을 거쳐봅시다."
   ]
  },
  {
   "cell_type": "code",
   "execution_count": 45,
   "id": "appreciated-killing",
   "metadata": {},
   "outputs": [
    {
     "data": {
      "text/plain": [
       "array(['광화문풍림스페이스본(9-0)', '로얄팰리스스위트', '현대뜨레비앙', ..., '현대제이드', '풍천',\n",
       "       '래미안강동팰리스'], dtype=object)"
      ]
     },
     "execution_count": 45,
     "metadata": {},
     "output_type": "execute_result"
    }
   ],
   "source": [
    "data1['apt'].unique()"
   ]
  },
  {
   "cell_type": "markdown",
   "id": "transsexual-router",
   "metadata": {},
   "source": [
    "## 4.1 아파트 이름 한글부분만 뽑기\n",
    "- 아파트의 이름만 가져와서, 한글만 남기세요.\n",
    "\n",
    "- 데이터의 apt열을 가져와서 apt 변수명에 저장하세요.\n",
    "- 특수문자/숫자를 모두 제거하세요.\n",
    "- 앞에 광화문과 같은 지역명은 그냥 남기세요.\n",
    "- 해당 결과를 head를 통해 보여주세요."
   ]
  },
  {
   "cell_type": "code",
   "execution_count": 41,
   "id": "productive-horror",
   "metadata": {},
   "outputs": [
    {
     "data": {
      "text/html": [
       "<div>\n",
       "<style scoped>\n",
       "    .dataframe tbody tr th:only-of-type {\n",
       "        vertical-align: middle;\n",
       "    }\n",
       "\n",
       "    .dataframe tbody tr th {\n",
       "        vertical-align: top;\n",
       "    }\n",
       "\n",
       "    .dataframe thead th {\n",
       "        text-align: right;\n",
       "    }\n",
       "</style>\n",
       "<table border=\"1\" class=\"dataframe\">\n",
       "  <thead>\n",
       "    <tr style=\"text-align: right;\">\n",
       "      <th></th>\n",
       "      <th>dong</th>\n",
       "      <th>apt</th>\n",
       "      <th>addr_kr</th>\n",
       "      <th>exclusive_use_area</th>\n",
       "      <th>year_of_completion</th>\n",
       "      <th>transaction_year_month</th>\n",
       "      <th>transaction_date</th>\n",
       "      <th>floor</th>\n",
       "      <th>price</th>\n",
       "      <th>transaction_year</th>\n",
       "      <th>transaction_month</th>\n",
       "      <th>until_trans</th>\n",
       "      <th>transaction_month_date</th>\n",
       "    </tr>\n",
       "  </thead>\n",
       "  <tbody>\n",
       "    <tr>\n",
       "      <th>0</th>\n",
       "      <td>사직동</td>\n",
       "      <td>광화문풍림스페이스본(9-0)</td>\n",
       "      <td>사직동 9 광화문풍림스페이스본(9-0)</td>\n",
       "      <td>95.88</td>\n",
       "      <td>2008</td>\n",
       "      <td>201201</td>\n",
       "      <td>0</td>\n",
       "      <td>6</td>\n",
       "      <td>70000</td>\n",
       "      <td>2012</td>\n",
       "      <td>1</td>\n",
       "      <td>13</td>\n",
       "      <td>3</td>\n",
       "    </tr>\n",
       "    <tr>\n",
       "      <th>1</th>\n",
       "      <td>사직동</td>\n",
       "      <td>광화문풍림스페이스본(9-0)</td>\n",
       "      <td>사직동 9 광화문풍림스페이스본(9-0)</td>\n",
       "      <td>108.55</td>\n",
       "      <td>2008</td>\n",
       "      <td>201201</td>\n",
       "      <td>1</td>\n",
       "      <td>11</td>\n",
       "      <td>100500</td>\n",
       "      <td>2012</td>\n",
       "      <td>1</td>\n",
       "      <td>13</td>\n",
       "      <td>4</td>\n",
       "    </tr>\n",
       "    <tr>\n",
       "      <th>2</th>\n",
       "      <td>사직동</td>\n",
       "      <td>광화문풍림스페이스본(9-0)</td>\n",
       "      <td>사직동 9 광화문풍림스페이스본(9-0)</td>\n",
       "      <td>94.51</td>\n",
       "      <td>2008</td>\n",
       "      <td>201201</td>\n",
       "      <td>1</td>\n",
       "      <td>1</td>\n",
       "      <td>65800</td>\n",
       "      <td>2012</td>\n",
       "      <td>1</td>\n",
       "      <td>13</td>\n",
       "      <td>4</td>\n",
       "    </tr>\n",
       "    <tr>\n",
       "      <th>3</th>\n",
       "      <td>수송동</td>\n",
       "      <td>로얄팰리스스위트</td>\n",
       "      <td>수송동 85 로얄팰리스스위트</td>\n",
       "      <td>42.87</td>\n",
       "      <td>2005</td>\n",
       "      <td>201201</td>\n",
       "      <td>0</td>\n",
       "      <td>8</td>\n",
       "      <td>30500</td>\n",
       "      <td>2012</td>\n",
       "      <td>1</td>\n",
       "      <td>16</td>\n",
       "      <td>3</td>\n",
       "    </tr>\n",
       "    <tr>\n",
       "      <th>4</th>\n",
       "      <td>수송동</td>\n",
       "      <td>로얄팰리스스위트</td>\n",
       "      <td>수송동 85 로얄팰리스스위트</td>\n",
       "      <td>39.67</td>\n",
       "      <td>2005</td>\n",
       "      <td>201201</td>\n",
       "      <td>2</td>\n",
       "      <td>15</td>\n",
       "      <td>30500</td>\n",
       "      <td>2012</td>\n",
       "      <td>1</td>\n",
       "      <td>16</td>\n",
       "      <td>5</td>\n",
       "    </tr>\n",
       "  </tbody>\n",
       "</table>\n",
       "</div>"
      ],
      "text/plain": [
       "  dong              apt                addr_kr  exclusive_use_area  \\\n",
       "0  사직동  광화문풍림스페이스본(9-0)  사직동 9 광화문풍림스페이스본(9-0)               95.88   \n",
       "1  사직동  광화문풍림스페이스본(9-0)  사직동 9 광화문풍림스페이스본(9-0)              108.55   \n",
       "2  사직동  광화문풍림스페이스본(9-0)  사직동 9 광화문풍림스페이스본(9-0)               94.51   \n",
       "3  수송동         로얄팰리스스위트        수송동 85 로얄팰리스스위트               42.87   \n",
       "4  수송동         로얄팰리스스위트        수송동 85 로얄팰리스스위트               39.67   \n",
       "\n",
       "   year_of_completion  transaction_year_month transaction_date  floor   price  \\\n",
       "0                2008                  201201                0      6   70000   \n",
       "1                2008                  201201                1     11  100500   \n",
       "2                2008                  201201                1      1   65800   \n",
       "3                2005                  201201                0      8   30500   \n",
       "4                2005                  201201                2     15   30500   \n",
       "\n",
       "   transaction_year  transaction_month  until_trans transaction_month_date  \n",
       "0              2012                  1           13                      3  \n",
       "1              2012                  1           13                      4  \n",
       "2              2012                  1           13                      4  \n",
       "3              2012                  1           16                      3  \n",
       "4              2012                  1           16                      5  "
      ]
     },
     "execution_count": 41,
     "metadata": {},
     "output_type": "execute_result"
    }
   ],
   "source": [
    "data1.head()"
   ]
  },
  {
   "cell_type": "markdown",
   "id": "minus-chocolate",
   "metadata": {},
   "source": [
    "## 4.2 아파트 이름 DTM\n",
    "- 아파트 이름에 대한 문서단어행렬을 만드세요.\n",
    "\n",
    "- 사이킷런의 CountVectorizer를 이용하세요. 이때 min_df = 5로 지정해주세요"
   ]
  },
  {
   "cell_type": "code",
   "execution_count": 40,
   "id": "changed-vulnerability",
   "metadata": {},
   "outputs": [],
   "source": [
    "from sklearn.feature_extraction.text import CountVectorizer"
   ]
  },
  {
   "cell_type": "code",
   "execution_count": null,
   "id": "technological-malpractice",
   "metadata": {},
   "outputs": [],
   "source": []
  },
  {
   "cell_type": "markdown",
   "id": "modified-stand",
   "metadata": {},
   "source": [
    "## 4.3 아파트 이름 tf-idf\n",
    "- 아파트 이름에 대한 문서단어행렬을 만드세요.\n",
    "\n",
    "- 사이킷런의 TfidfVectorizer를 이용하세요. 이때 min_df = 5로 지정해주세요."
   ]
  },
  {
   "cell_type": "code",
   "execution_count": null,
   "id": "collected-vacuum",
   "metadata": {},
   "outputs": [],
   "source": [
    "from sklearn.feature_extraction.text import TfidfVectorizer"
   ]
  },
  {
   "cell_type": "code",
   "execution_count": null,
   "id": "cooked-grade",
   "metadata": {},
   "outputs": [],
   "source": []
  },
  {
   "cell_type": "markdown",
   "id": "dangerous-venture",
   "metadata": {},
   "source": [
    "## 4.4 질문\n",
    "- 해당 방식으로 만든 행렬을 원래 데이터프레임에 붙여서 분석/모델링을 진행한다고 생각해봅시다.\n",
    "\n",
    "- 어떤 문제점이 발생할 수 있을까요?\n",
    "- 해당 어떤 방식으로 개선할 수 있을까요?\n",
    "\n",
    "## 4.5 질문\n",
    "- 신입기수분들은 4.5번에 반드시 답변하지 않아도 괜찮습니다.\n",
    "\n",
    "- 만약 해당 아파트 이름을 word2vec으로 임베딩해, 임베딩된 행렬을 원래 데이터프레임에 붙여서 문석 모델링을 진행한다고 합시다.\n",
    "\n",
    "- 이때 word2vec은 100차원에 임베딩 됩니다. (size=100)\n",
    "- word2vec은 잘 작동할 수 있을까요?\n",
    "- 만약에 잘 작동할/작동하지 않을 것 같다면 그 이유를 설명해주세요.\n",
    "- 2021-01/2020-02 딥러닝 팀 3주차 교안을 참고하는 것도 좋습니다.\n"
   ]
  },
  {
   "cell_type": "code",
   "execution_count": null,
   "id": "rocky-assessment",
   "metadata": {},
   "outputs": [],
   "source": []
  },
  {
   "cell_type": "markdown",
   "id": "young-burning",
   "metadata": {},
   "source": [
    "## 5. 인코딩\n",
    "현실적인 이유로 정형데이터 모델링에서는 텍스트를 자연어처리에서의 접근으로 임베딩하는 것보단, 인코딩하는 것이 일반적입니다. 다만 동일하게 원핫으로 하게되면 범주가 많은 경우 힘들 수 있겠죠? 어려움을 직접 마주하고 해결해봅시다."
   ]
  },
  {
   "cell_type": "code",
   "execution_count": null,
   "id": "blond-answer",
   "metadata": {},
   "outputs": [],
   "source": []
  },
  {
   "cell_type": "markdown",
   "id": "signal-disposition",
   "metadata": {},
   "source": [
    "## 5.1 원핫 인코딩\n",
    "- dong과 apt 변수에 대해 원핫 인코딩을 시행하고, 원래변수명_onehot로 저장해주세요.\n",
    "- 조금 오래 걸릴 수 있습니다.\n",
    "- 만들어진 데이터프레임의 차원을 확인하고, 원핫 인코딩이 이 상황에 적절할지 말해주세요."
   ]
  },
  {
   "cell_type": "code",
   "execution_count": null,
   "id": "impossible-concern",
   "metadata": {},
   "outputs": [],
   "source": []
  },
  {
   "cell_type": "markdown",
   "id": "welsh-proceeding",
   "metadata": {},
   "source": [
    "## 5.2 레이블(label) 인코딩 - transaction_year\n",
    "- 원래 데이터에서 transaction_year에 대해 label 인코딩을 시행하세요. 그리고 head()로 결과를 보여주세요.\n",
    "- 연도 자체는 하나의 범주로 인식할 수 있으니 인코딩을 시행해줍니다.\n",
    "- 이런 인코딩이 적절할지 2.2의 시각화를 보고 답변해주세요."
   ]
  },
  {
   "cell_type": "code",
   "execution_count": null,
   "id": "identical-lindsay",
   "metadata": {},
   "outputs": [],
   "source": []
  },
  {
   "cell_type": "markdown",
   "id": "accessible-consultation",
   "metadata": {},
   "source": [
    "## 5.3 레이블(label) 인코딩\n",
    "- dong과 apt 변수에 대해 레이블 인코딩을 시행하고, 원래변수명_label로 저장해주세요.\n",
    "- 그리고 head()로 결과를 보여주세요.\n",
    "- 이런 방식의 인코딩이 적절한지 답변해주세요."
   ]
  },
  {
   "cell_type": "code",
   "execution_count": null,
   "id": "bigger-chase",
   "metadata": {},
   "outputs": [],
   "source": [
    "data_label.head()"
   ]
  },
  {
   "cell_type": "markdown",
   "id": "centered-season",
   "metadata": {},
   "source": [
    "## 5.3 mean encoding\n",
    "- 원래변수명_mean을 만드세요.\n",
    "- 해당 데이터에 대해 apt변수에 대해 mean encoding을 시행하세요. head()를 통해 확인하세요.\n",
    "- 이런 인코딩이 적절할지, 장/단점에 대해 말해주세요."
   ]
  },
  {
   "cell_type": "code",
   "execution_count": null,
   "id": "novel-ethernet",
   "metadata": {},
   "outputs": [],
   "source": [
    "data.head()"
   ]
  }
 ],
 "metadata": {
  "kernelspec": {
   "display_name": "Python 3",
   "language": "python",
   "name": "python3"
  },
  "language_info": {
   "codemirror_mode": {
    "name": "ipython",
    "version": 3
   },
   "file_extension": ".py",
   "mimetype": "text/x-python",
   "name": "python",
   "nbconvert_exporter": "python",
   "pygments_lexer": "ipython3",
   "version": "3.7.3"
  }
 },
 "nbformat": 4,
 "nbformat_minor": 5
}
