{
 "cells": [
  {
   "cell_type": "markdown",
   "metadata": {},
   "source": [
    "# 21-01 주제분석 3주차 패키지"
   ]
  },
  {
   "cell_type": "markdown",
   "metadata": {},
   "source": [
    "- 주제분석 3주차 분석 툴은 Python/R 둘 다 가능합니다. \n",
    "    - 1-3주차 패키지 문제의 조건 및 힌트는 Python을 기준으로 하지만, R을 사용해도 무방합니다.\n",
    "    - 다만 2/3주차의 머신러닝/딥러닝 모듈을 편하게 사용하기 위해서는 Python이 더 편할겁니다.\n",
    "\n",
    "- 제출형식은 pdf/html/doc/ppt 등 발표가 가능하면 괜찮습니다. 하지만 html로 주시면 가장 감사합니다.\n",
    "\n",
    "- 패키지 과제 발표는 세미나 쉬는시간 이후에 하게 되며, 역시 랜덤으로 5시00분에 발표됩니다.\n",
    "\n",
    "- 제출기한은 목요일 자정까지이며 지각시 벌금 5000원이 있습니다. 미제출 시 만원입니다. \n",
    "    - 패키지 2회 무단 미제출 시 퇴출이니 유의해 주세요."
   ]
  },
  {
   "cell_type": "code",
   "execution_count": 1,
   "metadata": {},
   "outputs": [
    {
     "name": "stdout",
     "output_type": "stream",
     "text": [
      "Requirement already satisfied: lightgbm in c:\\users\\user\\anaconda3\\lib\\site-packages (3.1.1)\n",
      "Requirement already satisfied: scikit-learn!=0.22.0 in c:\\users\\user\\anaconda3\\lib\\site-packages (from lightgbm) (0.24.1)\n",
      "Requirement already satisfied: numpy in c:\\users\\user\\anaconda3\\lib\\site-packages (from lightgbm) (1.19.5)\n",
      "Requirement already satisfied: scipy in c:\\users\\user\\anaconda3\\lib\\site-packages (from lightgbm) (1.6.2)\n",
      "Requirement already satisfied: wheel in c:\\users\\user\\anaconda3\\lib\\site-packages (from lightgbm) (0.36.2)\n",
      "Requirement already satisfied: threadpoolctl>=2.0.0 in c:\\users\\user\\anaconda3\\lib\\site-packages (from scikit-learn!=0.22.0->lightgbm) (2.1.0)\n",
      "Requirement already satisfied: joblib>=0.11 in c:\\users\\user\\anaconda3\\lib\\site-packages (from scikit-learn!=0.22.0->lightgbm) (1.0.1)\n"
     ]
    }
   ],
   "source": [
    "! pip install lightgbm"
   ]
  },
  {
   "cell_type": "code",
   "execution_count": 2,
   "metadata": {},
   "outputs": [],
   "source": [
    "import pandas as pd \n",
    "import numpy as np\n",
    "\n",
    "import matplotlib.pyplot as plt\n",
    "import seaborn as sns\n",
    "\n",
    "from category_encoders.cat_boost import CatBoostEncoder\n",
    "import lightgbm as lgb\n",
    "from lightgbm import LGBMModel,LGBMRegressor"
   ]
  },
  {
   "cell_type": "markdown",
   "metadata": {},
   "source": [
    "- 이번주에 다룰 내용은 머신러닝 모델의 해석/기본적인 딥러닝입니다.\n",
    "- 더불어서 다뤄지지는 내용은 randomness control입니다.\n",
    "- 먼저 주어진 코드를 실행하세요."
   ]
  },
  {
   "cell_type": "code",
   "execution_count": 3,
   "metadata": {},
   "outputs": [
    {
     "data": {
      "text/plain": [
       "LGBMRegressor(learning_rate=0.3)"
      ]
     },
     "execution_count": 3,
     "metadata": {},
     "output_type": "execute_result"
    }
   ],
   "source": [
    "train = pd.read_csv('train.csv')\n",
    "test=  pd.read_csv('test.csv')\n",
    "\n",
    "train_x = train.drop(['price'], axis = 1)\n",
    "train_y = train.loc[:, ['price']]\n",
    "test_x = test.drop(['price'], axis = 1)\n",
    "test_y = np.sqrt(test.loc[:, ['price']])\n",
    "\n",
    "feature_list = list(train_x.columns)\n",
    "\n",
    "CBE_encoder = CatBoostEncoder()\n",
    "train_cbe = CBE_encoder.fit_transform(train_x[feature_list], train_y)\n",
    "test_cbe = CBE_encoder.transform(test_x[feature_list])\n",
    "\n",
    "best_lgbm_reg = LGBMRegressor(learning_rate = 0.3)\n",
    "best_lgbm_reg.fit(train_cbe, train_y)"
   ]
  },
  {
   "cell_type": "code",
   "execution_count": 4,
   "metadata": {},
   "outputs": [
    {
     "data": {
      "text/plain": [
       "LGBMRegressor(learning_rate=0.3)"
      ]
     },
     "execution_count": 4,
     "metadata": {},
     "output_type": "execute_result"
    }
   ],
   "source": [
    "best_lgbm_reg"
   ]
  },
  {
   "cell_type": "markdown",
   "metadata": {},
   "source": [
    "## 1. Interpretable ML\n",
    "\n",
    "해석가능한 머신러닝은 모델의 결과를 해석하기 위한 방법들입니다. 보통 랜덤포레스트(Random Forest)에서 Feature(Variable) Importance에 대해 들어본 적이 있을텐데, 그것과 유사합니다. Interpretable ML 방법의 특징은 어떤 모델에도 다 적용이 가능하다는건데, SVM이나 Neural Net같이 해석이 불가능하다고 알려진 모델들도 어떤 변수들이 모델을 만드는데 있어서 주요하게 사용되었는지를 파악할 수 있게 해줍니다. 물론 회귀분석처럼 '다른 변수들을 고정시킨 상황에서 $x_1$이 한단위 증가하면 $y$가 평균적으로 $\\beta_1$만큼 증가한다' 라고 말할수는 없지만요!\n",
    "\n",
    "Feature Importance/Partial Dependence Plot/Lime/SHAP 에 대한 해석은 조금 조심해야할 필요가 있습니다. 밑의 링크의 '모델해석 및 이탈원인 분석'을 참고하면 되는데, 처음에 딱 이해하기 쉬운 개념은 아니지만 나중에 보다보면 더 이해가 잘 되실 것 같아요.\n",
    "\n",
    "https://danbi-ncsoft.github.io/competition/2019/02/19/big-contest-2018-retrospect.html\n",
    "\n",
    "나중에 관심있으시면 이 책을 보는 것을 추천드립니다. 저도 아직 안봄 ㅎ\n",
    "\n",
    "https://christophm.github.io/interpretable-ml-book/"
   ]
  },
  {
   "cell_type": "markdown",
   "metadata": {},
   "source": [
    "#### **오늘의 해석은 각각 방법에 입각해서 엄밀하게 해석할 필요없이, 그냥 가볍게 해석해주시면 됩니다!**"
   ]
  },
  {
   "cell_type": "markdown",
   "metadata": {},
   "source": [
    "### 1.1 모델 불러오기\n",
    "\n",
    "주어진 패키지를 불러오고, `lgbm.pkl`을 불러오세요."
   ]
  },
  {
   "cell_type": "code",
   "execution_count": 5,
   "metadata": {},
   "outputs": [],
   "source": [
    "import pickle\n",
    "import joblib"
   ]
  },
  {
   "cell_type": "code",
   "execution_count": 6,
   "metadata": {},
   "outputs": [],
   "source": [
    "lgbm_pickle=joblib.load('lgbm.pkl')"
   ]
  },
  {
   "cell_type": "markdown",
   "metadata": {},
   "source": [
    "### 1.2 Feature Importance 확인과 해석\n",
    "\n",
    "- 불러온 모델에 대해 `plot_importance`함수를 통해 Feature Importance를 시각화해주세요.\n",
    "- 결과에 대해 간단히 해석해주세요.\n",
    "\n",
    "여기서 Feature Importance는 Permutation를 통한 중요도를 보는 것이 아니고, tree 모델 자체의 구성에서 어떤 변수가 지니불순도를 잘 줄였는지를 확인한 것이라고 이해해주시면 됩니다. "
   ]
  },
  {
   "cell_type": "code",
   "execution_count": 7,
   "metadata": {},
   "outputs": [
    {
     "data": {
      "text/plain": [
       "<AxesSubplot:title={'center':'Feature importance'}, xlabel='Feature importance', ylabel='Features'>"
      ]
     },
     "execution_count": 7,
     "metadata": {},
     "output_type": "execute_result"
    },
    {
     "data": {
      "image/png": "[encoded data removed]",
      "text/plain": [
       "<Figure size 432x288 with 1 Axes>"
      ]
     },
     "metadata": {
      "needs_background": "light"
     },
     "output_type": "display_data"
    }
   ],
   "source": [
    "from lightgbm import plot_importance\n",
    "plot_importance(lgbm_pickle)"
   ]
  },
  {
   "cell_type": "markdown",
   "metadata": {},
   "source": [
    "**이제는 불러온 모델 말고, `best_lgbm_reg`를 사용하세요.**"
   ]
  },
  {
   "cell_type": "code",
   "execution_count": 8,
   "metadata": {},
   "outputs": [
    {
     "data": {
      "text/plain": [
       "<AxesSubplot:title={'center':'Feature importance'}, xlabel='Feature importance', ylabel='Features'>"
      ]
     },
     "execution_count": 8,
     "metadata": {},
     "output_type": "execute_result"
    },
    {
     "data": {
      "image/png": "[encoded data removed]",
      "text/plain": [
       "<Figure size 432x288 with 1 Axes>"
      ]
     },
     "metadata": {
      "needs_background": "light"
     },
     "output_type": "display_data"
    }
   ],
   "source": [
    "from lightgbm import plot_importance\n",
    "plot_importance(best_lgbm_reg,max_num_features=8)"
   ]
  },
  {
   "cell_type": "markdown",
   "metadata": {},
   "source": [
    "### 1.3 Randomness Control\n",
    "\n",
    "- `random, numpy` 패키지의 난수를 42로 고정하세요.\n",
    "- 더불어서 `os` 패키지의 난수도 고정해야합니다.\n",
    "\n",
    "Permutation 방식의 Feature Importance를 시행한건데, permutation자체에 랜덤성이 있다보니 결과가 재현 가능하도록 시드를 고정해줍니다.\n",
    "\n",
    "파이썬의 시드 고정은 R처럼 그냥 `set.seed()`한다고 해서 고정되지 않습니다. 전체 파이썬과 여러 패키지들의 randomness를 각각 고정해주어야 재현가능해집니다. 정말 귀찮고, 딥러닝의 경우 GPU를 사용할 경우 GPU의 계산과 관련된 시드를 고정하면 속도가 상당히 느려진다고 알려져 있습니다. 더불어서 재현도 100%되진 않으며 성능도 살짝 떨어진다고는 하지만, GPU를 사용하지 않는 경우에는 문제가 없고 최소한 할줄은 알아야겠죠?\n",
    "\n",
    "더불어서 왜 저런식으로 복잡하게 구성이 되는가?에 대해 궁금할 수 있는데 찾아본 적은 없지만 아마도 `numpy`는 c++가 뒤에서 연산을 해주는 것으로 알고있고(그래서 빠름!), `random`은 그냥 파이썬이고, `os`는 우리 os를 건드리는 것이 아닐까....? 추측입니다 :)"
   ]
  },
  {
   "cell_type": "code",
   "execution_count": 9,
   "metadata": {},
   "outputs": [],
   "source": [
    "import random\n",
    "import os"
   ]
  },
  {
   "cell_type": "code",
   "execution_count": 10,
   "metadata": {},
   "outputs": [
    {
     "data": {
      "text/plain": [
       "b'\\x02\\x88O\\x0ei\\xaf\\xae\\x9d\\x068\\x9c\\xdf\\xbc\"\\xf4s)\\xc3\\xecN\\xee/\\xd4*\\xacD\\xc2\\x80\\xe4\\x01\\x9d\\xa6\\xec\\x00\\\\\\xd2\\x17\\xbf\\xeduN\\xbd'"
      ]
     },
     "execution_count": 10,
     "metadata": {},
     "output_type": "execute_result"
    }
   ],
   "source": [
    "np.random.rand(42)\n",
    "os.urandom(42)"
   ]
  },
  {
   "cell_type": "markdown",
   "metadata": {},
   "source": [
    "### 1.4 Permutation Feature Importance\n",
    "\n",
    "- permutation feature importance를 계산하기 위해 `best_lgbm_reg`를 `permutation_importance`함수를 사용해 test set에 적합하세요.\n",
    "- permutation feature importance를 시각화해주세요.\n",
    "\n",
    "위의 1.2에서는 train에서 변수중요도를 보고, 지금은 test에서 봐서 좀 이상하다고 생각할수도 있습니다. 편의를 위해, 그리고 실제로 변수중요도에 대한 부분에서 어떤 set에 대해 봐야하는지가 100% 정답처럼 있는 것은 아니라고 알고 있어요.(물론 제가 틀렸을수도!) 아무튼 너무 신경쓰지말고 해주세요!"
   ]
  },
  {
   "cell_type": "code",
   "execution_count": 11,
   "metadata": {},
   "outputs": [],
   "source": [
    "from sklearn.inspection import permutation_importance"
   ]
  },
  {
   "cell_type": "code",
   "execution_count": 12,
   "metadata": {},
   "outputs": [
    {
     "data": {
      "image/png": "[encoded data removed]",
      "text/plain": [
       "<Figure size 432x288 with 1 Axes>"
      ]
     },
     "metadata": {
      "needs_background": "light"
     },
     "output_type": "display_data"
    }
   ],
   "source": [
    "result= permutation_importance(best_lgbm_reg, test_cbe, test_y,n_repeats=30,random_state=42)\n",
    "\n",
    "sorted_idx = result.importances_mean.argsort()\n",
    " \n",
    "fig, ax = plt.subplots()\n",
    "ax.boxplot(result.importances[sorted_idx].T,\n",
    "           vert=False, labels=test_cbe.columns[sorted_idx])\n",
    "ax.set_title(\"Permutation Importances (test set)\")\n",
    "fig.tight_layout()\n",
    "plt.show()"
   ]
  },
  {
   "cell_type": "markdown",
   "metadata": {},
   "source": [
    "### 1.5 SHAP(SHapley Additive exPlanations)의 확인과 해석\n",
    "\n",
    "- SHAP Value를 구하고 간단한 해석을 해주세요.\n",
    "- `shap.TreeExplainer`, `shap_values`, `shap.summary_plot` 정도의 함수만 사용하면 됩니다.\n",
    "- 결과가 좀 다른건 상관없습니다."
   ]
  },
  {
   "cell_type": "code",
   "execution_count": 13,
   "metadata": {},
   "outputs": [
    {
     "name": "stdout",
     "output_type": "stream",
     "text": [
      "Requirement already satisfied: shap in c:\\users\\user\\anaconda3\\lib\\site-packages (0.39.0)\n",
      "Requirement already satisfied: scikit-learn in c:\\users\\user\\anaconda3\\lib\\site-packages (from shap) (0.24.1)\n",
      "Requirement already satisfied: numpy in c:\\users\\user\\anaconda3\\lib\\site-packages (from shap) (1.19.5)\n",
      "Requirement already satisfied: cloudpickle in c:\\users\\user\\anaconda3\\lib\\site-packages (from shap) (1.6.0)\n",
      "Requirement already satisfied: scipy in c:\\users\\user\\anaconda3\\lib\\site-packages (from shap) (1.6.2)\n",
      "Requirement already satisfied: numba in c:\\users\\user\\anaconda3\\lib\\site-packages (from shap) (0.53.1)\n",
      "Requirement already satisfied: slicer==0.0.7 in c:\\users\\user\\anaconda3\\lib\\site-packages (from shap) (0.0.7)\n",
      "Requirement already satisfied: pandas in c:\\users\\user\\anaconda3\\lib\\site-packages (from shap) (1.2.4)\n",
      "Requirement already satisfied: tqdm>4.25.0 in c:\\users\\user\\anaconda3\\lib\\site-packages (from shap) (4.59.0)\n",
      "Requirement already satisfied: llvmlite<0.37,>=0.36.0rc1 in c:\\users\\user\\anaconda3\\lib\\site-packages (from numba->shap) (0.36.0)\n",
      "Requirement already satisfied: setuptools in c:\\users\\user\\anaconda3\\lib\\site-packages (from numba->shap) (52.0.0.post20210125)\n",
      "Requirement already satisfied: python-dateutil>=2.7.3 in c:\\users\\user\\anaconda3\\lib\\site-packages (from pandas->shap) (2.8.1)\n",
      "Requirement already satisfied: pytz>=2017.3 in c:\\users\\user\\anaconda3\\lib\\site-packages (from pandas->shap) (2021.1)\n",
      "Requirement already satisfied: six>=1.5 in c:\\users\\user\\anaconda3\\lib\\site-packages (from python-dateutil>=2.7.3->pandas->shap) (1.15.0)\n",
      "Requirement already satisfied: threadpoolctl>=2.0.0 in c:\\users\\user\\anaconda3\\lib\\site-packages (from scikit-learn->shap) (2.1.0)\n",
      "Requirement already satisfied: joblib>=0.11 in c:\\users\\user\\anaconda3\\lib\\site-packages (from scikit-learn->shap) (1.0.1)\n"
     ]
    }
   ],
   "source": [
    "! pip install shap"
   ]
  },
  {
   "cell_type": "code",
   "execution_count": 14,
   "metadata": {},
   "outputs": [],
   "source": [
    "import shap"
   ]
  },
  {
   "cell_type": "code",
   "execution_count": 15,
   "metadata": {},
   "outputs": [
    {
     "data": {
      "image/png": "[encoded data removed]",
      "text/plain": [
       "<Figure size 576x338.4 with 2 Axes>"
      ]
     },
     "metadata": {
      "needs_background": "light"
     },
     "output_type": "display_data"
    }
   ],
   "source": [
    "explainer = shap.TreeExplainer(best_lgbm_reg) \n",
    "shap_values = explainer.shap_values(test_cbe)\n",
    "shap.summary_plot(shap_values, test_cbe)"
   ]
  },
  {
   "cell_type": "markdown",
   "metadata": {},
   "source": [
    "## 2. 딥러닝 기본\n",
    "\n",
    "딥러닝 정말 간단히 해볼겁니다!"
   ]
  },
  {
   "cell_type": "markdown",
   "metadata": {},
   "source": [
    "### 2.1 주어진 코드를 실행하고, 현재 신경망의 구조에 대해 간단히 설명해주세요."
   ]
  },
  {
   "cell_type": "code",
   "execution_count": 16,
   "metadata": {},
   "outputs": [],
   "source": [
    "train = pd.read_csv('train.csv')\n",
    "train_x = train.drop(['price'], axis = 1)\n",
    "train_y = train.loc[:, ['price']]\n",
    "\n",
    "val_x = train_x[train['transaction_year'] == 4]\n",
    "val_y = train_y[train['transaction_year'] == 4]\n",
    "train_tune_x = train_x[train['transaction_year'] < 4]\n",
    "train_tune_y = train_y[train['transaction_year'] < 4]\n",
    "\n",
    "CBE_encoder = CatBoostEncoder()\n",
    "train_tune_cbe = CBE_encoder.fit_transform(train_tune_x[feature_list], train_tune_y)\n",
    "val_cbe = CBE_encoder.transform(val_x[feature_list])"
   ]
  },
  {
   "cell_type": "code",
   "execution_count": 17,
   "metadata": {},
   "outputs": [
    {
     "name": "stdout",
     "output_type": "stream",
     "text": [
      "Requirement already satisfied: tensorflow in c:\\users\\user\\anaconda3\\lib\\site-packages (2.4.1)\n",
      "Requirement already satisfied: tensorflow-estimator<2.5.0,>=2.4.0 in c:\\users\\user\\anaconda3\\lib\\site-packages (from tensorflow) (2.4.0)\n",
      "Requirement already satisfied: grpcio~=1.32.0 in c:\\users\\user\\anaconda3\\lib\\site-packages (from tensorflow) (1.32.0)\n",
      "Requirement already satisfied: numpy~=1.19.2 in c:\\users\\user\\anaconda3\\lib\\site-packages (from tensorflow) (1.19.5)\n",
      "Requirement already satisfied: flatbuffers~=1.12.0 in c:\\users\\user\\anaconda3\\lib\\site-packages (from tensorflow) (1.12)\n",
      "Requirement already satisfied: typing-extensions~=3.7.4 in c:\\users\\user\\anaconda3\\lib\\site-packages (from tensorflow) (3.7.4.3)\n",
      "Requirement already satisfied: absl-py~=0.10 in c:\\users\\user\\anaconda3\\lib\\site-packages (from tensorflow) (0.12.0)\n",
      "Requirement already satisfied: protobuf>=3.9.2 in c:\\users\\user\\anaconda3\\lib\\site-packages (from tensorflow) (3.15.8)\n",
      "Requirement already satisfied: h5py~=2.10.0 in c:\\users\\user\\anaconda3\\lib\\site-packages (from tensorflow) (2.10.0)\n",
      "Requirement already satisfied: keras-preprocessing~=1.1.2 in c:\\users\\user\\anaconda3\\lib\\site-packages (from tensorflow) (1.1.2)\n",
      "Requirement already satisfied: wheel~=0.35 in c:\\users\\user\\anaconda3\\lib\\site-packages (from tensorflow) (0.36.2)\n",
      "Requirement already satisfied: wrapt~=1.12.1 in c:\\users\\user\\anaconda3\\lib\\site-packages (from tensorflow) (1.12.1)\n",
      "Requirement already satisfied: termcolor~=1.1.0 in c:\\users\\user\\anaconda3\\lib\\site-packages (from tensorflow) (1.1.0)\n",
      "Requirement already satisfied: gast==0.3.3 in c:\\users\\user\\anaconda3\\lib\\site-packages (from tensorflow) (0.3.3)\n",
      "Requirement already satisfied: tensorboard~=2.4 in c:\\users\\user\\anaconda3\\lib\\site-packages (from tensorflow) (2.5.0)\n",
      "Requirement already satisfied: google-pasta~=0.2 in c:\\users\\user\\anaconda3\\lib\\site-packages (from tensorflow) (0.2.0)\n",
      "Requirement already satisfied: six~=1.15.0 in c:\\users\\user\\anaconda3\\lib\\site-packages (from tensorflow) (1.15.0)\n",
      "Requirement already satisfied: astunparse~=1.6.3 in c:\\users\\user\\anaconda3\\lib\\site-packages (from tensorflow) (1.6.3)\n",
      "Requirement already satisfied: opt-einsum~=3.3.0 in c:\\users\\user\\anaconda3\\lib\\site-packages (from tensorflow) (3.3.0)\n",
      "Requirement already satisfied: google-auth<2,>=1.6.3 in c:\\users\\user\\anaconda3\\lib\\site-packages (from tensorboard~=2.4->tensorflow) (1.30.0)\n",
      "Requirement already satisfied: google-auth-oauthlib<0.5,>=0.4.1 in c:\\users\\user\\anaconda3\\lib\\site-packages (from tensorboard~=2.4->tensorflow) (0.4.4)\n",
      "Requirement already satisfied: requests<3,>=2.21.0 in c:\\users\\user\\anaconda3\\lib\\site-packages (from tensorboard~=2.4->tensorflow) (2.25.1)\n",
      "Requirement already satisfied: setuptools>=41.0.0 in c:\\users\\user\\anaconda3\\lib\\site-packages (from tensorboard~=2.4->tensorflow) (52.0.0.post20210125)\n",
      "Requirement already satisfied: tensorboard-plugin-wit>=1.6.0 in c:\\users\\user\\anaconda3\\lib\\site-packages (from tensorboard~=2.4->tensorflow) (1.8.0)\n",
      "Requirement already satisfied: werkzeug>=0.11.15 in c:\\users\\user\\anaconda3\\lib\\site-packages (from tensorboard~=2.4->tensorflow) (1.0.1)\n",
      "Requirement already satisfied: markdown>=2.6.8 in c:\\users\\user\\anaconda3\\lib\\site-packages (from tensorboard~=2.4->tensorflow) (3.3.4)\n",
      "Requirement already satisfied: tensorboard-data-server<0.7.0,>=0.6.0 in c:\\users\\user\\anaconda3\\lib\\site-packages (from tensorboard~=2.4->tensorflow) (0.6.0)\n",
      "Requirement already satisfied: pyasn1-modules>=0.2.1 in c:\\users\\user\\anaconda3\\lib\\site-packages (from google-auth<2,>=1.6.3->tensorboard~=2.4->tensorflow) (0.2.8)\n",
      "Requirement already satisfied: rsa<5,>=3.1.4 in c:\\users\\user\\anaconda3\\lib\\site-packages (from google-auth<2,>=1.6.3->tensorboard~=2.4->tensorflow) (4.7.2)\n",
      "Requirement already satisfied: cachetools<5.0,>=2.0.0 in c:\\users\\user\\anaconda3\\lib\\site-packages (from google-auth<2,>=1.6.3->tensorboard~=2.4->tensorflow) (4.2.2)\n",
      "Requirement already satisfied: requests-oauthlib>=0.7.0 in c:\\users\\user\\anaconda3\\lib\\site-packages (from google-auth-oauthlib<0.5,>=0.4.1->tensorboard~=2.4->tensorflow) (1.3.0)\n",
      "Requirement already satisfied: pyasn1<0.5.0,>=0.4.6 in c:\\users\\user\\anaconda3\\lib\\site-packages (from pyasn1-modules>=0.2.1->google-auth<2,>=1.6.3->tensorboard~=2.4->tensorflow) (0.4.8)\n",
      "Requirement already satisfied: urllib3<1.27,>=1.21.1 in c:\\users\\user\\anaconda3\\lib\\site-packages (from requests<3,>=2.21.0->tensorboard~=2.4->tensorflow) (1.26.4)\n",
      "Requirement already satisfied: certifi>=2017.4.17 in c:\\users\\user\\anaconda3\\lib\\site-packages (from requests<3,>=2.21.0->tensorboard~=2.4->tensorflow) (2020.12.5)\n",
      "Requirement already satisfied: idna<3,>=2.5 in c:\\users\\user\\anaconda3\\lib\\site-packages (from requests<3,>=2.21.0->tensorboard~=2.4->tensorflow) (2.10)\n",
      "Requirement already satisfied: chardet<5,>=3.0.2 in c:\\users\\user\\anaconda3\\lib\\site-packages (from requests<3,>=2.21.0->tensorboard~=2.4->tensorflow) (4.0.0)\n",
      "Requirement already satisfied: oauthlib>=3.0.0 in c:\\users\\user\\anaconda3\\lib\\site-packages (from requests-oauthlib>=0.7.0->google-auth-oauthlib<0.5,>=0.4.1->tensorboard~=2.4->tensorflow) (3.1.0)\n"
     ]
    }
   ],
   "source": [
    "! pip install tensorflow"
   ]
  },
  {
   "cell_type": "code",
   "execution_count": 18,
   "metadata": {},
   "outputs": [
    {
     "name": "stdout",
     "output_type": "stream",
     "text": [
      "Requirement already satisfied: keras in c:\\users\\user\\anaconda3\\lib\\site-packages (2.4.3)\n",
      "Requirement already satisfied: h5py in c:\\users\\user\\anaconda3\\lib\\site-packages (from keras) (2.10.0)\n",
      "Requirement already satisfied: pyyaml in c:\\users\\user\\anaconda3\\lib\\site-packages (from keras) (5.4.1)\n",
      "Requirement already satisfied: scipy>=0.14 in c:\\users\\user\\anaconda3\\lib\\site-packages (from keras) (1.6.2)\n",
      "Requirement already satisfied: numpy>=1.9.1 in c:\\users\\user\\anaconda3\\lib\\site-packages (from keras) (1.19.5)\n",
      "Requirement already satisfied: six in c:\\users\\user\\anaconda3\\lib\\site-packages (from h5py->keras) (1.15.0)\n"
     ]
    }
   ],
   "source": [
    "! pip install keras"
   ]
  },
  {
   "cell_type": "code",
   "execution_count": 19,
   "metadata": {},
   "outputs": [],
   "source": [
    "import tensorflow as tf\n",
    "import keras\n",
    "\n",
    "from keras import models\n",
    "from keras import layers\n",
    "from keras.layers import Dense\n",
    "from keras.optimizers import Adam"
   ]
  },
  {
   "cell_type": "code",
   "execution_count": 20,
   "metadata": {},
   "outputs": [],
   "source": [
    "def build_model():\n",
    "  model = keras.Sequential([\n",
    "    layers.Dense(256, activation='relu', input_shape=[len(train_tune_cbe.keys())]),\n",
    "    layers.Dense(64, activation='relu'),\n",
    "    layers.Dense(32, activation='relu'),\n",
    "    layers.Dense(1)\n",
    "  ])\n",
    "\n",
    "  optimizer = tf.keras.optimizers.RMSprop(0.0001)\n",
    "\n",
    "  model.compile(loss='mse',\n",
    "                optimizer=optimizer,\n",
    "                metrics=['mse'])\n",
    "  return model"
   ]
  },
  {
   "cell_type": "code",
   "execution_count": 21,
   "metadata": {
    "scrolled": false
   },
   "outputs": [
    {
     "name": "stdout",
     "output_type": "stream",
     "text": [
      "Model: \"sequential\"\n",
      "_________________________________________________________________\n",
      "Layer (type)                 Output Shape              Param #   \n",
      "=================================================================\n",
      "dense (Dense)                (None, 256)               2304      \n",
      "_________________________________________________________________\n",
      "dense_1 (Dense)              (None, 64)                16448     \n",
      "_________________________________________________________________\n",
      "dense_2 (Dense)              (None, 32)                2080      \n",
      "_________________________________________________________________\n",
      "dense_3 (Dense)              (None, 1)                 33        \n",
      "=================================================================\n",
      "Total params: 20,865\n",
      "Trainable params: 20,865\n",
      "Non-trainable params: 0\n",
      "_________________________________________________________________\n"
     ]
    }
   ],
   "source": [
    "model = build_model()\n",
    "model.summary()\n",
    "#4층 구조,(256(2^8)개의 유닛으로 밀집된 층, 64(2^6)개의 유닛으로 밀집된 층,32(2^5)개의 유닛으로 밀집된 층,1(2^0)개의 유닛으로 밀집된 층), 손실함수는 Relu함수이다."
   ]
  },
  {
   "cell_type": "markdown",
   "metadata": {},
   "source": [
    "### 2.2 training loss와 validation loss를 시각화하세요.\n",
    "\n",
    "- 본인 컴에서 돌리면 꽤나 돌아갈수도 있어요. 주분과 함께하려면 패키지가 코랩으로 가거나, 주분이 코랩으로 가면 한번에 투 컴을 돌릴 수 있습니다."
   ]
  },
  {
   "cell_type": "code",
   "execution_count": 22,
   "metadata": {},
   "outputs": [
    {
     "name": "stdout",
     "output_type": "stream",
     "text": [
      "Epoch 1/300\n",
      "611/611 [==============================] - 11s 18ms/step - loss: 407647232.0000 - mse: 407647232.0000 - val_loss: 348772864.0000 - val_mse: 348772864.0000\n",
      "Epoch 2/300\n",
      "611/611 [==============================] - 11s 17ms/step - loss: 232832960.0000 - mse: 232832960.0000 - val_loss: 325689376.0000 - val_mse: 325689376.0000\n",
      "Epoch 3/300\n",
      "611/611 [==============================] - 12s 19ms/step - loss: 232295984.0000 - mse: 232295984.0000 - val_loss: 337509088.0000 - val_mse: 337509088.0000\n",
      "Epoch 4/300\n",
      "611/611 [==============================] - 13s 21ms/step - loss: 232011296.0000 - mse: 232011296.0000 - val_loss: 330001344.0000 - val_mse: 330001344.0000\n",
      "Epoch 5/300\n",
      "611/611 [==============================] - 14s 22ms/step - loss: 231667184.0000 - mse: 231667184.0000 - val_loss: 341997632.0000 - val_mse: 341997632.0000\n",
      "Epoch 6/300\n",
      "611/611 [==============================] - 13s 21ms/step - loss: 231428224.0000 - mse: 231428224.0000 - val_loss: 331713984.0000 - val_mse: 331713984.0000\n",
      "Epoch 7/300\n",
      "611/611 [==============================] - 14s 23ms/step - loss: 231191328.0000 - mse: 231191328.0000 - val_loss: 329061952.0000 - val_mse: 329061952.0000\n",
      "Epoch 8/300\n",
      "611/611 [==============================] - 15s 25ms/step - loss: 230845920.0000 - mse: 230845920.0000 - val_loss: 322196832.0000 - val_mse: 322196832.0000\n",
      "Epoch 9/300\n",
      "611/611 [==============================] - 12s 20ms/step - loss: 230522720.0000 - mse: 230522720.0000 - val_loss: 325812480.0000 - val_mse: 325812480.0000\n",
      "Epoch 10/300\n",
      "611/611 [==============================] - 11s 18ms/step - loss: 230151072.0000 - mse: 230151072.0000 - val_loss: 331470368.0000 - val_mse: 331470368.0000\n",
      "Epoch 11/300\n",
      "611/611 [==============================] - 11s 18ms/step - loss: 229815840.0000 - mse: 229815840.0000 - val_loss: 332881376.0000 - val_mse: 332881376.0000\n",
      "Epoch 12/300\n",
      "611/611 [==============================] - 11s 19ms/step - loss: 229322832.0000 - mse: 229322832.0000 - val_loss: 329920384.0000 - val_mse: 329920384.0000\n",
      "Epoch 13/300\n",
      "611/611 [==============================] - 11s 18ms/step - loss: 228875584.0000 - mse: 228875584.0000 - val_loss: 348816576.0000 - val_mse: 348816576.0000\n",
      "Epoch 14/300\n",
      "611/611 [==============================] - 11s 18ms/step - loss: 228252656.0000 - mse: 228252656.0000 - val_loss: 329341792.0000 - val_mse: 329341792.0000\n",
      "Epoch 15/300\n",
      "611/611 [==============================] - 12s 19ms/step - loss: 227648592.0000 - mse: 227648592.0000 - val_loss: 322074688.0000 - val_mse: 322074688.0000\n",
      "Epoch 16/300\n",
      "611/611 [==============================] - 11s 18ms/step - loss: 227035520.0000 - mse: 227035520.0000 - val_loss: 335181760.0000 - val_mse: 335181760.0000\n",
      "Epoch 17/300\n",
      "611/611 [==============================] - 11s 19ms/step - loss: 226253328.0000 - mse: 226253328.0000 - val_loss: 348386304.0000 - val_mse: 348386304.0000\n",
      "Epoch 18/300\n",
      "611/611 [==============================] - 12s 19ms/step - loss: 225353104.0000 - mse: 225353104.0000 - val_loss: 345359488.0000 - val_mse: 345359488.00004.0000 - mse:\n",
      "Epoch 19/300\n",
      "611/611 [==============================] - 10s 17ms/step - loss: 224299952.0000 - mse: 224299952.0000 - val_loss: 330453792.0000 - val_mse: 330453792.0000\n",
      "Epoch 20/300\n",
      "611/611 [==============================] - 11s 18ms/step - loss: 223183504.0000 - mse: 223183504.0000 - val_loss: 312349504.0000 - val_mse: 312349504.0000\n",
      "Epoch 21/300\n",
      "611/611 [==============================] - 11s 17ms/step - loss: 221987040.0000 - mse: 221987040.0000 - val_loss: 348416832.0000 - val_mse: 348416832.0000\n",
      "Epoch 22/300\n",
      "611/611 [==============================] - 11s 18ms/step - loss: 220621568.0000 - mse: 220621568.0000 - val_loss: 320645376.0000 - val_mse: 320645376.0000\n",
      "Epoch 23/300\n",
      "611/611 [==============================] - 12s 19ms/step - loss: 219220224.0000 - mse: 219220224.0000 - val_loss: 307012224.0000 - val_mse: 307012224.0000\n",
      "Epoch 24/300\n",
      "611/611 [==============================] - 10s 17ms/step - loss: 217535856.0000 - mse: 217535856.0000 - val_loss: 324478624.0000 - val_mse: 324478624.0000\n",
      "Epoch 25/300\n",
      "611/611 [==============================] - 10s 16ms/step - loss: 215945184.0000 - mse: 215945184.0000 - val_loss: 315486592.0000 - val_mse: 315486592.0000\n",
      "Epoch 26/300\n",
      "611/611 [==============================] - 11s 18ms/step - loss: 214291952.0000 - mse: 214291952.0000 - val_loss: 292556096.0000 - val_mse: 292556096.0000\n",
      "Epoch 27/300\n",
      "611/611 [==============================] - 11s 18ms/step - loss: 212662896.0000 - mse: 212662896.0000 - val_loss: 332643648.0000 - val_mse: 332643648.0000\n",
      "Epoch 28/300\n",
      "611/611 [==============================] - 12s 19ms/step - loss: 210933248.0000 - mse: 210933248.0000 - val_loss: 319142048.0000 - val_mse: 319142048.0000\n",
      "Epoch 29/300\n",
      "611/611 [==============================] - 12s 20ms/step - loss: 209264432.0000 - mse: 209264432.0000 - val_loss: 335357184.0000 - val_mse: 335357184.0000- m\n",
      "Epoch 30/300\n",
      "611/611 [==============================] - 10s 17ms/step - loss: 207750032.0000 - mse: 207750032.0000 - val_loss: 290210336.0000 - val_mse: 290210336.0000\n",
      "Epoch 31/300\n",
      "611/611 [==============================] - 10s 17ms/step - loss: 206144304.0000 - mse: 206144304.0000 - val_loss: 282632256.0000 - val_mse: 282632256.0000\n",
      "Epoch 32/300\n",
      "611/611 [==============================] - 11s 18ms/step - loss: 205051904.0000 - mse: 205051904.0000 - val_loss: 296958688.0000 - val_mse: 296958688.0000\n",
      "Epoch 33/300\n",
      "611/611 [==============================] - 11s 18ms/step - loss: 203819632.0000 - mse: 203819632.0000 - val_loss: 299805056.0000 - val_mse: 299805056.0000\n",
      "Epoch 34/300\n",
      "611/611 [==============================] - 11s 18ms/step - loss: 202528848.0000 - mse: 202528848.0000 - val_loss: 307105664.0000 - val_mse: 307105664.0000\n",
      "Epoch 35/300\n",
      "611/611 [==============================] - 10s 17ms/step - loss: 201698224.0000 - mse: 201698224.0000 - val_loss: 341638688.0000 - val_mse: 341638688.0000\n",
      "Epoch 36/300\n",
      "611/611 [==============================] - 11s 19ms/step - loss: 201017312.0000 - mse: 201017312.0000 - val_loss: 281674208.0000 - val_mse: 281674208.0000\n",
      "Epoch 37/300\n",
      "611/611 [==============================] - 12s 20ms/step - loss: 200200288.0000 - mse: 200200288.0000 - val_loss: 315797792.0000 - val_mse: 315797792.0000\n",
      "Epoch 38/300\n",
      "611/611 [==============================] - 14s 23ms/step - loss: 199673760.0000 - mse: 199673760.0000 - val_loss: 359774272.0000 - val_mse: 359774272.0000\n",
      "Epoch 39/300\n",
      "611/611 [==============================] - 11s 19ms/step - loss: 199242496.0000 - mse: 199242496.0000 - val_loss: 328329952.0000 - val_mse: 328329952.0000\n",
      "Epoch 40/300\n",
      "611/611 [==============================] - 11s 18ms/step - loss: 198615232.0000 - mse: 198615232.0000 - val_loss: 322317696.0000 - val_mse: 322317696.0000\n",
      "Epoch 41/300\n",
      "611/611 [==============================] - 10s 16ms/step - loss: 198078992.0000 - mse: 198078992.0000 - val_loss: 299128288.0000 - val_mse: 299128288.0000\n",
      "Epoch 42/300\n",
      "611/611 [==============================] - 12s 19ms/step - loss: 197681776.0000 - mse: 197681776.0000 - val_loss: 268515744.0000 - val_mse: 268515744.0000\n",
      "Epoch 43/300\n",
      "611/611 [==============================] - 11s 18ms/step - loss: 197625456.0000 - mse: 197625456.0000 - val_loss: 294316768.0000 - val_mse: 294316768.0000\n",
      "Epoch 44/300\n",
      "611/611 [==============================] - 13s 21ms/step - loss: 196721504.0000 - mse: 196721504.0000 - val_loss: 275971904.0000 - val_mse: 275971904.0000\n",
      "Epoch 45/300\n",
      "611/611 [==============================] - 12s 20ms/step - loss: 196728544.0000 - mse: 196728544.0000 - val_loss: 341783616.0000 - val_mse: 341783616.0000\n",
      "Epoch 46/300\n",
      "611/611 [==============================] - 11s 19ms/step - loss: 196076640.0000 - mse: 196076640.0000 - val_loss: 280478880.0000 - val_mse: 280478880.0000\n",
      "Epoch 47/300\n",
      "611/611 [==============================] - 12s 19ms/step - loss: 196018640.0000 - mse: 196018640.0000 - val_loss: 358452160.0000 - val_mse: 358452160.0000\n",
      "Epoch 48/300\n",
      "611/611 [==============================] - 11s 19ms/step - loss: 195480496.0000 - mse: 195480496.0000 - val_loss: 300534688.0000 - val_mse: 300534688.0000\n",
      "Epoch 49/300\n"
     ]
    },
    {
     "name": "stdout",
     "output_type": "stream",
     "text": [
      "611/611 [==============================] - 12s 19ms/step - loss: 195201456.0000 - mse: 195201456.0000 - val_loss: 371289440.0000 - val_mse: 371289440.0000\n",
      "Epoch 50/300\n",
      "611/611 [==============================] - 11s 18ms/step - loss: 194977664.0000 - mse: 194977664.0000 - val_loss: 271245696.0000 - val_mse: 271245696.0000\n",
      "Epoch 51/300\n",
      "611/611 [==============================] - 11s 18ms/step - loss: 194631376.0000 - mse: 194631376.0000 - val_loss: 317919200.0000 - val_mse: 317919200.0000\n",
      "Epoch 52/300\n",
      "611/611 [==============================] - 11s 18ms/step - loss: 194238112.0000 - mse: 194238112.0000 - val_loss: 285437632.0000 - val_mse: 285437632.0000\n",
      "Epoch 53/300\n",
      "611/611 [==============================] - 11s 17ms/step - loss: 193962560.0000 - mse: 193962560.0000 - val_loss: 272824096.0000 - val_mse: 272824096.0000\n",
      "Epoch 54/300\n",
      "611/611 [==============================] - 11s 18ms/step - loss: 193714048.0000 - mse: 193714048.0000 - val_loss: 281625184.0000 - val_mse: 281625184.0000\n",
      "Epoch 55/300\n",
      "611/611 [==============================] - 12s 19ms/step - loss: 193452048.0000 - mse: 193452048.0000 - val_loss: 341733536.0000 - val_mse: 341733536.0000\n",
      "Epoch 56/300\n",
      "611/611 [==============================] - 11s 18ms/step - loss: 193386208.0000 - mse: 193386208.0000 - val_loss: 359662720.0000 - val_mse: 359662720.0000\n",
      "Epoch 57/300\n",
      "611/611 [==============================] - 10s 17ms/step - loss: 192843792.0000 - mse: 192843792.0000 - val_loss: 296619008.0000 - val_mse: 296619008.0000\n",
      "Epoch 58/300\n",
      "611/611 [==============================] - 10s 17ms/step - loss: 192558928.0000 - mse: 192558928.0000 - val_loss: 374338912.0000 - val_mse: 374338912.0000\n",
      "Epoch 59/300\n",
      "611/611 [==============================] - 11s 18ms/step - loss: 192283936.0000 - mse: 192283936.0000 - val_loss: 279103200.0000 - val_mse: 279103200.0000\n",
      "Epoch 60/300\n",
      "611/611 [==============================] - 11s 18ms/step - loss: 191911456.0000 - mse: 191911456.0000 - val_loss: 260149936.0000 - val_mse: 260149936.0000\n",
      "Epoch 61/300\n",
      "611/611 [==============================] - 12s 19ms/step - loss: 191715200.0000 - mse: 191715200.0000 - val_loss: 259942368.0000 - val_mse: 259942368.0000s - loss: 191666432.0000 - mse: 191666432.000\n",
      "Epoch 62/300\n",
      "611/611 [==============================] - 12s 19ms/step - loss: 191564992.0000 - mse: 191564992.0000 - val_loss: 294184800.0000 - val_mse: 294184800.0000\n",
      "Epoch 63/300\n",
      "611/611 [==============================] - 12s 20ms/step - loss: 191091232.0000 - mse: 191091232.0000 - val_loss: 266001888.0000 - val_mse: 266001888.0000\n",
      "Epoch 64/300\n",
      "611/611 [==============================] - 12s 19ms/step - loss: 190829920.0000 - mse: 190829920.0000 - val_loss: 315293248.0000 - val_mse: 315293248.0000\n",
      "Epoch 65/300\n",
      "611/611 [==============================] - 14s 22ms/step - loss: 190757968.0000 - mse: 190757968.0000 - val_loss: 297699680.0000 - val_mse: 297699680.0000\n",
      "Epoch 66/300\n",
      "611/611 [==============================] - 13s 21ms/step - loss: 190359024.0000 - mse: 190359024.0000 - val_loss: 297009280.0000 - val_mse: 297009280.0000\n",
      "Epoch 67/300\n",
      "611/611 [==============================] - 12s 20ms/step - loss: 190108512.0000 - mse: 190108512.0000 - val_loss: 353630816.0000 - val_mse: 353630816.0000\n",
      "Epoch 68/300\n",
      "611/611 [==============================] - 11s 19ms/step - loss: 189763248.0000 - mse: 189763248.0000 - val_loss: 307015808.0000 - val_mse: 307015808.0000\n",
      "Epoch 69/300\n",
      "611/611 [==============================] - 11s 18ms/step - loss: 189853264.0000 - mse: 189853264.0000 - val_loss: 296803712.0000 - val_mse: 296803712.0000\n",
      "Epoch 70/300\n",
      "611/611 [==============================] - 11s 18ms/step - loss: 189129776.0000 - mse: 189129776.0000 - val_loss: 255017312.0000 - val_mse: 255017312.0000\n",
      "Epoch 71/300\n",
      "611/611 [==============================] - 12s 20ms/step - loss: 189100272.0000 - mse: 189100272.0000 - val_loss: 255409568.0000 - val_mse: 255409568.0000\n",
      "Epoch 72/300\n",
      "611/611 [==============================] - 12s 19ms/step - loss: 189050912.0000 - mse: 189050912.0000 - val_loss: 311449152.0000 - val_mse: 311449152.0000\n",
      "Epoch 73/300\n",
      "611/611 [==============================] - 11s 17ms/step - loss: 188566368.0000 - mse: 188566368.0000 - val_loss: 318875872.0000 - val_mse: 318875872.0000\n",
      "Epoch 74/300\n",
      "611/611 [==============================] - 10s 17ms/step - loss: 188448688.0000 - mse: 188448688.0000 - val_loss: 309095168.0000 - val_mse: 309095168.0000\n",
      "Epoch 75/300\n",
      "611/611 [==============================] - 11s 18ms/step - loss: 188206848.0000 - mse: 188206848.0000 - val_loss: 273629184.0000 - val_mse: 273629184.0000\n",
      "Epoch 76/300\n",
      "611/611 [==============================] - 11s 18ms/step - loss: 188138432.0000 - mse: 188138432.0000 - val_loss: 270438112.0000 - val_mse: 270438112.0000\n",
      "Epoch 77/300\n",
      "611/611 [==============================] - 11s 18ms/step - loss: 187922480.0000 - mse: 187922480.0000 - val_loss: 283363968.0000 - val_mse: 283363968.0000\n",
      "Epoch 78/300\n",
      "611/611 [==============================] - 11s 18ms/step - loss: 187592928.0000 - mse: 187592928.0000 - val_loss: 357581600.0000 - val_mse: 357581600.0000\n",
      "Epoch 79/300\n",
      "611/611 [==============================] - 10s 17ms/step - loss: 187238896.0000 - mse: 187238896.0000 - val_loss: 278779072.0000 - val_mse: 278779072.0000\n",
      "Epoch 80/300\n",
      "611/611 [==============================] - 11s 19ms/step - loss: 186885520.0000 - mse: 186885520.0000 - val_loss: 360420032.0000 - val_mse: 360420032.0000\n",
      "Epoch 81/300\n",
      "611/611 [==============================] - 11s 17ms/step - loss: 186923744.0000 - mse: 186923744.0000 - val_loss: 257798320.0000 - val_mse: 257798320.0000\n",
      "Epoch 82/300\n",
      "611/611 [==============================] - 12s 19ms/step - loss: 186831808.0000 - mse: 186831808.0000 - val_loss: 360168864.0000 - val_mse: 360168864.0000\n",
      "Epoch 83/300\n",
      "611/611 [==============================] - 11s 18ms/step - loss: 186148032.0000 - mse: 186148032.0000 - val_loss: 333589984.0000 - val_mse: 333589984.0000\n",
      "Epoch 84/300\n",
      "611/611 [==============================] - 10s 16ms/step - loss: 186278576.0000 - mse: 186278576.0000 - val_loss: 276771840.0000 - val_mse: 276771840.0000\n",
      "Epoch 85/300\n",
      "611/611 [==============================] - 10s 16ms/step - loss: 186169680.0000 - mse: 186169680.0000 - val_loss: 361288096.0000 - val_mse: 361288096.0000\n",
      "Epoch 86/300\n",
      "611/611 [==============================] - 11s 18ms/step - loss: 185893504.0000 - mse: 185893504.0000 - val_loss: 275298304.0000 - val_mse: 275298304.0000\n",
      "Epoch 87/300\n",
      "611/611 [==============================] - 11s 18ms/step - loss: 185609552.0000 - mse: 185609552.0000 - val_loss: 404100576.0000 - val_mse: 404100576.0000\n",
      "Epoch 88/300\n",
      "611/611 [==============================] - 11s 18ms/step - loss: 185548432.0000 - mse: 185548432.0000 - val_loss: 295675584.0000 - val_mse: 295675584.0000\n",
      "Epoch 89/300\n",
      "611/611 [==============================] - 12s 19ms/step - loss: 185281904.0000 - mse: 185281904.0000 - val_loss: 333885792.0000 - val_mse: 333885792.0000\n",
      "Epoch 90/300\n",
      "611/611 [==============================] - 11s 18ms/step - loss: 185323872.0000 - mse: 185323872.0000 - val_loss: 329513920.0000 - val_mse: 329513920.0000\n",
      "Epoch 91/300\n",
      "611/611 [==============================] - 11s 18ms/step - loss: 184875232.0000 - mse: 184875232.0000 - val_loss: 254811312.0000 - val_mse: 254811312.0000\n",
      "Epoch 92/300\n",
      "611/611 [==============================] - 12s 19ms/step - loss: 184978208.0000 - mse: 184978208.0000 - val_loss: 374651360.0000 - val_mse: 374651360.0000\n",
      "Epoch 93/300\n",
      "611/611 [==============================] - 13s 21ms/step - loss: 185040432.0000 - mse: 185040432.0000 - val_loss: 255000976.0000 - val_mse: 255000976.0000\n",
      "Epoch 94/300\n",
      "611/611 [==============================] - 13s 21ms/step - loss: 184521024.0000 - mse: 184521024.0000 - val_loss: 273511264.0000 - val_mse: 273511264.0000\n",
      "Epoch 95/300\n",
      "611/611 [==============================] - 12s 19ms/step - loss: 184123952.0000 - mse: 184123952.0000 - val_loss: 305581888.0000 - val_mse: 305581888.0000\n",
      "Epoch 96/300\n",
      "611/611 [==============================] - 13s 21ms/step - loss: 184007008.0000 - mse: 184007008.0000 - val_loss: 247179104.0000 - val_mse: 247179104.0000\n",
      "Epoch 97/300\n"
     ]
    },
    {
     "name": "stdout",
     "output_type": "stream",
     "text": [
      "611/611 [==============================] - 11s 19ms/step - loss: 183764368.0000 - mse: 183764368.0000 - val_loss: 281196704.0000 - val_mse: 281196704.0000\n",
      "Epoch 98/300\n",
      "611/611 [==============================] - 11s 19ms/step - loss: 183434736.0000 - mse: 183434736.0000 - val_loss: 247276992.0000 - val_mse: 247276992.0000\n",
      "Epoch 99/300\n",
      "611/611 [==============================] - 12s 19ms/step - loss: 184002480.0000 - mse: 184002480.0000 - val_loss: 307485088.0000 - val_mse: 307485088.0000\n",
      "Epoch 100/300\n",
      "611/611 [==============================] - 10s 17ms/step - loss: 183476976.0000 - mse: 183476976.0000 - val_loss: 353621504.0000 - val_mse: 353621504.0000\n",
      "Epoch 101/300\n",
      "611/611 [==============================] - 10s 16ms/step - loss: 183356080.0000 - mse: 183356080.0000 - val_loss: 304085440.0000 - val_mse: 304085440.0000\n",
      "Epoch 102/300\n",
      "611/611 [==============================] - 11s 18ms/step - loss: 183102592.0000 - mse: 183102592.0000 - val_loss: 317929248.0000 - val_mse: 317929248.0000\n",
      "Epoch 103/300\n",
      "611/611 [==============================] - 11s 17ms/step - loss: 182821344.0000 - mse: 182821344.0000 - val_loss: 259071152.0000 - val_mse: 259071152.0000\n",
      "Epoch 104/300\n",
      "611/611 [==============================] - 11s 18ms/step - loss: 182380640.0000 - mse: 182380640.0000 - val_loss: 336456768.0000 - val_mse: 336456768.0000\n",
      "Epoch 105/300\n",
      "611/611 [==============================] - 11s 19ms/step - loss: 182835072.0000 - mse: 182835072.0000 - val_loss: 289683456.0000 - val_mse: 289683456.0000\n",
      "Epoch 106/300\n",
      "611/611 [==============================] - 10s 17ms/step - loss: 182610752.0000 - mse: 182610752.0000 - val_loss: 269612544.0000 - val_mse: 269612544.0000\n",
      "Epoch 107/300\n",
      "611/611 [==============================] - 11s 17ms/step - loss: 182203632.0000 - mse: 182203632.0000 - val_loss: 272719616.0000 - val_mse: 272719616.0000\n",
      "Epoch 108/300\n",
      "611/611 [==============================] - 11s 18ms/step - loss: 182108752.0000 - mse: 182108752.0000 - val_loss: 320973312.0000 - val_mse: 320973312.0000\n",
      "Epoch 109/300\n",
      "611/611 [==============================] - 11s 18ms/step - loss: 181986272.0000 - mse: 181986272.0000 - val_loss: 343436032.0000 - val_mse: 343436032.0000\n",
      "Epoch 110/300\n",
      "611/611 [==============================] - 11s 18ms/step - loss: 181760864.0000 - mse: 181760864.0000 - val_loss: 298128544.0000 - val_mse: 298128544.0000\n",
      "Epoch 111/300\n",
      "611/611 [==============================] - 10s 17ms/step - loss: 181857232.0000 - mse: 181857232.0000 - val_loss: 273752544.0000 - val_mse: 273752544.0000\n",
      "Epoch 112/300\n",
      "611/611 [==============================] - 10s 16ms/step - loss: 181600848.0000 - mse: 181600848.0000 - val_loss: 319220256.0000 - val_mse: 319220256.0000\n",
      "Epoch 113/300\n",
      "611/611 [==============================] - 10s 17ms/step - loss: 181629856.0000 - mse: 181629856.0000 - val_loss: 292531488.0000 - val_mse: 292531488.0000\n",
      "Epoch 114/300\n",
      "611/611 [==============================] - 11s 17ms/step - loss: 180907552.0000 - mse: 180907552.0000 - val_loss: 304831168.0000 - val_mse: 304831168.0000\n",
      "Epoch 115/300\n",
      "611/611 [==============================] - 11s 18ms/step - loss: 181006544.0000 - mse: 181006544.0000 - val_loss: 336783936.0000 - val_mse: 336783936.0000\n",
      "Epoch 116/300\n",
      "611/611 [==============================] - 11s 19ms/step - loss: 180770096.0000 - mse: 180770096.0000 - val_loss: 322302784.0000 - val_mse: 322302784.0000\n",
      "Epoch 117/300\n",
      "611/611 [==============================] - 11s 17ms/step - loss: 180813456.0000 - mse: 180813456.0000 - val_loss: 310992480.0000 - val_mse: 310992480.0000\n",
      "Epoch 118/300\n",
      "611/611 [==============================] - 10s 17ms/step - loss: 180578464.0000 - mse: 180578464.0000 - val_loss: 386163136.0000 - val_mse: 386163136.0000\n",
      "Epoch 119/300\n",
      "611/611 [==============================] - 11s 18ms/step - loss: 180530128.0000 - mse: 180530128.0000 - val_loss: 323044768.0000 - val_mse: 323044768.0000\n",
      "Epoch 120/300\n",
      "611/611 [==============================] - 11s 17ms/step - loss: 180678096.0000 - mse: 180678096.0000 - val_loss: 386232576.0000 - val_mse: 386232576.0000\n",
      "Epoch 121/300\n",
      "611/611 [==============================] - 11s 19ms/step - loss: 180420112.0000 - mse: 180420112.0000 - val_loss: 246203600.0000 - val_mse: 246203600.0000\n",
      "Epoch 122/300\n",
      "611/611 [==============================] - 11s 18ms/step - loss: 180108096.0000 - mse: 180108096.0000 - val_loss: 338272160.0000 - val_mse: 338272160.0000\n",
      "Epoch 123/300\n",
      "611/611 [==============================] - 10s 17ms/step - loss: 180222256.0000 - mse: 180222256.0000 - val_loss: 239620976.0000 - val_mse: 239620976.0000\n",
      "Epoch 124/300\n",
      "611/611 [==============================] - 11s 17ms/step - loss: 179755312.0000 - mse: 179755312.0000 - val_loss: 243121248.0000 - val_mse: 243121248.0000\n",
      "Epoch 125/300\n",
      "611/611 [==============================] - 11s 17ms/step - loss: 179889280.0000 - mse: 179889280.0000 - val_loss: 256569360.0000 - val_mse: 256569360.0000\n",
      "Epoch 126/300\n",
      "611/611 [==============================] - 11s 18ms/step - loss: 179919072.0000 - mse: 179919072.0000 - val_loss: 319245088.0000 - val_mse: 319245088.0000\n",
      "Epoch 127/300\n",
      "611/611 [==============================] - 12s 20ms/step - loss: 179638208.0000 - mse: 179638208.0000 - val_loss: 316218336.0000 - val_mse: 316218336.0000\n",
      "Epoch 128/300\n",
      "611/611 [==============================] - 11s 17ms/step - loss: 179822688.0000 - mse: 179822688.0000 - val_loss: 263532672.0000 - val_mse: 263532672.0000\n",
      "Epoch 129/300\n",
      "611/611 [==============================] - 10s 17ms/step - loss: 179262576.0000 - mse: 179262576.0000 - val_loss: 368639808.0000 - val_mse: 368639808.0000\n",
      "Epoch 130/300\n",
      "611/611 [==============================] - 13s 21ms/step - loss: 179189888.0000 - mse: 179189888.0000 - val_loss: 325795776.0000 - val_mse: 325795776.0000\n",
      "Epoch 131/300\n",
      "611/611 [==============================] - 13s 21ms/step - loss: 179278160.0000 - mse: 179278160.0000 - val_loss: 254988720.0000 - val_mse: 254988720.0000\n",
      "Epoch 132/300\n",
      "611/611 [==============================] - 11s 18ms/step - loss: 178986256.0000 - mse: 178986256.0000 - val_loss: 257492448.0000 - val_mse: 257492448.0000\n",
      "Epoch 133/300\n",
      "611/611 [==============================] - 12s 19ms/step - loss: 179234560.0000 - mse: 179234560.0000 - val_loss: 245051504.0000 - val_mse: 245051504.0000\n",
      "Epoch 134/300\n",
      "611/611 [==============================] - 11s 17ms/step - loss: 179056608.0000 - mse: 179056608.0000 - val_loss: 263250800.0000 - val_mse: 263250800.0000\n",
      "Epoch 135/300\n",
      "611/611 [==============================] - 12s 19ms/step - loss: 178826400.0000 - mse: 178826400.0000 - val_loss: 378718688.0000 - val_mse: 378718688.0000\n",
      "Epoch 136/300\n",
      "611/611 [==============================] - 13s 21ms/step - loss: 178837776.0000 - mse: 178837776.0000 - val_loss: 290083552.0000 - val_mse: 290083552.0000\n",
      "Epoch 137/300\n",
      "611/611 [==============================] - 13s 21ms/step - loss: 178620400.0000 - mse: 178620400.0000 - val_loss: 262844736.0000 - val_mse: 262844736.0000\n",
      "Epoch 138/300\n",
      "611/611 [==============================] - 13s 21ms/step - loss: 178502832.0000 - mse: 178502832.0000 - val_loss: 335447168.0000 - val_mse: 335447168.0000\n",
      "Epoch 139/300\n",
      "611/611 [==============================] - 12s 19ms/step - loss: 178043840.0000 - mse: 178043840.0000 - val_loss: 288923136.0000 - val_mse: 288923136.0000\n",
      "Epoch 140/300\n",
      "611/611 [==============================] - 12s 20ms/step - loss: 178554656.0000 - mse: 178554656.0000 - val_loss: 251028432.0000 - val_mse: 251028432.0000\n",
      "Epoch 141/300\n",
      "611/611 [==============================] - 12s 20ms/step - loss: 178228928.0000 - mse: 178228928.0000 - val_loss: 288296000.0000 - val_mse: 288296000.0000\n",
      "Epoch 142/300\n",
      "611/611 [==============================] - 13s 21ms/step - loss: 178273072.0000 - mse: 178273072.0000 - val_loss: 274256320.0000 - val_mse: 274256320.0000\n",
      "Epoch 143/300\n",
      "611/611 [==============================] - 13s 21ms/step - loss: 178001728.0000 - mse: 178001728.0000 - val_loss: 340139904.0000 - val_mse: 340139904.0000\n",
      "Epoch 144/300\n",
      "611/611 [==============================] - 12s 20ms/step - loss: 177947440.0000 - mse: 177947440.0000 - val_loss: 264936624.0000 - val_mse: 264936624.0000\n",
      "Epoch 145/300\n"
     ]
    },
    {
     "name": "stdout",
     "output_type": "stream",
     "text": [
      "611/611 [==============================] - 11s 18ms/step - loss: 177917888.0000 - mse: 177917888.0000 - val_loss: 253364896.0000 - val_mse: 253364896.0000\n",
      "Epoch 146/300\n",
      "611/611 [==============================] - 11s 19ms/step - loss: 177711984.0000 - mse: 177711984.0000 - val_loss: 429307808.0000 - val_mse: 429307808.0000\n",
      "Epoch 147/300\n",
      "611/611 [==============================] - 12s 20ms/step - loss: 177632256.0000 - mse: 177632256.0000 - val_loss: 264810720.0000 - val_mse: 264810720.0000\n",
      "Epoch 148/300\n",
      "611/611 [==============================] - 12s 20ms/step - loss: 177670256.0000 - mse: 177670256.0000 - val_loss: 238559984.0000 - val_mse: 238559984.0000\n",
      "Epoch 149/300\n",
      "611/611 [==============================] - 14s 22ms/step - loss: 177646352.0000 - mse: 177646352.0000 - val_loss: 341426400.0000 - val_mse: 341426400.0000\n",
      "Epoch 150/300\n",
      "611/611 [==============================] - 13s 22ms/step - loss: 177324336.0000 - mse: 177324336.0000 - val_loss: 352119936.0000 - val_mse: 352119936.0000\n",
      "Epoch 151/300\n",
      "611/611 [==============================] - 13s 21ms/step - loss: 177282160.0000 - mse: 177282160.0000 - val_loss: 377466176.0000 - val_mse: 377466176.0000\n",
      "Epoch 152/300\n",
      "611/611 [==============================] - 14s 23ms/step - loss: 177196096.0000 - mse: 177196096.0000 - val_loss: 280698272.0000 - val_mse: 280698272.0000\n",
      "Epoch 153/300\n",
      "611/611 [==============================] - 15s 25ms/step - loss: 177040016.0000 - mse: 177040016.0000 - val_loss: 270844384.0000 - val_mse: 270844384.0000\n",
      "Epoch 154/300\n",
      "611/611 [==============================] - 12s 20ms/step - loss: 176830496.0000 - mse: 176830496.0000 - val_loss: 287109152.0000 - val_mse: 287109152.0000\n",
      "Epoch 155/300\n",
      "611/611 [==============================] - 12s 20ms/step - loss: 176912352.0000 - mse: 176912352.0000 - val_loss: 252343184.0000 - val_mse: 252343184.0000\n",
      "Epoch 156/300\n",
      "611/611 [==============================] - 11s 18ms/step - loss: 176976896.0000 - mse: 176976896.0000 - val_loss: 330408544.0000 - val_mse: 330408544.0000\n",
      "Epoch 157/300\n",
      "611/611 [==============================] - 13s 21ms/step - loss: 176477712.0000 - mse: 176477712.0000 - val_loss: 277733920.0000 - val_mse: 277733920.0000\n",
      "Epoch 158/300\n",
      "611/611 [==============================] - 13s 22ms/step - loss: 176569072.0000 - mse: 176569072.0000 - val_loss: 294875040.0000 - val_mse: 294875040.0000\n",
      "Epoch 159/300\n",
      "611/611 [==============================] - 13s 21ms/step - loss: 176738080.0000 - mse: 176738080.0000 - val_loss: 335263232.0000 - val_mse: 335263232.0000\n",
      "Epoch 160/300\n",
      "611/611 [==============================] - 13s 21ms/step - loss: 176702448.0000 - mse: 176702448.0000 - val_loss: 236869680.0000 - val_mse: 236869680.0000\n",
      "Epoch 161/300\n",
      "611/611 [==============================] - 14s 22ms/step - loss: 176731712.0000 - mse: 176731712.0000 - val_loss: 239182944.0000 - val_mse: 239182944.0000\n",
      "Epoch 162/300\n",
      "611/611 [==============================] - 17s 29ms/step - loss: 176494368.0000 - mse: 176494368.0000 - val_loss: 264671792.0000 - val_mse: 264671792.0000TA: 7s - loss:  - ETA: 4s - loss: 181 - ETA: 2s - l\n",
      "Epoch 163/300\n",
      "611/611 [==============================] - 13s 21ms/step - loss: 176244032.0000 - mse: 176244032.0000 - val_loss: 275117216.0000 - val_mse: 275117216.0000\n",
      "Epoch 164/300\n",
      "611/611 [==============================] - 12s 20ms/step - loss: 176131120.0000 - mse: 176131120.0000 - val_loss: 380008160.0000 - val_mse: 380008160.0000\n",
      "Epoch 165/300\n",
      "611/611 [==============================] - 10s 17ms/step - loss: 176363856.0000 - mse: 176363856.0000 - val_loss: 265651328.0000 - val_mse: 265651328.0000\n",
      "Epoch 166/300\n",
      "611/611 [==============================] - 12s 19ms/step - loss: 176398240.0000 - mse: 176398240.0000 - val_loss: 254901168.0000 - val_mse: 254901168.0000\n",
      "Epoch 167/300\n",
      "611/611 [==============================] - 11s 18ms/step - loss: 176255744.0000 - mse: 176255744.0000 - val_loss: 260489648.0000 - val_mse: 260489648.0000\n",
      "Epoch 168/300\n",
      "611/611 [==============================] - 10s 17ms/step - loss: 175826464.0000 - mse: 175826464.0000 - val_loss: 314954720.0000 - val_mse: 314954720.0000\n",
      "Epoch 169/300\n",
      "611/611 [==============================] - 11s 17ms/step - loss: 176009440.0000 - mse: 176009440.0000 - val_loss: 301418816.0000 - val_mse: 301418816.0000\n",
      "Epoch 170/300\n",
      "611/611 [==============================] - 11s 18ms/step - loss: 175800304.0000 - mse: 175800304.0000 - val_loss: 370934304.0000 - val_mse: 370934304.0000\n",
      "Epoch 171/300\n",
      "611/611 [==============================] - 11s 18ms/step - loss: 175705488.0000 - mse: 175705488.0000 - val_loss: 348164096.0000 - val_mse: 348164096.0000\n",
      "Epoch 172/300\n",
      "611/611 [==============================] - 13s 21ms/step - loss: 175529936.0000 - mse: 175529936.0000 - val_loss: 294109952.0000 - val_mse: 294109952.0000\n",
      "Epoch 173/300\n",
      "611/611 [==============================] - 11s 18ms/step - loss: 175812896.0000 - mse: 175812896.0000 - val_loss: 265643008.0000 - val_mse: 265643008.0000\n",
      "Epoch 174/300\n",
      "611/611 [==============================] - 11s 18ms/step - loss: 175706976.0000 - mse: 175706976.0000 - val_loss: 306605632.0000 - val_mse: 306605632.0000\n",
      "Epoch 175/300\n",
      "611/611 [==============================] - 11s 18ms/step - loss: 175711872.0000 - mse: 175711872.0000 - val_loss: 245307840.0000 - val_mse: 245307840.0000 175791600.00\n",
      "Epoch 176/300\n",
      "611/611 [==============================] - 11s 18ms/step - loss: 175184832.0000 - mse: 175184832.0000 - val_loss: 365740640.0000 - val_mse: 365740640.0000\n",
      "Epoch 177/300\n",
      "611/611 [==============================] - 11s 18ms/step - loss: 175502384.0000 - mse: 175502384.0000 - val_loss: 301257664.0000 - val_mse: 301257664.0000\n",
      "Epoch 178/300\n",
      "611/611 [==============================] - 16s 27ms/step - loss: 175496768.0000 - mse: 175496768.0000 - val_loss: 332341536.0000 - val_mse: 332341536.0000\n",
      "Epoch 179/300\n",
      "611/611 [==============================] - 7501s 12s/step - loss: 175050944.0000 - mse: 175050944.0000 - val_loss: 238623472.0000 - val_mse: 238623472.0000\n",
      "Epoch 180/300\n",
      "611/611 [==============================] - 31s 51ms/step - loss: 175143488.0000 - mse: 175143488.0000 - val_loss: 276331584.0000 - val_mse: 276331584.0000\n",
      "Epoch 181/300\n",
      "611/611 [==============================] - 21s 34ms/step - loss: 174919632.0000 - mse: 174919632.0000 - val_loss: 349005376.0000 - val_mse: 349005376.0000\n",
      "Epoch 182/300\n",
      "611/611 [==============================] - 15s 25ms/step - loss: 174910464.0000 - mse: 174910464.0000 - val_loss: 231902112.0000 - val_mse: 231902112.0000\n",
      "Epoch 183/300\n",
      "611/611 [==============================] - 14s 23ms/step - loss: 174812224.0000 - mse: 174812224.0000 - val_loss: 249906480.0000 - val_mse: 249906480.0000\n",
      "Epoch 184/300\n",
      "611/611 [==============================] - 15s 25ms/step - loss: 174862160.0000 - mse: 174862160.0000 - val_loss: 235474864.0000 - val_mse: 235474864.0000\n",
      "Epoch 185/300\n",
      "611/611 [==============================] - 19s 31ms/step - loss: 174701984.0000 - mse: 174701984.0000 - val_loss: 307265952.0000 - val_mse: 307265952.0000\n",
      "Epoch 186/300\n",
      "611/611 [==============================] - 25s 41ms/step - loss: 174469632.0000 - mse: 174469632.0000 - val_loss: 309778656.0000 - val_mse: 309778656.0000\n",
      "Epoch 187/300\n",
      "611/611 [==============================] - 22s 36ms/step - loss: 174626416.0000 - mse: 174626416.0000 - val_loss: 303819808.0000 - val_mse: 303819808.0000\n",
      "Epoch 188/300\n",
      "611/611 [==============================] - 18s 30ms/step - loss: 175021680.0000 - mse: 175021680.0000 - val_loss: 249143664.0000 - val_mse: 249143664.0000\n",
      "Epoch 189/300\n",
      "611/611 [==============================] - 17s 28ms/step - loss: 174372304.0000 - mse: 174372304.0000 - val_loss: 288468704.0000 - val_mse: 288468704.0000\n",
      "Epoch 190/300\n",
      "611/611 [==============================] - 16s 26ms/step - loss: 174341936.0000 - mse: 174341936.0000 - val_loss: 394403584.0000 - val_mse: 394403584.0000\n",
      "Epoch 191/300\n",
      "611/611 [==============================] - 15s 25ms/step - loss: 174496640.0000 - mse: 174496640.0000 - val_loss: 288979008.0000 - val_mse: 288979008.0000\n",
      "Epoch 192/300\n"
     ]
    },
    {
     "name": "stdout",
     "output_type": "stream",
     "text": [
      "611/611 [==============================] - 18s 29ms/step - loss: 174546608.0000 - mse: 174546608.0000 - val_loss: 278311008.0000 - val_mse: 278311008.0000\n",
      "Epoch 193/300\n",
      "611/611 [==============================] - 17s 28ms/step - loss: 174234048.0000 - mse: 174234048.0000 - val_loss: 327478752.0000 - val_mse: 327478752.0000 loss: 173353712.0000 - mse: - ETA: 0s - loss: 174053200.0000 - mse: \n",
      "Epoch 194/300\n",
      "611/611 [==============================] - 15s 25ms/step - loss: 173955920.0000 - mse: 173955920.0000 - val_loss: 384060064.0000 - val_mse: 384060064.0000\n",
      "Epoch 195/300\n",
      "611/611 [==============================] - 15s 25ms/step - loss: 173946544.0000 - mse: 173946544.0000 - val_loss: 319881408.0000 - val_mse: 319881408.0000\n",
      "Epoch 196/300\n",
      "611/611 [==============================] - 16s 26ms/step - loss: 174053984.0000 - mse: 174053984.0000 - val_loss: 347052896.0000 - val_mse: 347052896.0000\n",
      "Epoch 197/300\n",
      "611/611 [==============================] - 15s 25ms/step - loss: 173944976.0000 - mse: 173944976.0000 - val_loss: 361895648.0000 - val_mse: 361895648.0000\n",
      "Epoch 198/300\n",
      "611/611 [==============================] - 13s 21ms/step - loss: 173712384.0000 - mse: 173712384.0000 - val_loss: 383811200.0000 - val_mse: 383811200.0000\n",
      "Epoch 199/300\n",
      "611/611 [==============================] - 13s 21ms/step - loss: 173817504.0000 - mse: 173817504.0000 - val_loss: 257199968.0000 - val_mse: 257199968.00009072.0000 - mse: 173059072.0\n",
      "Epoch 200/300\n",
      "611/611 [==============================] - 15s 25ms/step - loss: 173734016.0000 - mse: 173734016.0000 - val_loss: 250365856.0000 - val_mse: 250365856.0000\n",
      "Epoch 201/300\n",
      "611/611 [==============================] - 15s 25ms/step - loss: 173457440.0000 - mse: 173457440.0000 - val_loss: 318642912.0000 - val_mse: 318642912.0000\n",
      "Epoch 202/300\n",
      "611/611 [==============================] - 15s 25ms/step - loss: 173865520.0000 - mse: 173865520.0000 - val_loss: 306267392.0000 - val_mse: 306267392.0000\n",
      "Epoch 203/300\n",
      "611/611 [==============================] - 15s 25ms/step - loss: 173497216.0000 - mse: 173497216.0000 - val_loss: 283425536.0000 - val_mse: 283425536.0000\n",
      "Epoch 204/300\n",
      "611/611 [==============================] - 13s 21ms/step - loss: 173695376.0000 - mse: 173695376.0000 - val_loss: 389336768.0000 - val_mse: 389336768.0000\n",
      "Epoch 205/300\n",
      "611/611 [==============================] - 13s 21ms/step - loss: 173478944.0000 - mse: 173478944.0000 - val_loss: 306633120.0000 - val_mse: 306633120.0000\n",
      "Epoch 206/300\n",
      "611/611 [==============================] - 12s 20ms/step - loss: 173246192.0000 - mse: 173246192.0000 - val_loss: 256870080.0000 - val_mse: 256870080.0000\n",
      "Epoch 207/300\n",
      "611/611 [==============================] - 12s 20ms/step - loss: 173478624.0000 - mse: 173478624.0000 - val_loss: 299823008.0000 - val_mse: 299823008.0000\n",
      "Epoch 208/300\n",
      "611/611 [==============================] - 13s 21ms/step - loss: 173276272.0000 - mse: 173276272.0000 - val_loss: 312993056.0000 - val_mse: 312993056.0000\n",
      "Epoch 209/300\n",
      "611/611 [==============================] - 14s 22ms/step - loss: 173096368.0000 - mse: 173096368.0000 - val_loss: 301114496.0000 - val_mse: 301114496.0000\n",
      "Epoch 210/300\n",
      "611/611 [==============================] - 13s 22ms/step - loss: 173181152.0000 - mse: 173181152.0000 - val_loss: 342688256.0000 - val_mse: 342688256.0000\n",
      "Epoch 211/300\n",
      "611/611 [==============================] - 14s 22ms/step - loss: 173199280.0000 - mse: 173199280.0000 - val_loss: 277167520.0000 - val_mse: 277167520.0000\n",
      "Epoch 212/300\n",
      "611/611 [==============================] - 13s 22ms/step - loss: 172802672.0000 - mse: 172802672.0000 - val_loss: 235876064.0000 - val_mse: 235876064.0000\n",
      "Epoch 213/300\n",
      "611/611 [==============================] - 13s 21ms/step - loss: 172989744.0000 - mse: 172989744.0000 - val_loss: 273990784.0000 - val_mse: 273990784.0000\n",
      "Epoch 214/300\n",
      "611/611 [==============================] - 13s 21ms/step - loss: 172653328.0000 - mse: 172653328.0000 - val_loss: 249602160.0000 - val_mse: 249602160.0000\n",
      "Epoch 215/300\n",
      "611/611 [==============================] - 14s 23ms/step - loss: 172751152.0000 - mse: 172751152.0000 - val_loss: 257211440.0000 - val_mse: 257211440.0000\n",
      "Epoch 216/300\n",
      "611/611 [==============================] - 14s 23ms/step - loss: 172950800.0000 - mse: 172950800.0000 - val_loss: 297838624.0000 - val_mse: 297838624.0000\n",
      "Epoch 217/300\n",
      "611/611 [==============================] - 14s 23ms/step - loss: 172554976.0000 - mse: 172554976.0000 - val_loss: 362936608.0000 - val_mse: 362936608.0000\n",
      "Epoch 218/300\n",
      "611/611 [==============================] - 17s 28ms/step - loss: 172430016.0000 - mse: 172430016.0000 - val_loss: 387001600.0000 - val_mse: 387001600.0000\n",
      "Epoch 219/300\n",
      "611/611 [==============================] - 14s 23ms/step - loss: 171686992.0000 - mse: 171686992.0000 - val_loss: 269032928.0000 - val_mse: 269032928.0000\n",
      "Epoch 233/300\n",
      "611/611 [==============================] - 14s 23ms/step - loss: 171869008.0000 - mse: 171869008.0000 - val_loss: 314130752.0000 - val_mse: 314130752.0000s - loss: 172140848.0000 - mse: 1721408\n",
      "Epoch 234/300\n",
      "611/611 [==============================] - 14s 22ms/step - loss: 171555680.0000 - mse: 171555680.0000 - val_loss: 231875136.0000 - val_mse: 231875136.0000\n",
      "Epoch 235/300\n",
      "611/611 [==============================] - 14s 22ms/step - loss: 171801408.0000 - mse: 171801408.0000 - val_loss: 235165552.0000 - val_mse: 235165552.0000\n",
      "Epoch 236/300\n",
      "611/611 [==============================] - 13s 22ms/step - loss: 171663360.0000 - mse: 171663360.0000 - val_loss: 243244016.0000 - val_mse: 243244016.0000: 2s\n",
      "Epoch 237/300\n",
      "611/611 [==============================] - 13s 22ms/step - loss: 171687632.0000 - mse: 171687632.0000 - val_loss: 291955232.0000 - val_mse: 291955232.0000ss: 168907888.\n",
      "Epoch 238/300\n",
      "611/611 [==============================] - 14s 23ms/step - loss: 171620032.0000 - mse: 171620032.0000 - val_loss: 336736576.0000 - val_mse: 336736576.0000\n",
      "Epoch 239/300\n",
      "611/611 [==============================] - 13s 22ms/step - loss: 171477024.0000 - mse: 171477024.0000 - val_loss: 251783856.0000 - val_mse: 251783856.0000\n",
      "Epoch 240/300\n",
      "611/611 [==============================] - 14s 23ms/step - loss: 171496640.0000 - mse: 171496640.0000 - val_loss: 273980224.0000 - val_mse: 273980224.0000\n",
      "Epoch 241/300\n",
      "611/611 [==============================] - 14s 22ms/step - loss: 171628608.0000 - mse: 171628608.0000 - val_loss: 261567984.0000 - val_mse: 261567984.0000\n",
      "Epoch 242/300\n",
      "611/611 [==============================] - 13s 22ms/step - loss: 170719856.0000 - mse: 170719856.0000 - val_loss: 306453888.0000 - val_mse: 306453888.0000\n",
      "Epoch 250/300\n",
      "611/611 [==============================] - 13s 22ms/step - loss: 170631872.0000 - mse: 170631872.0000 - val_loss: 264513840.0000 - val_mse: 264513840.0000\n",
      "Epoch 251/300\n",
      "611/611 [==============================] - 13s 22ms/step - loss: 170877040.0000 - mse: 170877040.0000 - val_loss: 306274592.0000 - val_mse: 306274592.0000s - loss: 169965792.0000 - mse: 169 - ETA\n",
      "Epoch 252/300\n",
      "611/611 [==============================] - 13s 21ms/step - loss: 170655168.0000 - mse: 170655168.0000 - val_loss: 240021648.0000 - val_mse: 240021648.0000\n",
      "Epoch 253/300\n",
      "611/611 [==============================] - 13s 22ms/step - loss: 170911296.0000 - mse: 170911296.0000 - val_loss: 354017536.0000 - val_mse: 354017536.0000\n",
      "Epoch 254/300\n",
      "611/611 [==============================] - 13s 22ms/step - loss: 170722768.0000 - mse: 170722768.0000 - val_loss: 349746144.0000 - val_mse: 349746144.0000\n",
      "Epoch 255/300\n",
      "611/611 [==============================] - 13s 22ms/step - loss: 170300656.0000 - mse: 170300656.0000 - val_loss: 268803616.0000 - val_mse: 268803616.0000\n",
      "Epoch 256/300\n",
      "611/611 [==============================] - 15s 24ms/step - loss: 170275936.0000 - mse: 170275936.0000 - val_loss: 244539776.0000 - val_mse: 244539776.0000\n",
      "Epoch 257/300\n",
      "611/611 [==============================] - 14s 23ms/step - loss: 170266656.0000 - mse: 170266656.0000 - val_loss: 274947808.0000 - val_mse: 274947808.0000\n",
      "Epoch 258/300\n",
      "611/611 [==============================] - 13s 21ms/step - loss: 170295904.0000 - mse: 170295904.0000 - val_loss: 240719568.0000 - val_mse: 240719568.0000\n",
      "Epoch 259/300\n"
     ]
    },
    {
     "name": "stdout",
     "output_type": "stream",
     "text": [
      "611/611 [==============================] - 13s 22ms/step - loss: 169550240.0000 - mse: 169550240.0000 - val_loss: 234591216.0000 - val_mse: 234591216.0000\n",
      "Epoch 269/300\n",
      "611/611 [==============================] - 13s 22ms/step - loss: 169824288.0000 - mse: 169824288.0000 - val_loss: 264059280.0000 - val_mse: 264059280.0000\n",
      "Epoch 270/300\n",
      "611/611 [==============================] - 14s 23ms/step - loss: 169532176.0000 - mse: 169532176.0000 - val_loss: 237521904.0000 - val_mse: 237521904.0000\n",
      "Epoch 271/300\n",
      "611/611 [==============================] - 16s 26ms/step - loss: 169360928.0000 - mse: 169360928.0000 - val_loss: 339650848.0000 - val_mse: 339650848.0000\n",
      "Epoch 272/300\n",
      "611/611 [==============================] - 15s 24ms/step - loss: 169150976.0000 - mse: 169150976.0000 - val_loss: 242574672.0000 - val_mse: 242574672.0000s - loss: 170261376.0000 \n",
      "Epoch 273/300\n",
      "611/611 [==============================] - 13s 22ms/step - loss: 169525056.0000 - mse: 169525056.0000 - val_loss: 312544096.0000 - val_mse: 312544096.0000\n",
      "Epoch 274/300\n",
      "611/611 [==============================] - 13s 21ms/step - loss: 169444608.0000 - mse: 169444608.0000 - val_loss: 268371392.0000 - val_mse: 268371392.0000\n",
      "Epoch 275/300\n",
      "611/611 [==============================] - 13s 21ms/step - loss: 169572864.0000 - mse: 169572864.0000 - val_loss: 285576448.0000 - val_mse: 285576448.0000\n",
      "Epoch 276/300\n",
      "611/611 [==============================] - 13s 21ms/step - loss: 169824768.0000 - mse: 169824768.0000 - val_loss: 353328544.0000 - val_mse: 353328544.000020 - ET\n",
      "Epoch 277/300\n",
      "611/611 [==============================] - 13s 21ms/step - loss: 169128688.0000 - mse: 169128688.0000 - val_loss: 276296096.0000 - val_mse: 276296096.0000\n",
      "Epoch 278/300\n",
      "611/611 [==============================] - 15s 25ms/step - loss: 168763312.0000 - mse: 168763312.0000 - val_loss: 257538752.0000 - val_mse: 257538752.0000TA - E\n",
      "Epoch 279/300\n",
      "611/611 [==============================] - 14s 23ms/step - loss: 169023008.0000 - mse: 169023008.0000 - val_loss: 300584800.0000 - val_mse: 300584800.0000\n",
      "Epoch 280/300\n",
      "611/611 [==============================] - 13s 22ms/step - loss: 169196016.0000 - mse: 169196016.0000 - val_loss: 241702624.0000 - val_mse: 241702624.0000\n",
      "Epoch 281/300\n",
      "611/611 [==============================] - 15s 24ms/step - loss: 168823680.0000 - mse: 168823680.0000 - val_loss: 249677392.0000 - val_mse: 249677392.0000\n",
      "Epoch 282/300\n",
      "611/611 [==============================] - 15s 24ms/step - loss: 169028704.0000 - mse: 169028704.0000 - val_loss: 251706688.0000 - val_mse: 251706688.0000\n",
      "Epoch 283/300\n",
      "611/611 [==============================] - 17s 28ms/step - loss: 168799536.0000 - mse: 168799536.0000 - val_loss: 298095392.0000 - val_mse: 298095392.0000\n",
      "Epoch 284/300\n",
      "611/611 [==============================] - 17s 27ms/step - loss: 168804416.0000 - mse: 168804416.0000 - val_loss: 279551904.0000 - val_mse: 279551904.0000\n",
      "Epoch 285/300\n",
      "611/611 [==============================] - 16s 25ms/step - loss: 168345392.0000 - mse: 168345392.0000 - val_loss: 304854528.0000 - val_mse: 304854528.000028.0000\n",
      "Epoch 286/300\n",
      "611/611 [==============================] - 16s 27ms/step - loss: 168652720.0000 - mse: 168652720.0000 - val_loss: 290192448.0000 - val_mse: 290192448.0000\n",
      "Epoch 287/300\n",
      "611/611 [==============================] - 17s 28ms/step - loss: 168034608.0000 - mse: 168034608.0000 - val_loss: 237274656.0000 - val_mse: 237274656.00007104.0000 - m - ETA: 2s - loss: 169272448.0000 - mse: 1 - ETA: 1s - loss: 16811\n",
      "Epoch 288/300\n",
      "611/611 [==============================] - 17s 27ms/step - loss: 168237280.0000 - mse: 168237280.0000 - val_loss: 325829632.0000 - val_mse: 325829632.0000 - loss\n",
      "Epoch 289/300\n",
      "611/611 [==============================] - 15s 25ms/step - loss: 168215488.0000 - mse: 168215488.0000 - val_loss: 280610368.0000 - val_mse: 280610368.0000\n",
      "Epoch 290/300\n",
      "611/611 [==============================] - 17s 29ms/step - loss: 168156144.0000 - mse: 168156144.0000 - val_loss: 297333280.0000 - val_mse: 297333280.0000.0000 - mse: 167733984.0 - ETA: 5s - loss: 167297 - ETA: 0s - loss: 168671280.0000 - mse: 168671280\n",
      "Epoch 291/300\n",
      "611/611 [==============================] - 17s 28ms/step - loss: 167665872.0000 - mse: 167665872.0000 - val_loss: 226273888.0000 - val_mse: 226273888.0000loss: 166731952.00\n",
      "Epoch 292/300\n",
      "611/611 [==============================] - 17s 28ms/step - loss: 167750624.0000 - mse: 167750624.0000 - val_loss: 320085280.0000 - val_mse: 320085280.0000\n",
      "Epoch 293/300\n",
      "611/611 [==============================] - 14s 23ms/step - loss: 167913152.0000 - mse: 167913152.0000 - val_loss: 286690048.0000 - val_mse: 286690048.0000\n",
      "Epoch 294/300\n",
      "611/611 [==============================] - 14s 23ms/step - loss: 167341760.0000 - mse: 167341760.0000 - val_loss: 331036896.0000 - val_mse: 331036896.0000\n",
      "Epoch 295/300\n",
      "611/611 [==============================] - 18s 30ms/step - loss: 167575408.0000 - mse: 167575408.0000 - val_loss: 271316288.0000 - val_mse: 271316288.0000\n",
      "Epoch 296/300\n",
      "611/611 [==============================] - 14s 22ms/step - loss: 167726240.0000 - mse: 167726240.0000 - val_loss: 231540080.0000 - val_mse: 231540080.0000\n",
      "Epoch 297/300\n",
      "611/611 [==============================] - 13s 22ms/step - loss: 167347024.0000 - mse: 167347024.0000 - val_loss: 267823216.0000 - val_mse: 267823216.0000\n",
      "Epoch 298/300\n",
      "611/611 [==============================] - 14s 24ms/step - loss: 167149568.0000 - mse: 167149568.0000 - val_loss: 252001584.0000 - val_mse: 252001584.0000\n",
      "Epoch 299/300\n",
      "611/611 [==============================] - 14s 22ms/step - loss: 167199504.0000 - mse: 167199504.0000 - val_loss: 248715936.0000 - val_mse: 248715936.0000- E - ETA: 3s - loss: 163084784.0000 - mse: 163084784.0\n",
      "Epoch 300/300\n",
      "611/611 [==============================] - 14s 23ms/step - loss: 166704224.0000 - mse: 166704224.0000 - val_loss: 325885344.0000 - val_mse: 325885344.0000\n"
     ]
    }
   ],
   "source": [
    "history = model.fit(train_tune_cbe, train_tune_y, epochs=300, validation_data = (val_cbe, val_y), batch_size = 512)"
   ]
  },
  {
   "cell_type": "markdown",
   "metadata": {},
   "source": [
    "### 2.3 어떤문제가 발생했는지 설명해주세요.\n",
    "\n",
    "- 꼭 써주세요.\n",
    "\n",
    "힌트\n",
    "\n",
    "- 이전에 lgbm 같은 경우 validation mse가 $1.2 * 10^8$ 이였습니다."
   ]
  },
  {
   "cell_type": "markdown",
   "metadata": {},
   "source": [
    "### 2.4 더 좋은 성능의 딥러닝 모델을 위해\n",
    "\n",
    "- test set에 대해 딥러닝 모형의 성능을 평가하세요.\n",
    "- dense 조절, batch_size 조절, regularization, dropout, batch normalization 등의 방법을 활용해 최고의 성능을 얻어보세요.\n",
    "- 만약 성능의 향상이 어렵다면, 다양한 방법들을 시도하는 것을 목표로 해주세요!"
   ]
  },
  {
   "cell_type": "code",
   "execution_count": 23,
   "metadata": {},
   "outputs": [],
   "source": [
    "feature_list = list(train_x.columns)\n",
    "\n",
    "CBE_encoder = CatBoostEncoder()\n",
    "train_cbe = CBE_encoder.fit_transform(train_x[feature_list], train_y)\n",
    "test_cbe = CBE_encoder.transform(test_x[feature_list])"
   ]
  },
  {
   "cell_type": "code",
   "execution_count": 24,
   "metadata": {},
   "outputs": [
    {
     "data": {
      "image/png": "[encoded data removed]",
      "text/plain": [
       "<Figure size 432x288 with 1 Axes>"
      ]
     },
     "metadata": {
      "needs_background": "light"
     },
     "output_type": "display_data"
    }
   ],
   "source": [
    "# 훈련과 검증 손실\n",
    "import matplotlib.pyplot as plt\n",
    "\n",
    "history_dict = history.history\n",
    "loss = history_dict['loss']\n",
    "val_loss = history_dict['val_loss']\n",
    "\n",
    "epochs = range(1, len(loss) + 1)\n",
    "\n",
    "plt.plot(epochs, loss, 'bo', label='Training loss')  # ‘bo’는 파란색 점을 의미합니다.\n",
    "plt.plot(epochs, val_loss, 'b', label='Validation loss') # ‘b’는 파란색 실선을 의미합니다.\n",
    "plt.title('Training and validation loss')\n",
    "plt.xlabel('Epochs')\n",
    "plt.ylabel('Loss')\n",
    "plt.legend()\n",
    "\n",
    "plt.show()"
   ]
  },
  {
   "cell_type": "code",
   "execution_count": 28,
   "metadata": {},
   "outputs": [],
   "source": [
    "test_pred=model.predict(test_cbe)"
   ]
  },
  {
   "cell_type": "code",
   "execution_count": 33,
   "metadata": {},
   "outputs": [],
   "source": [
    "#from sklearn.metrics import accuracy_score\n",
    "#accuracy_score(test_pred,test_y)"
   ]
  }
 ],
 "metadata": {
  "kernelspec": {
   "display_name": "Python 3",
   "language": "python",
   "name": "python3"
  },
  "language_info": {
   "codemirror_mode": {
    "name": "ipython",
    "version": 3
   },
   "file_extension": ".py",
   "mimetype": "text/x-python",
   "name": "python",
   "nbconvert_exporter": "python",
   "pygments_lexer": "ipython3",
   "version": "3.8.8"
  }
 },
 "nbformat": 4,
 "nbformat_minor": 4
}
